{
 "cells": [
  {
   "attachments": {},
   "cell_type": "markdown",
   "metadata": {},
   "source": [
    "# JSON и mosmetro.json"
   ]
  },
  {
   "cell_type": "code",
   "execution_count": 7,
   "metadata": {},
   "outputs": [],
   "source": [
    "import json"
   ]
  },
  {
   "cell_type": "code",
   "execution_count": 8,
   "metadata": {},
   "outputs": [],
   "source": [
    "file_mosmetro_json = 'mosmetro.json'"
   ]
  },
  {
   "attachments": {},
   "cell_type": "markdown",
   "metadata": {},
   "source": [
    "## Прочитать из JSON"
   ]
  },
  {
   "cell_type": "code",
   "execution_count": 9,
   "metadata": {},
   "outputs": [
    {
     "name": "stdout",
     "output_type": "stream",
     "text": [
      "{'ID': 136, 'Station': 'Третьяковская', 'Line': 'Калининская линия', 'AdmArea': 'Центральный административный округ', 'District': 'район Замоскворечье', 'MCDStation': [], 'AeroexpressStation': [], 'RailwayStation': [], 'ObjectStatus': 'действует', 'global_id': 58701962}\n",
      "Калининская линия\n"
     ]
    }
   ],
   "source": [
    "with open(file_mosmetro_json) as f:\n",
    "    d = json.load(f)\n",
    "print(d[0])\n",
    "print(d[0]['Line'])"
   ]
  },
  {
   "cell_type": "code",
   "execution_count": 10,
   "metadata": {},
   "outputs": [
    {
     "data": {
      "text/plain": [
       "{'ID': 136,\n",
       " 'Station': 'Третьяковская',\n",
       " 'Line': 'Калининская линия',\n",
       " 'AdmArea': 'Центральный административный округ',\n",
       " 'District': 'район Замоскворечье',\n",
       " 'MCDStation': [],\n",
       " 'AeroexpressStation': [],\n",
       " 'RailwayStation': [],\n",
       " 'ObjectStatus': 'действует',\n",
       " 'global_id': 58701962}"
      ]
     },
     "execution_count": 10,
     "metadata": {},
     "output_type": "execute_result"
    }
   ],
   "source": [
    "d[0]"
   ]
  },
  {
   "cell_type": "code",
   "execution_count": 11,
   "metadata": {},
   "outputs": [
    {
     "data": {
      "text/plain": [
       "{'ID': 136,\n",
       " 'Station': 'Третьяковская',\n",
       " 'Line': 'Калининская линия',\n",
       " 'AdmArea': 'Центральный административный округ',\n",
       " 'District': 'район Замоскворечье',\n",
       " 'MCDStation': [],\n",
       " 'AeroexpressStation': [],\n",
       " 'RailwayStation': [],\n",
       " 'ObjectStatus': 'действует',\n",
       " 'global_id': 58701962}"
      ]
     },
     "metadata": {},
     "output_type": "display_data"
    }
   ],
   "source": [
    "from IPython.display import display\n",
    "display(d[0])"
   ]
  },
  {
   "cell_type": "code",
   "execution_count": 12,
   "metadata": {},
   "outputs": [
    {
     "name": "stdout",
     "output_type": "stream",
     "text": [
      "{'AdmArea': 'Центральный административный округ',\n",
      " 'AeroexpressStation': [],\n",
      " 'District': 'район Замоскворечье',\n",
      " 'ID': 136,\n",
      " 'Line': 'Калининская линия',\n",
      " 'MCDStation': [],\n",
      " 'ObjectStatus': 'действует',\n",
      " 'RailwayStation': [],\n",
      " 'Station': 'Третьяковская',\n",
      " 'global_id': 58701962}\n"
     ]
    }
   ],
   "source": [
    "from pprint import pprint\n",
    "pprint(d[0])"
   ]
  }
 ],
 "metadata": {
  "kernelspec": {
   "display_name": "Python 3",
   "language": "python",
   "name": "python3"
  },
  "language_info": {
   "codemirror_mode": {
    "name": "ipython",
    "version": 3
   },
   "file_extension": ".py",
   "mimetype": "text/x-python",
   "name": "python",
   "nbconvert_exporter": "python",
   "pygments_lexer": "ipython3",
   "version": "3.9.6 (tags/v3.9.6:db3ff76, Jun 28 2021, 15:26:21) [MSC v.1929 64 bit (AMD64)]"
  },
  "orig_nbformat": 4,
  "vscode": {
   "interpreter": {
    "hash": "0d591c6e422414675974e227c13f5382000c440fedd3c5006ef2be5d887f0ba7"
   }
  }
 },
 "nbformat": 4,
 "nbformat_minor": 2
}
