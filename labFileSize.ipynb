{
 "cells": [
  {
   "cell_type": "markdown",
   "metadata": {},
   "source": [
    "# HW:\n"
   ]
  },
  {
   "cell_type": "code",
   "execution_count": 2,
   "metadata": {},
   "outputs": [],
   "source": [
    "from prettytable import PrettyTable\n",
    "import os\n",
    "import math"
   ]
  },
  {
   "cell_type": "code",
   "execution_count": 3,
   "metadata": {},
   "outputs": [],
   "source": [
    "def pretty_size(bytes: int) -> str:\n",
    "    sizes_name = ['B', 'KB', 'MB', 'GB', 'TB']\n",
    "    value = math.floor(math.log(bytes, 1024))\n",
    "    return f\"{bytes / (1024 ** value):.2f} {sizes_name[value]}\""
   ]
  },
  {
   "cell_type": "code",
   "execution_count": 4,
   "metadata": {},
   "outputs": [
    {
     "name": "stdout",
     "output_type": "stream",
     "text": [
      "c:\\Универ\\Современные технологии программирования\\питон\\mp_2022_224-322_python\n",
      "+----------------------------+---------------+-----------+\n",
      "|         Имя файла          | Размер (байт) |   Размер  |\n",
      "+----------------------------+---------------+-----------+\n",
      "|          ha.ipynb          |      634      | 634.00 KB |\n",
      "|     labAlphabet.ipynb      |      5575     |  5.44 MB  |\n",
      "|      labAssert.ipynb       |      5174     |  5.05 MB  |\n",
      "|      labColor16.ipynb      |      5879     |  5.74 MB  |\n",
      "|       labColor16.py        |      687      | 687.00 KB |\n",
      "|       labColor256.py       |      448      | 448.00 KB |\n",
      "|    labDrawAsciiTable.py    |      219      | 219.00 KB |\n",
      "|    labDrawBomberman.py     |      696      | 696.00 KB |\n",
      "|     labDrawChess.ipynb     |      2552     |  2.49 MB  |\n",
      "|      labDrawChess.py       |      945      | 945.00 KB |\n",
      "|       labDrawMaze.py       |      609      | 609.00 KB |\n",
      "|    labDrawRectangle.py     |      676      | 676.00 KB |\n",
      "|     labDrawSnake.ipynb     |      3130     |  3.06 MB  |\n",
      "|      labDrawSnake.py       |      376      | 376.00 KB |\n",
      "|  LabFileCSV-cities.ipynb   |     425313    | 415.34 MB |\n",
      "|      labFileCSV.ipynb      |      5216     |  5.09 MB  |\n",
      "|     labFileInput.ipynb     |      3139     |  3.07 MB  |\n",
      "|     labFileSize.ipynb      |      5503     |  5.37 MB  |\n",
      "|      labFileTXT.ipynb      |     12299     |  12.01 MB |\n",
      "|        labFor.ipynb        |      3255     |  3.18 MB  |\n",
      "|       labFunc.ipynb        |      5661     |  5.53 MB  |\n",
      "|     labFuncArgs.ipynb      |      3426     |  3.35 MB  |\n",
      "|    labFuncLambda.ipynb     |      2491     |  2.43 MB  |\n",
      "|   labFuncVariables.ipynb   |     21754     |  21.24 MB |\n",
      "|  labGameConverterByte.py   |      2084     |  2.04 MB  |\n",
      "|        labHello.py         |      334      | 334.00 KB |\n",
      "|          labIf.py          |      331      | 331.00 KB |\n",
      "|      labJupyter.ipynb      |      9109     |  8.90 MB  |\n",
      "|       labLabirint.py       |       61      |  61.00 KB |\n",
      "|       labList.ipynb        |     11482     |  11.21 MB |\n",
      "|      labListGen.ipynb      |      6989     |  6.83 MB  |\n",
      "|     labMatrixRotate.py     |      2764     |  2.70 MB  |\n",
      "|      labNaming.ipynb       |      2064     |  2.02 MB  |\n",
      "|    labObjectCopy.ipynb     |      3414     |  3.33 MB  |\n",
      "|    labObjectType.ipynb     |      3006     |  2.94 MB  |\n",
      "|        labOS.ipynb         |      9269     |  9.05 MB  |\n",
      "|    labPrettyTable.ipynb    |     14692     |  14.35 MB |\n",
      "| labPrettyTable_style.ipynb |      7747     |  7.57 MB  |\n",
      "|       labQueue.ipynb       |      3357     |  3.28 MB  |\n",
      "|      labRandom.ipynb       |     10500     |  10.25 MB |\n",
      "|        labRandom.py        |      763      | 763.00 KB |\n",
      "|        labRange.py         |      190      | 190.00 KB |\n",
      "|        labSet.ipynb        |     10931     |  10.67 MB |\n",
      "|      labSQLite.ipynb       |     19601     |  19.14 MB |\n",
      "|        labStr.ipynb        |     10633     |  10.38 MB |\n",
      "|     labStrFormat.ipynb     |      7022     |  6.86 MB  |\n",
      "|     labTempFile.ipynb      |      2991     |  2.92 MB  |\n",
      "|  labTOPCharsInFile.ipynb   |      7666     |  7.49 MB  |\n",
      "|   labTOPFilesInDir.ipynb   |      6683     |  6.53 MB  |\n",
      "|        labTry.ipynb        |      3155     |  3.08 MB  |\n",
      "|       labTuple.ipynb       |     10287     |  10.05 MB |\n",
      "|         README.md          |       37      |  37.00 KB |\n",
      "|        _Hotkeys.txt        |      266      | 266.00 KB |\n",
      "+----------------------------+---------------+-----------+\n"
     ]
    }
   ],
   "source": [
    "pt = PrettyTable()\n",
    "pt.field_names = ['Имя файла','Размер (байт)','Размер']\n",
    "\n",
    "path = input('Введите путь до каталога[по умолчанию будет установлен текущий]')\n",
    "path = '.' if len(path) == 0 else path\n",
    "files = [file for file in os.listdir(path) if os.path.isfile(file)]\n",
    "\n",
    "for file in files:\n",
    "    f = os.stat(file)\n",
    "    size = f.st_size\n",
    "    pt.add_row([file, size, pretty_size(size)])\n",
    "print(os.path.abspath(path))\n",
    "print(pt)\n",
    "\n"
   ]
  }
 ],
 "metadata": {
  "kernelspec": {
   "display_name": "Python 3.9.6 64-bit",
   "language": "python",
   "name": "python3"
  },
  "language_info": {
   "codemirror_mode": {
    "name": "ipython",
    "version": 3
   },
   "file_extension": ".py",
   "mimetype": "text/x-python",
   "name": "python",
   "nbconvert_exporter": "python",
   "pygments_lexer": "ipython3",
   "version": "3.9.6 (tags/v3.9.6:db3ff76, Jun 28 2021, 15:26:21) [MSC v.1929 64 bit (AMD64)]"
  },
  "orig_nbformat": 4,
  "vscode": {
   "interpreter": {
    "hash": "0d591c6e422414675974e227c13f5382000c440fedd3c5006ef2be5d887f0ba7"
   }
  }
 },
 "nbformat": 4,
 "nbformat_minor": 2
}
