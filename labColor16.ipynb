{
 "cells": [
  {
   "cell_type": "code",
   "execution_count": 1,
   "metadata": {},
   "outputs": [
    {
     "name": "stdout",
     "output_type": "stream",
     "text": [
      "effects=['\\x1b[0m', '\\x1b[1m', '\\x1b[2m', '\\x1b[3m', '\\x1b[4m', '\\x1b[5m', '\\x1b[6m', '\\x1b[7m']\n",
      "text_colors={30: '\\x1b[30m', 31: '\\x1b[31m', 32: '\\x1b[32m', 33: '\\x1b[33m', 34: '\\x1b[34m', 35: '\\x1b[35m', 36: '\\x1b[36m', 37: '\\x1b[37m'}\n",
      "console_colors={40: '\\x1b[40m', 41: '\\x1b[41m', 42: '\\x1b[42m', 43: '\\x1b[43m', 44: '\\x1b[44m', 45: '\\x1b[45m', 46: '\\x1b[46m', 47: '\\x1b[47m'}\n"
     ]
    }
   ],
   "source": [
    "effects = [f'\\033[{i}m' for i in range(0,8)]\n",
    "print(f'{effects=}')\n",
    "text_colors = {i: f'\\033[{i}m' for i in range(30,38)}\n",
    "print(f'{text_colors=}')\n",
    "console_colors = {i: f'\\033[{i}m' for i in range(40,48)}\n",
    "print(f'{console_colors=}')"
   ]
  },
  {
   "cell_type": "code",
   "execution_count": 2,
   "metadata": {},
   "outputs": [
    {
     "name": "stdout",
     "output_type": "stream",
     "text": [
      "\u001b[30m\u001b[40m30:40 \u001b[30m\u001b[40m\u001b[30m\u001b[41m30:41 \u001b[30m\u001b[40m\u001b[30m\u001b[42m30:42 \u001b[30m\u001b[40m\u001b[30m\u001b[43m30:43 \u001b[30m\u001b[40m\u001b[30m\u001b[44m30:44 \u001b[30m\u001b[40m\u001b[30m\u001b[45m30:45 \u001b[30m\u001b[40m\u001b[30m\u001b[46m30:46 \u001b[30m\u001b[40m\u001b[30m\u001b[47m30:47 \u001b[30m\u001b[40m\n",
      "\u001b[31m\u001b[40m31:40 \u001b[30m\u001b[40m\u001b[31m\u001b[41m31:41 \u001b[30m\u001b[40m\u001b[31m\u001b[42m31:42 \u001b[30m\u001b[40m\u001b[31m\u001b[43m31:43 \u001b[30m\u001b[40m\u001b[31m\u001b[44m31:44 \u001b[30m\u001b[40m\u001b[31m\u001b[45m31:45 \u001b[30m\u001b[40m\u001b[31m\u001b[46m31:46 \u001b[30m\u001b[40m\u001b[31m\u001b[47m31:47 \u001b[30m\u001b[40m\n",
      "\u001b[32m\u001b[40m32:40 \u001b[30m\u001b[40m\u001b[32m\u001b[41m32:41 \u001b[30m\u001b[40m\u001b[32m\u001b[42m32:42 \u001b[30m\u001b[40m\u001b[32m\u001b[43m32:43 \u001b[30m\u001b[40m\u001b[32m\u001b[44m32:44 \u001b[30m\u001b[40m\u001b[32m\u001b[45m32:45 \u001b[30m\u001b[40m\u001b[32m\u001b[46m32:46 \u001b[30m\u001b[40m\u001b[32m\u001b[47m32:47 \u001b[30m\u001b[40m\n",
      "\u001b[33m\u001b[40m33:40 \u001b[30m\u001b[40m\u001b[33m\u001b[41m33:41 \u001b[30m\u001b[40m\u001b[33m\u001b[42m33:42 \u001b[30m\u001b[40m\u001b[33m\u001b[43m33:43 \u001b[30m\u001b[40m\u001b[33m\u001b[44m33:44 \u001b[30m\u001b[40m\u001b[33m\u001b[45m33:45 \u001b[30m\u001b[40m\u001b[33m\u001b[46m33:46 \u001b[30m\u001b[40m\u001b[33m\u001b[47m33:47 \u001b[30m\u001b[40m\n",
      "\u001b[34m\u001b[40m34:40 \u001b[30m\u001b[40m\u001b[34m\u001b[41m34:41 \u001b[30m\u001b[40m\u001b[34m\u001b[42m34:42 \u001b[30m\u001b[40m\u001b[34m\u001b[43m34:43 \u001b[30m\u001b[40m\u001b[34m\u001b[44m34:44 \u001b[30m\u001b[40m\u001b[34m\u001b[45m34:45 \u001b[30m\u001b[40m\u001b[34m\u001b[46m34:46 \u001b[30m\u001b[40m\u001b[34m\u001b[47m34:47 \u001b[30m\u001b[40m\n",
      "\u001b[35m\u001b[40m35:40 \u001b[30m\u001b[40m\u001b[35m\u001b[41m35:41 \u001b[30m\u001b[40m\u001b[35m\u001b[42m35:42 \u001b[30m\u001b[40m\u001b[35m\u001b[43m35:43 \u001b[30m\u001b[40m\u001b[35m\u001b[44m35:44 \u001b[30m\u001b[40m\u001b[35m\u001b[45m35:45 \u001b[30m\u001b[40m\u001b[35m\u001b[46m35:46 \u001b[30m\u001b[40m\u001b[35m\u001b[47m35:47 \u001b[30m\u001b[40m\n",
      "\u001b[36m\u001b[40m36:40 \u001b[30m\u001b[40m\u001b[36m\u001b[41m36:41 \u001b[30m\u001b[40m\u001b[36m\u001b[42m36:42 \u001b[30m\u001b[40m\u001b[36m\u001b[43m36:43 \u001b[30m\u001b[40m\u001b[36m\u001b[44m36:44 \u001b[30m\u001b[40m\u001b[36m\u001b[45m36:45 \u001b[30m\u001b[40m\u001b[36m\u001b[46m36:46 \u001b[30m\u001b[40m\u001b[36m\u001b[47m36:47 \u001b[30m\u001b[40m\n",
      "\u001b[37m\u001b[40m37:40 \u001b[30m\u001b[40m\u001b[37m\u001b[41m37:41 \u001b[30m\u001b[40m\u001b[37m\u001b[42m37:42 \u001b[30m\u001b[40m\u001b[37m\u001b[43m37:43 \u001b[30m\u001b[40m\u001b[37m\u001b[44m37:44 \u001b[30m\u001b[40m\u001b[37m\u001b[45m37:45 \u001b[30m\u001b[40m\u001b[37m\u001b[46m37:46 \u001b[30m\u001b[40m\u001b[37m\u001b[47m37:47 \u001b[30m\u001b[40m\n"
     ]
    }
   ],
   "source": [
    "for text_color in text_colors.items():\n",
    "    for console_color in console_colors.items():\n",
    "        print(f'{text_color[1]}{console_color[1]}{text_color[0]}:{console_color[0]}',end=' ')\n",
    "        print(f'{text_colors[30]}{console_colors[40]}',end='')\n",
    "    print()"
   ]
  },
  {
   "cell_type": "code",
   "execution_count": 3,
   "metadata": {},
   "outputs": [
    {
     "name": "stdout",
     "output_type": "stream",
     "text": [
      "effect 0: \u001b[0mabc\n",
      "\u001b[0meffect 1: \u001b[1mabc\n",
      "\u001b[0meffect 2: \u001b[2mabc\n",
      "\u001b[0meffect 3: \u001b[3mabc\n",
      "\u001b[0meffect 4: \u001b[4mabc\n",
      "\u001b[0meffect 5: \u001b[5mabc\n",
      "\u001b[0meffect 6: \u001b[6mabc\n",
      "\u001b[0meffect 7: \u001b[7mabc\n",
      "\u001b[0m\u001b[30m\u001b[40m\u001b[0m\n"
     ]
    }
   ],
   "source": [
    "for index, effect in enumerate(effects):\n",
    "    print(f'effect {index}: {effect}abc')\n",
    "    print(f'{effects[0]}',end='')\n",
    "\n",
    "print(f'{text_colors[30]}{console_colors[40]}{effects[0]}')"
   ]
  }
 ],
 "metadata": {
  "kernelspec": {
   "display_name": "Python 3.9.6 64-bit",
   "language": "python",
   "name": "python3"
  },
  "language_info": {
   "codemirror_mode": {
    "name": "ipython",
    "version": 3
   },
   "file_extension": ".py",
   "mimetype": "text/x-python",
   "name": "python",
   "nbconvert_exporter": "python",
   "pygments_lexer": "ipython3",
   "version": "3.9.6"
  },
  "orig_nbformat": 4,
  "vscode": {
   "interpreter": {
    "hash": "0d591c6e422414675974e227c13f5382000c440fedd3c5006ef2be5d887f0ba7"
   }
  }
 },
 "nbformat": 4,
 "nbformat_minor": 2
}
