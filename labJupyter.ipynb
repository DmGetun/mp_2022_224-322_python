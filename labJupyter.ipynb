{
 "cells": [
  {
   "cell_type": "markdown",
   "metadata": {},
   "source": [
    "# Магические возможности Jupyter Notebook\n",
    "\n",
    "* Горячие клавиши\n",
    "    - в режиме навигации (ячеек)\n",
    "    - в режиме редактирования\n",
    "* Команды\n",
    "    * ! - начало командной строки\n",
    "    * % - начало строчной команды\n",
    "    * %% - начало блочной (ячеечной) команды"
   ]
  },
  {
   "cell_type": "code",
   "execution_count": null,
   "metadata": {},
   "outputs": [],
   "source": []
  },
  {
   "cell_type": "code",
   "execution_count": null,
   "metadata": {},
   "outputs": [],
   "source": [
    "\"\"\"\n",
    "В режиме навигации\n",
    "A -\n",
    "B -\n",
    "M - сделать markdown\n",
    "Y - сделать код\n",
    "D+D - удалить\n",
    "\"\"\"\n",
    "pass"
   ]
  },
  {
   "cell_type": "code",
   "execution_count": null,
   "metadata": {},
   "outputs": [],
   "source": [
    "# qwerty"
   ]
  },
  {
   "cell_type": "markdown",
   "metadata": {},
   "source": [
    "## Команды "
   ]
  },
  {
   "cell_type": "code",
   "execution_count": 6,
   "metadata": {},
   "outputs": [
    {
     "name": "stderr",
     "output_type": "stream",
     "text": [
      "\"[jupyter]\" �� ���� ����७��� ��� ���譥�\n",
      "��������, �ᯮ��塞�� �ணࠬ��� ��� ������ 䠩���.\n"
     ]
    }
   ],
   "source": [
    "![jupyter](https://bipbap.ru/wp-content/uploads/2017/04/0_7c779_5df17311_orig.jpg)"
   ]
  },
  {
   "cell_type": "code",
   "execution_count": 4,
   "metadata": {},
   "outputs": [
    {
     "name": "stdout",
     "output_type": "stream",
     "text": [
      "\n",
      "Microsoft Windows [Version 10.0.22000.1219]\n"
     ]
    }
   ],
   "source": [
    "!ver"
   ]
  },
  {
   "cell_type": "code",
   "execution_count": 8,
   "metadata": {},
   "outputs": [
    {
     "data": {
      "text/plain": [
       "['PATH=c:\\\\Users\\\\Admin\\\\AppData\\\\Local\\\\Programs\\\\Python\\\\Python39;C:\\\\Program Files (x86)\\\\VMware\\\\VMware Player\\\\bin\\\\;C:\\\\Program Files (x86)\\\\Razer Chroma SDK\\\\bin;C:\\\\Program Files\\\\Razer Chroma SDK\\\\bin;C:\\\\Program Files (x86)\\\\Razer\\\\ChromaBroadcast\\\\bin;C:\\\\Program Files\\\\Razer\\\\ChromaBroadcast\\\\bin;C:\\\\ProgramData\\\\Oracle\\\\Java\\\\javapath;C:\\\\Program Files\\\\Common Files\\\\Oracle\\\\Java\\\\javapath;C:\\\\Program Files (x86)\\\\Common Files\\\\Oracle\\\\Java\\\\javapath;C:\\\\Windows\\\\system32;C:\\\\Windows;C:\\\\Windows\\\\System32\\\\Wbem;C:\\\\Windows\\\\System32\\\\WindowsPowerShell\\\\v1.0\\\\;C:\\\\Windows\\\\System32\\\\OpenSSH\\\\;C:\\\\Program Files\\\\Microsoft SQL Server\\\\130\\\\Tools\\\\Binn\\\\;C:\\\\Program Files\\\\Git\\\\cmd;C:\\\\Windows\\\\system32\\\\config\\\\systemprofile\\\\AppData\\\\Local\\\\Microsoft\\\\WindowsApps;C:\\\\Program Files\\\\nodejs\\\\;C:\\\\Program Files (x86)\\\\010 Editor;;C:\\\\WINDOWS\\\\system32;C:\\\\WINDOWS;C:\\\\WINDOWS\\\\System32\\\\Wbem;C:\\\\WINDOWS\\\\System32\\\\WindowsPowerShell\\\\v1.0\\\\;C:\\\\WINDOWS\\\\System32\\\\OpenSSH\\\\;C:\\\\Program Files\\\\Microsoft SQL Server\\\\150\\\\Tools\\\\Binn\\\\;C:\\\\Program Files\\\\PuTTY\\\\;C:\\\\Users\\\\Admin\\\\.cargo\\\\bin;C:\\\\Users\\\\Admin\\\\AppData\\\\Local\\\\Programs\\\\Python\\\\Python39\\\\Scripts\\\\;C:\\\\Users\\\\Admin\\\\AppData\\\\Local\\\\Programs\\\\Python\\\\Python39\\\\;C:\\\\Users\\\\Admin\\\\AppData\\\\Local\\\\Microsoft\\\\WindowsApps;C:\\\\Users\\\\Admin\\\\AppData\\\\Local\\\\Programs\\\\Microsoft VS Code\\\\bin;D:\\\\IntelliJ IDEA Community Edition 2020.3.1\\\\bin;C:\\\\Users\\\\Admin\\\\AppData\\\\Roaming\\\\npm;C:\\\\Program Files\\\\JetBrains\\\\JetBrains DataSpell 213.2094.12\\\\bin;C:\\\\Program Files\\\\JetBrains\\\\DataGrip 2021.3.4\\\\bin;C:\\\\Program Files\\\\JetBrains\\\\JetBrains Rider 2022.1.1\\\\bin;C:\\\\Users\\\\Admin\\\\AppData\\\\Local\\\\JetBrains\\\\Toolbox\\\\scripts;']"
      ]
     },
     "execution_count": 8,
     "metadata": {},
     "output_type": "execute_result"
    }
   ],
   "source": [
    "v = !path\n",
    "v"
   ]
  },
  {
   "cell_type": "code",
   "execution_count": 9,
   "metadata": {},
   "outputs": [],
   "source": [
    "x = 1\n",
    "y = 2\n",
    "s = \"Hello\""
   ]
  },
  {
   "cell_type": "code",
   "execution_count": 10,
   "metadata": {},
   "outputs": [
    {
     "name": "stdout",
     "output_type": "stream",
     "text": [
      "os\t s\t sys\t v\t x\t y\t \n"
     ]
    }
   ],
   "source": [
    "%who"
   ]
  },
  {
   "cell_type": "code",
   "execution_count": 14,
   "metadata": {},
   "outputs": [
    {
     "data": {
      "text/plain": [
       "'c:\\\\Универ\\\\Современные технологии программирования\\\\питон\\\\mp_2022_224-322_python'"
      ]
     },
     "execution_count": 14,
     "metadata": {},
     "output_type": "execute_result"
    }
   ],
   "source": [
    "# Текущая папка\n",
    "%pwd"
   ]
  },
  {
   "cell_type": "code",
   "execution_count": 15,
   "metadata": {},
   "outputs": [
    {
     "name": "stdout",
     "output_type": "stream",
     "text": [
      "CPU times: total: 0 ns\n",
      "Wall time: 1.01 s\n"
     ]
    }
   ],
   "source": [
    "%%time\n",
    "\n",
    "import time\n",
    "time.sleep(1)"
   ]
  },
  {
   "cell_type": "code",
   "execution_count": 17,
   "metadata": {},
   "outputs": [
    {
     "name": "stdout",
     "output_type": "stream",
     "text": [
      "CPU times: total: 656 ms\n",
      "Wall time: 713 ms\n"
     ]
    }
   ],
   "source": [
    "%%time\n",
    "\n",
    "x = 0\n",
    "for i in range(10_000_000):\n",
    "    x += i"
   ]
  },
  {
   "cell_type": "code",
   "execution_count": 20,
   "metadata": {},
   "outputs": [
    {
     "name": "stdout",
     "output_type": "stream",
     "text": [
      "366 ms ± 12.2 ms per loop (mean ± std. dev. of 3 runs, 2 loops each)\n"
     ]
    }
   ],
   "source": [
    "%%timeit -n 2 -r 3\n",
    "\n",
    "x = 0\n",
    "for i in range(10_000_000):\n",
    "    x += i"
   ]
  },
  {
   "cell_type": "code",
   "execution_count": 22,
   "metadata": {},
   "outputs": [
    {
     "data": {
      "text/html": [
       "<h1>Заголовок 1</h1>\n",
       "<h2>Заголовок 2</h2>\n",
       "<h3>Заголовок 3</h3>\n",
       "<h4>Заголовок 4</h4>\n",
       "<h5>Заголовок 5</h5>\n"
      ],
      "text/plain": [
       "<IPython.core.display.HTML object>"
      ]
     },
     "metadata": {},
     "output_type": "display_data"
    }
   ],
   "source": [
    "%%HTML\n",
    "<h1>Заголовок 1</h1>\n",
    "<h2>Заголовок 2</h2>\n",
    "<h3>Заголовок 3</h3>\n",
    "<h4>Заголовок 4</h4>\n",
    "<h5>Заголовок 5</h5>"
   ]
  },
  {
   "cell_type": "markdown",
   "metadata": {},
   "source": [
    "Обычный текст\n",
    "\n",
    "<h3>Заголовок 3</h3>\n",
    "<h4>Заголовок 4</h4>\n",
    "<h5>Заголовок 5</h5>\n",
    "\n",
    "<b>Жирный</b>, <i>Курсив</i>\n",
    "\n",
    "<ul>\n",
    "    <li>1111</li>\n",
    "    <li>2222</li>\n",
    "    <li>3333</li>\n",
    "</ul>\n",
    "\n",
    "<p style=\"border:2px solid\">Рамка</p>\n",
    "<p style=\"background-color:red\">Фон</p>"
   ]
  },
  {
   "cell_type": "code",
   "execution_count": 27,
   "metadata": {},
   "outputs": [
    {
     "data": {
      "text/latex": [
       "$ E = mc^2 $\n",
       "$$ c = \\sqrt{a^2 + b^2} $$\n"
      ],
      "text/plain": [
       "<IPython.core.display.Latex object>"
      ]
     },
     "metadata": {},
     "output_type": "display_data"
    }
   ],
   "source": [
    "%%latex\n",
    "$ E = mc^2 $\n",
    "$$ c = \\sqrt{a^2 + b^2} $$"
   ]
  },
  {
   "cell_type": "markdown",
   "metadata": {},
   "source": [
    "$ E = mc^2 $\n",
    "$$ c = \\sqrt{a^2 + b^2} $$"
   ]
  },
  {
   "cell_type": "code",
   "execution_count": 29,
   "metadata": {},
   "outputs": [
    {
     "data": {
      "text/plain": [
       "123"
      ]
     },
     "execution_count": 29,
     "metadata": {},
     "output_type": "execute_result"
    }
   ],
   "source": [
    "a = 123\n",
    "a"
   ]
  }
 ],
 "metadata": {
  "kernelspec": {
   "display_name": "Python 3.9.6 64-bit",
   "language": "python",
   "name": "python3"
  },
  "language_info": {
   "codemirror_mode": {
    "name": "ipython",
    "version": 3
   },
   "file_extension": ".py",
   "mimetype": "text/x-python",
   "name": "python",
   "nbconvert_exporter": "python",
   "pygments_lexer": "ipython3",
   "version": "3.9.6"
  },
  "orig_nbformat": 4,
  "vscode": {
   "interpreter": {
    "hash": "0d591c6e422414675974e227c13f5382000c440fedd3c5006ef2be5d887f0ba7"
   }
  }
 },
 "nbformat": 4,
 "nbformat_minor": 2
}
