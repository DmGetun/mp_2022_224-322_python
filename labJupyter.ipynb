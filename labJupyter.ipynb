{
 "cells": [
  {
   "cell_type": "markdown",
   "metadata": {},
   "source": [
    "# Магические возможности Jupyter Notebook\n",
    "\n",
    "* Горячие клавиши\n",
    "    - в режиме навигации (ячеек)\n",
    "    - в режиме редактирования\n",
    "* Команды\n",
    "    * ! - начало командной строки\n",
    "    * % - начало строчной команды\n",
    "    * %% - начало блочной (ячеечной) команды"
   ]
  },
  {
   "cell_type": "code",
   "execution_count": null,
   "metadata": {},
   "outputs": [],
   "source": []
  },
  {
   "cell_type": "code",
   "execution_count": null,
   "metadata": {},
   "outputs": [],
   "source": [
    "\"\"\"\n",
    "В режиме навигации\n",
    "A -\n",
    "B -\n",
    "M - сделать markdown\n",
    "Y - сделать код\n",
    "D+D - удалить\n",
    "\"\"\"\n",
    "pass"
   ]
  },
  {
   "cell_type": "code",
   "execution_count": null,
   "metadata": {},
   "outputs": [],
   "source": [
    "# qwerty"
   ]
  }
 ],
 "metadata": {
  "kernelspec": {
   "display_name": "Python 3.9.6 64-bit",
   "language": "python",
   "name": "python3"
  },
  "language_info": {
   "name": "python",
   "version": "3.9.6"
  },
  "orig_nbformat": 4,
  "vscode": {
   "interpreter": {
    "hash": "0d591c6e422414675974e227c13f5382000c440fedd3c5006ef2be5d887f0ba7"
   }
  }
 },
 "nbformat": 4,
 "nbformat_minor": 2
}
