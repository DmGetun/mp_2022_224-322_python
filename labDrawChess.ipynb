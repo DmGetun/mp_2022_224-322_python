{
 "cells": [
  {
   "cell_type": "code",
   "execution_count": 1,
   "metadata": {},
   "outputs": [
    {
     "name": "stdout",
     "output_type": "stream",
     "text": [
      "    |a b c d e f g h| \n",
      "______________________________________ \n",
      "  1 |██  ██  ██  ██  |1  \n",
      "  2 |  ██  ██  ██  ██|2  \n",
      "  3 |██  ██  ██  ██  |3  \n",
      "  4 |  ██  ██  ██  ██|4  \n",
      "  5 |██  ██  ██  ██  |5  \n",
      "  6 |  ██  ██  ██  ██|6  \n",
      "  7 |██  ██  ██  ██  |7  \n",
      "  8 |  ██  ██  ██  ██|8  \n",
      "______________________________________ \n",
      " |a b c d e f g h| \n",
      "\u001b[0m\n"
     ]
    }
   ],
   "source": [
    "import string\n",
    "\n",
    "#width = int(input('Введите ширину шахматной доски: '))\n",
    "#height = int(input('Введите высоту шахматной доски: '))\n",
    "width = 8; height = 8\n",
    "letters = string.ascii_lowercase + string.ascii_uppercase\n",
    "\n",
    "white = '██'\n",
    "black = '  '\n",
    "line = '__'\n",
    "\n",
    "def reverse(symbol):\n",
    "    return black if symbol == white else white\n",
    "\n",
    "print(f'{\" \" * 4}|{\" \".join(letters[:width])}| ')\n",
    "print(line + line*(width*2+1) + line + ' ')\n",
    "st = []\n",
    "symbol = white\n",
    "for i in range(width):\n",
    "    symbol = reverse(symbol)\n",
    "    st.append(symbol)\n",
    "    \n",
    "def reverse_line(line):\n",
    "    return line[::-1]\n",
    "\n",
    "for j in range(1,height + 1):\n",
    "    st = reverse_line(st)\n",
    "    print(f'{black}{j} |{\"\".join(st)}{black.rstrip()}|{j}',end='')\n",
    "    print(black)\n",
    "\n",
    "print(line + line*(width*2+1) + line + ' ')\n",
    "print(f' |{\" \".join(letters[:width])}| ')"
   ]
  }
 ],
 "metadata": {
  "kernelspec": {
   "display_name": "Python 3.9.6 64-bit",
   "language": "python",
   "name": "python3"
  },
  "language_info": {
   "codemirror_mode": {
    "name": "ipython",
    "version": 3
   },
   "file_extension": ".py",
   "mimetype": "text/x-python",
   "name": "python",
   "nbconvert_exporter": "python",
   "pygments_lexer": "ipython3",
   "version": "3.9.6"
  },
  "orig_nbformat": 4,
  "vscode": {
   "interpreter": {
    "hash": "0d591c6e422414675974e227c13f5382000c440fedd3c5006ef2be5d887f0ba7"
   }
  }
 },
 "nbformat": 4,
 "nbformat_minor": 2
}
