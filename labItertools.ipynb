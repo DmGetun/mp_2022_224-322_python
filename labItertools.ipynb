{
 "cells": [
  {
   "attachments": {},
   "cell_type": "markdown",
   "metadata": {},
   "source": [
    "# Сборник итераторов"
   ]
  },
  {
   "cell_type": "code",
   "execution_count": 1,
   "metadata": {},
   "outputs": [],
   "source": [
    "import itertools"
   ]
  },
  {
   "attachments": {},
   "cell_type": "markdown",
   "metadata": {},
   "source": [
    "## Бесконечные итераторы"
   ]
  },
  {
   "cell_type": "code",
   "execution_count": 2,
   "metadata": {},
   "outputs": [
    {
     "name": "stdout",
     "output_type": "stream",
     "text": [
      "10 11 12 13 14 15 16 17 18 19 20 21 22 23 24 25 26 27 28 29 "
     ]
    }
   ],
   "source": [
    "for i in itertools.count(10):\n",
    "    if i >= 30:\n",
    "        break\n",
    "    print(i, end=' ')"
   ]
  },
  {
   "cell_type": "code",
   "execution_count": 3,
   "metadata": {},
   "outputs": [
    {
     "name": "stdout",
     "output_type": "stream",
     "text": [
      "A B C D A B C D A B C D A B C D A B C D A B C D A B C D A B "
     ]
    }
   ],
   "source": [
    "n = 0 \n",
    "for i in itertools.cycle('ABCD'):\n",
    "    if n >= 30:\n",
    "        break\n",
    "    print(i, end=' ')\n",
    "    n += 1"
   ]
  },
  {
   "cell_type": "code",
   "execution_count": 4,
   "metadata": {},
   "outputs": [
    {
     "name": "stdout",
     "output_type": "stream",
     "text": [
      "A B C D A B C D A B C D A B C D A B C D A B C D A B C D A B "
     ]
    }
   ],
   "source": [
    "def my_cycle(iterable):\n",
    "    saved = []\n",
    "    for element in iterable:\n",
    "        yield element\n",
    "        saved.append(element)\n",
    "    while saved:\n",
    "        for element in saved:\n",
    "            yield element\n",
    "            \n",
    "        \n",
    "n = 0\n",
    "for i in my_cycle('ABCD'):\n",
    "    if n >= 30:\n",
    "        break\n",
    "    print(i, end=' ')\n",
    "    n += 1"
   ]
  },
  {
   "cell_type": "code",
   "execution_count": 18,
   "metadata": {},
   "outputs": [
    {
     "name": "stdout",
     "output_type": "stream",
     "text": [
      "Москва\n",
      "Воронеж\n",
      "Калуга\n",
      "Москва\n",
      "Воронеж\n"
     ]
    }
   ],
   "source": [
    "it_cities = itertools.cycle([\"Москва\", \"Воронеж\", \"Калуга\"])\n",
    "print(next(it_cities))\n",
    "print(next(it_cities))\n",
    "print(next(it_cities))\n",
    "print(next(it_cities))\n",
    "print(next(it_cities))"
   ]
  },
  {
   "cell_type": "code",
   "execution_count": 19,
   "metadata": {},
   "outputs": [
    {
     "name": "stdout",
     "output_type": "stream",
     "text": [
      "off\n",
      "on\n",
      "off\n",
      "on\n",
      "off\n"
     ]
    }
   ],
   "source": [
    "it_states = itertools.cycle(['off','on'])\n",
    "for i in range(5):\n",
    "    print(next(it_states))"
   ]
  },
  {
   "cell_type": "code",
   "execution_count": 20,
   "metadata": {},
   "outputs": [
    {
     "name": "stdout",
     "output_type": "stream",
     "text": [
      "Hello Hello Hello Hello Hello "
     ]
    }
   ],
   "source": [
    "for i in itertools.repeat(\"Hello\", 5):\n",
    "    print(i, end=' ')"
   ]
  },
  {
   "attachments": {},
   "cell_type": "markdown",
   "metadata": {},
   "source": [
    "## Конечные итераторы"
   ]
  },
  {
   "cell_type": "code",
   "execution_count": 27,
   "metadata": {},
   "outputs": [
    {
     "name": "stdout",
     "output_type": "stream",
     "text": [
      "1 2 3 4 5 6 7 8 9\n",
      "1 3 6 10 15 21 28 36 45\n",
      "10 11 13 16 20 25 31 38 46 55\n"
     ]
    }
   ],
   "source": [
    "print(*range(1, 10))\n",
    "print(*itertools.accumulate(range(1, 10)))\n",
    "print(*itertools.accumulate(range(1, 10),initial=10))"
   ]
  },
  {
   "cell_type": "code",
   "execution_count": 26,
   "metadata": {},
   "outputs": [
    {
     "name": "stdout",
     "output_type": "stream",
     "text": [
      "1 2 3 4 5 6 7 8 9\n",
      "1 2 6 24 120 720 5040 40320 362880\n",
      "1 2.0 3.5 5.5 8.0 11.0 14.5 18.5 23.0\n"
     ]
    }
   ],
   "source": [
    "import operator\n",
    "\n",
    "print(*range(1, 10))\n",
    "print(*itertools.accumulate(range(1, 10),operator.mul))\n",
    "print(*itertools.accumulate(range(1, 10),func=lambda a, b: a + b / 2))"
   ]
  },
  {
   "cell_type": "code",
   "execution_count": 28,
   "metadata": {},
   "outputs": [
    {
     "name": "stdout",
     "output_type": "stream",
     "text": [
      "A B C 0 1 2 3 4 -1 -2\n"
     ]
    }
   ],
   "source": [
    "print(*itertools.chain('ABC', range(5), [-1,-2]))"
   ]
  },
  {
   "cell_type": "code",
   "execution_count": 29,
   "metadata": {},
   "outputs": [
    {
     "name": "stdout",
     "output_type": "stream",
     "text": [
      "A B C 0 1 2 3 4 -1 -2\n"
     ]
    }
   ],
   "source": [
    "# альтернатива\n",
    "def my_chain(*iterables):\n",
    "    for it in iterables:\n",
    "        for item in it:\n",
    "            yield item\n",
    "\n",
    "print(*my_chain('ABC', range(5), [-1,-2]))"
   ]
  },
  {
   "cell_type": "code",
   "execution_count": 30,
   "metadata": {},
   "outputs": [
    {
     "name": "stdout",
     "output_type": "stream",
     "text": [
      "B D\n"
     ]
    }
   ],
   "source": [
    "print(*itertools.compress('ABCD', [0,1,0,1]))"
   ]
  },
  {
   "attachments": {},
   "cell_type": "markdown",
   "metadata": {},
   "source": [
    "## Комбинированные итераторы"
   ]
  },
  {
   "cell_type": "code",
   "execution_count": null,
   "metadata": {},
   "outputs": [],
   "source": [
    "# ... HW"
   ]
  },
  {
   "attachments": {},
   "cell_type": "markdown",
   "metadata": {},
   "source": [
    "# HW:\n",
    "- внимательно прочитать документацию\n",
    "- создать примеры с другими итераторами"
   ]
  }
 ],
 "metadata": {
  "kernelspec": {
   "display_name": "Python 3",
   "language": "python",
   "name": "python3"
  },
  "language_info": {
   "codemirror_mode": {
    "name": "ipython",
    "version": 3
   },
   "file_extension": ".py",
   "mimetype": "text/x-python",
   "name": "python",
   "nbconvert_exporter": "python",
   "pygments_lexer": "ipython3",
   "version": "3.9.6"
  },
  "orig_nbformat": 4,
  "vscode": {
   "interpreter": {
    "hash": "0d591c6e422414675974e227c13f5382000c440fedd3c5006ef2be5d887f0ba7"
   }
  }
 },
 "nbformat": 4,
 "nbformat_minor": 2
}
