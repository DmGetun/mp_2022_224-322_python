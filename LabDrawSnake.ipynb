{
 "cells": [
  {
   "cell_type": "code",
   "execution_count": 1,
   "metadata": {},
   "outputs": [],
   "source": [
    "symbol = '█'\n",
    "height = int(input('Введите высоту змеи: '))\n",
    "width = int(input('Введите ширину змеи: '))"
   ]
  },
  {
   "cell_type": "code",
   "execution_count": 4,
   "metadata": {},
   "outputs": [
    {
     "name": "stdout",
     "output_type": "stream",
     "text": [
      "██████████████████████████████████████████████████\n",
      "                                                 █\n",
      "██████████████████████████████████████████████████\n",
      "█                                                 \n",
      "██████████████████████████████████████████████████\n",
      "                                                 █\n",
      "██████████████████████████████████████████████████\n",
      "█                                                 \n",
      "██████████████████████████████████████████████████\n",
      "                                                 █\n",
      "██████████████████████████████████████████████████\n",
      "█                                                 \n",
      "██████████████████████████████████████████████████\n",
      "                                                 █\n",
      "██████████████████████████████████████████████████\n"
     ]
    }
   ],
   "source": [
    "for i in range(height // 2):\n",
    "    print(symbol * width)\n",
    "    str = ' ' * (width - 1) + symbol\n",
    "    if i % 2 == 0:\n",
    "        print(str,sep='')\n",
    "    else:\n",
    "        print(str[::-1],sep='')\n",
    "if not height % 2 == 0:\n",
    "    print(symbol * width)"
   ]
  }
 ],
 "metadata": {
  "kernelspec": {
   "display_name": "Python 3.9.6 64-bit",
   "language": "python",
   "name": "python3"
  },
  "language_info": {
   "codemirror_mode": {
    "name": "ipython",
    "version": 3
   },
   "file_extension": ".py",
   "mimetype": "text/x-python",
   "name": "python",
   "nbconvert_exporter": "python",
   "pygments_lexer": "ipython3",
   "version": "3.9.6"
  },
  "orig_nbformat": 4,
  "vscode": {
   "interpreter": {
    "hash": "0d591c6e422414675974e227c13f5382000c440fedd3c5006ef2be5d887f0ba7"
   }
  }
 },
 "nbformat": 4,
 "nbformat_minor": 2
}
