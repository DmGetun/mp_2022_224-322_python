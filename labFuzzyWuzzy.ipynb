{
 "cells": [
  {
   "attachments": {},
   "cell_type": "markdown",
   "metadata": {},
   "source": [
    "# Нечеткое сравнение строк\n",
    "\n",
    "- pip install fuzzywuzzy"
   ]
  },
  {
   "cell_type": "code",
   "execution_count": 12,
   "metadata": {},
   "outputs": [],
   "source": [
    "from fuzzywuzzy import fuzz"
   ]
  },
  {
   "attachments": {},
   "cell_type": "markdown",
   "metadata": {},
   "source": [
    "## сравнение строк"
   ]
  },
  {
   "cell_type": "code",
   "execution_count": 13,
   "metadata": {},
   "outputs": [
    {
     "name": "stdout",
     "output_type": "stream",
     "text": [
      "60\n",
      "95\n",
      "75\n",
      "100\n"
     ]
    }
   ],
   "source": [
    "s1 = 'сравнение строк'\n",
    "s2 = 'строк сравнение'\n",
    "#s2 = 'сраВнеНиееее строк!!!'\n",
    "print(fuzz.ratio(s1, s2))\n",
    "print(fuzz.WRatio(s1, s2))\n",
    "print(fuzz.partial_ratio(s1, s2))\n",
    "print(fuzz.token_sort_ratio(s1, s2))"
   ]
  },
  {
   "attachments": {},
   "cell_type": "markdown",
   "metadata": {},
   "source": [
    "## Сравнение со списком"
   ]
  },
  {
   "cell_type": "code",
   "execution_count": 14,
   "metadata": {},
   "outputs": [],
   "source": [
    "from fuzzywuzzy import process"
   ]
  },
  {
   "cell_type": "code",
   "execution_count": 16,
   "metadata": {},
   "outputs": [
    {
     "name": "stdout",
     "output_type": "stream",
     "text": [
      "['Москва', 'Воронеж', 'Владимир', 'Вологда', 'Владикавказ', 'Владивосток', 'Смоленск']\n",
      "[('Владимир', 86), ('Владикавказ', 75), ('Владивосток', 75), ('Вологда', 46)]\n",
      "('Владимир', 90)\n"
     ]
    }
   ],
   "source": [
    "cities = 'Москва, Воронеж, Владимир, Вологда, Владикавказ, Владивосток, Смоленск'\n",
    "cities = cities.split(', ')\n",
    "print(cities)\n",
    "\n",
    "print(process.extract(\"Владим\", cities, limit=4))\n",
    "print(process.extractOne(\"Влад\", cities))"
   ]
  },
  {
   "cell_type": "code",
   "execution_count": 18,
   "metadata": {},
   "outputs": [
    {
     "data": {
      "text/plain": [
       "[('Терминатор', 90),\n",
       " ('Терминатор 2: Судный день', 90),\n",
       " ('Терминатор 3: Восстание машин', 90),\n",
       " ('Терминатор (сериал)', 90),\n",
       " ('Терминал', 90)]"
      ]
     },
     "execution_count": 18,
     "metadata": {},
     "output_type": "execute_result"
    }
   ],
   "source": [
    "movies = [\n",
    "    \"Терминатор\",\n",
    "    \"Терминатор 2: Судный день\",\n",
    "    \"Терминатор 3: Восстание машин\",\n",
    "    \"Терминатор (сериал)\",\n",
    "    \"Терминал\",\n",
    "    \"Троя\",\n",
    "]\n",
    "\n",
    "process.extract(\"терм\", movies, limit=5)"
   ]
  }
 ],
 "metadata": {
  "kernelspec": {
   "display_name": "Python 3",
   "language": "python",
   "name": "python3"
  },
  "language_info": {
   "codemirror_mode": {
    "name": "ipython",
    "version": 3
   },
   "file_extension": ".py",
   "mimetype": "text/x-python",
   "name": "python",
   "nbconvert_exporter": "python",
   "pygments_lexer": "ipython3",
   "version": "3.9.6 (tags/v3.9.6:db3ff76, Jun 28 2021, 15:26:21) [MSC v.1929 64 bit (AMD64)]"
  },
  "orig_nbformat": 4,
  "vscode": {
   "interpreter": {
    "hash": "0d591c6e422414675974e227c13f5382000c440fedd3c5006ef2be5d887f0ba7"
   }
  }
 },
 "nbformat": 4,
 "nbformat_minor": 2
}
