{
 "cells": [
  {
   "cell_type": "markdown",
   "metadata": {},
   "source": [
    "# PrettyTable - красивый вывод таблицы в терминал или текстовый файл\n",
    "\n",
    "Note:\n",
    "* py -m pip install prettytable"
   ]
  },
  {
   "cell_type": "code",
   "execution_count": 19,
   "metadata": {},
   "outputs": [],
   "source": [
    "from prettytable import PrettyTable"
   ]
  },
  {
   "cell_type": "markdown",
   "metadata": {},
   "source": [
    "## Добавление данных в таблицу"
   ]
  },
  {
   "cell_type": "code",
   "execution_count": 20,
   "metadata": {},
   "outputs": [
    {
     "name": "stdout",
     "output_type": "stream",
     "text": [
      "+---------+------+---------+--------+\n",
      "| Фамилия | Имя  | Возраст |   ЗП   |\n",
      "+---------+------+---------+--------+\n",
      "|  Иванов | Иван |    19   | 50000  |\n",
      "|  Петров | Пётр |    27   | 120000 |\n",
      "| Сидоров |  Ян  |    16   |  100   |\n",
      "+---------+------+---------+--------+\n"
     ]
    }
   ],
   "source": [
    "# (1) Добавление данных построчно\n",
    "ta = PrettyTable()\n",
    "# поля\n",
    "ta.field_names = [\"Фамилия\",\"Имя\",\"Возраст\",\"ЗП\"]\n",
    "# Данные\n",
    "ta.add_row([\"Иванов\",\"Иван\",19,50000])\n",
    "ta.add_row([\"Петров\",\"Пётр\",27,120000])\n",
    "ta.add_row([\"Сидоров\",\"Ян\",16,100])\n",
    "# печать\n",
    "print(ta)"
   ]
  },
  {
   "cell_type": "code",
   "execution_count": 21,
   "metadata": {},
   "outputs": [
    {
     "name": "stdout",
     "output_type": "stream",
     "text": [
      "+---------+------+---------+--------+\n",
      "| Фамилия | Имя  | Возраст |   ЗП   |\n",
      "+---------+------+---------+--------+\n",
      "|  Иванов | Иван |    19   | 50000  |\n",
      "|  Петров | Пётр |    27   | 120000 |\n",
      "| Сидоров |  Ян  |    16   |  100   |\n",
      "+---------+------+---------+--------+\n"
     ]
    }
   ],
   "source": [
    "# (2) Добавление всех данных сразу\n",
    "ta = PrettyTable()\n",
    "# поля\n",
    "ta.field_names = [\"Фамилия\",\"Имя\",\"Возраст\",\"ЗП\"]\n",
    "# Данные\n",
    "ta.add_rows(\n",
    "    [\n",
    "        [\"Иванов\",\"Иван\",19,50000],\n",
    "        [\"Петров\",\"Пётр\",27,120000],\n",
    "        [\"Сидоров\",\"Ян\",16,100]\n",
    "    ])\n",
    "# печать\n",
    "print(ta)"
   ]
  },
  {
   "cell_type": "code",
   "execution_count": 22,
   "metadata": {},
   "outputs": [
    {
     "data": {
      "text/html": [
       "<table>\n",
       "    <thead>\n",
       "        <tr>\n",
       "            <th>Фамилия</th>\n",
       "            <th>Имя</th>\n",
       "            <th>Возраст</th>\n",
       "            <th>ЗП</th>\n",
       "        </tr>\n",
       "    </thead>\n",
       "    <tbody>\n",
       "        <tr>\n",
       "            <td>Иванов</td>\n",
       "            <td>Иван</td>\n",
       "            <td>19</td>\n",
       "            <td>50000</td>\n",
       "        </tr>\n",
       "        <tr>\n",
       "            <td>Петров</td>\n",
       "            <td>Пётр</td>\n",
       "            <td>27</td>\n",
       "            <td>120000</td>\n",
       "        </tr>\n",
       "        <tr>\n",
       "            <td>Сидоров</td>\n",
       "            <td>Ян</td>\n",
       "            <td>16</td>\n",
       "            <td>100</td>\n",
       "        </tr>\n",
       "    </tbody>\n",
       "</table>"
      ],
      "text/plain": [
       "+---------+------+---------+--------+\n",
       "| Фамилия | Имя  | Возраст |   ЗП   |\n",
       "+---------+------+---------+--------+\n",
       "|  Иванов | Иван |    19   | 50000  |\n",
       "|  Петров | Пётр |    27   | 120000 |\n",
       "| Сидоров |  Ян  |    16   |  100   |\n",
       "+---------+------+---------+--------+"
      ]
     },
     "execution_count": 22,
     "metadata": {},
     "output_type": "execute_result"
    }
   ],
   "source": [
    "ta"
   ]
  },
  {
   "cell_type": "code",
   "execution_count": 23,
   "metadata": {},
   "outputs": [
    {
     "data": {
      "text/plain": [
       "'+---------+------+---------+--------+\\n| Фамилия | Имя  | Возраст |   ЗП   |\\n+---------+------+---------+--------+\\n|  Иванов | Иван |    19   | 50000  |\\n|  Петров | Пётр |    27   | 120000 |\\n| Сидоров |  Ян  |    16   |  100   |\\n+---------+------+---------+--------+'"
      ]
     },
     "execution_count": 23,
     "metadata": {},
     "output_type": "execute_result"
    }
   ],
   "source": [
    "ta.get_string()"
   ]
  },
  {
   "cell_type": "code",
   "execution_count": 24,
   "metadata": {},
   "outputs": [
    {
     "name": "stdout",
     "output_type": "stream",
     "text": [
      "+---------+------+---------+--------+\n",
      "| Фамилия | Имя  | Возраст |   ЗП   |\n",
      "+---------+------+---------+--------+\n",
      "|  Иванов | Иван |    19   | 50000  |\n",
      "|  Петров | Пётр |    27   | 120000 |\n",
      "| Сидоров |  Ян  |    16   |  100   |\n",
      "+---------+------+---------+--------+\n"
     ]
    }
   ],
   "source": [
    "print(ta.get_string())"
   ]
  },
  {
   "cell_type": "markdown",
   "metadata": {},
   "source": [
    "## Копия таблицы"
   ]
  },
  {
   "cell_type": "code",
   "execution_count": 25,
   "metadata": {},
   "outputs": [],
   "source": [
    "ta_2 = ta \n",
    "ta_3 = ta[:-1]"
   ]
  },
  {
   "cell_type": "code",
   "execution_count": 26,
   "metadata": {},
   "outputs": [
    {
     "name": "stdout",
     "output_type": "stream",
     "text": [
      "+---------+------+---------+--------+\n",
      "| Фамилия | Имя  | Возраст |   ЗП   |\n",
      "+---------+------+---------+--------+\n",
      "|  Иванов | Иван |    19   | 50000  |\n",
      "|  Петров | Пётр |    27   | 120000 |\n",
      "+---------+------+---------+--------+\n"
     ]
    }
   ],
   "source": [
    "print(ta_3)"
   ]
  },
  {
   "cell_type": "code",
   "execution_count": 27,
   "metadata": {},
   "outputs": [
    {
     "name": "stdout",
     "output_type": "stream",
     "text": [
      "1848790285760\n",
      "1848790285760\n",
      "1848786934656\n"
     ]
    }
   ],
   "source": [
    "print(id(ta))\n",
    "print(id(ta_2))\n",
    "print(id(ta_3))"
   ]
  },
  {
   "cell_type": "markdown",
   "metadata": {},
   "source": [
    "## Выравнивание данных в таблице"
   ]
  },
  {
   "cell_type": "code",
   "execution_count": 28,
   "metadata": {},
   "outputs": [
    {
     "name": "stdout",
     "output_type": "stream",
     "text": [
      "+---------+------+---------+--------+\n",
      "| Фамилия |  Имя | Возраст |     ЗП |\n",
      "+---------+------+---------+--------+\n",
      "|  Иванов | Иван |      19 |  50000 |\n",
      "|  Петров | Пётр |      27 | 120000 |\n",
      "| Сидоров |   Ян |      16 |    100 |\n",
      "+---------+------+---------+--------+\n"
     ]
    }
   ],
   "source": [
    "# Выравнивание всех столбцеов табицы: 'l', 'r', 'c'\n",
    "ta.align = 'r'\n",
    "print(ta)"
   ]
  },
  {
   "cell_type": "code",
   "execution_count": 29,
   "metadata": {},
   "outputs": [
    {
     "name": "stdout",
     "output_type": "stream",
     "text": [
      "+---------+------+---------+--------+\n",
      "| Фамилия |  Имя | Возраст |     ЗП |\n",
      "+---------+------+---------+--------+\n",
      "| Иванов  | Иван |    19   |  50000 |\n",
      "| Петров  | Пётр |    27   | 120000 |\n",
      "| Сидоров |   Ян |    16   |    100 |\n",
      "+---------+------+---------+--------+\n"
     ]
    }
   ],
   "source": [
    "ta.align['Фамилия'] = 'l'\n",
    "ta.align['Возраст'] = 'c'\n",
    "print(ta)"
   ]
  },
  {
   "cell_type": "markdown",
   "metadata": {},
   "source": [
    "## Сортировка данных в таблице"
   ]
  },
  {
   "cell_type": "code",
   "execution_count": 30,
   "metadata": {},
   "outputs": [
    {
     "name": "stdout",
     "output_type": "stream",
     "text": [
      "+---------+------+---------+--------+\n",
      "| Фамилия |  Имя | Возраст |     ЗП |\n",
      "+---------+------+---------+--------+\n",
      "| Сидоров |   Ян |    16   |    100 |\n",
      "| Иванов  | Иван |    19   |  50000 |\n",
      "| Петров  | Пётр |    27   | 120000 |\n",
      "+---------+------+---------+--------+\n"
     ]
    }
   ],
   "source": [
    "print(ta.get_string(sortby=\"Возраст\"))"
   ]
  },
  {
   "cell_type": "code",
   "execution_count": 32,
   "metadata": {},
   "outputs": [
    {
     "name": "stdout",
     "output_type": "stream",
     "text": [
      "+---------+------+---------+--------+\n",
      "| Фамилия |  Имя | Возраст |     ЗП |\n",
      "+---------+------+---------+--------+\n",
      "| Петров  | Пётр |    27   | 120000 |\n",
      "| Иванов  | Иван |    19   |  50000 |\n",
      "| Сидоров |   Ян |    16   |    100 |\n",
      "+---------+------+---------+--------+\n"
     ]
    }
   ],
   "source": [
    "print(ta.get_string(sortby=\"Возраст\",reversesort=True))"
   ]
  },
  {
   "cell_type": "markdown",
   "metadata": {},
   "source": [
    "## Изменить отображение столбцов и количество строк"
   ]
  },
  {
   "cell_type": "code",
   "execution_count": 34,
   "metadata": {},
   "outputs": [
    {
     "name": "stdout",
     "output_type": "stream",
     "text": [
      "+------+---------+\n",
      "|  Имя | Возраст |\n",
      "+------+---------+\n",
      "| Иван |    19   |\n",
      "| Пётр |    27   |\n",
      "|   Ян |    16   |\n",
      "+------+---------+\n"
     ]
    }
   ],
   "source": [
    "print(ta.get_string(fields=[\"Имя\",\"Возраст\"]))"
   ]
  },
  {
   "cell_type": "code",
   "execution_count": 36,
   "metadata": {},
   "outputs": [
    {
     "name": "stdout",
     "output_type": "stream",
     "text": [
      "+---------+------+---------+--------+\n",
      "| Фамилия |  Имя | Возраст |     ЗП |\n",
      "+---------+------+---------+--------+\n",
      "| Петров  | Пётр |    27   | 120000 |\n",
      "| Сидоров |   Ян |    16   |    100 |\n",
      "+---------+------+---------+--------+\n"
     ]
    }
   ],
   "source": [
    "print(ta.get_string(start=1,end=3))"
   ]
  }
 ],
 "metadata": {
  "kernelspec": {
   "display_name": "Python 3.9.6 64-bit",
   "language": "python",
   "name": "python3"
  },
  "language_info": {
   "codemirror_mode": {
    "name": "ipython",
    "version": 3
   },
   "file_extension": ".py",
   "mimetype": "text/x-python",
   "name": "python",
   "nbconvert_exporter": "python",
   "pygments_lexer": "ipython3",
   "version": "3.9.6"
  },
  "orig_nbformat": 4,
  "vscode": {
   "interpreter": {
    "hash": "0d591c6e422414675974e227c13f5382000c440fedd3c5006ef2be5d887f0ba7"
   }
  }
 },
 "nbformat": 4,
 "nbformat_minor": 2
}
