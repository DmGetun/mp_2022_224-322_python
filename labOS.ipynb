{
 "cells": [
  {
   "cell_type": "markdown",
   "metadata": {},
   "source": [
    "# OS - Работа с каталогами и файлами"
   ]
  },
  {
   "cell_type": "code",
   "execution_count": 1,
   "metadata": {},
   "outputs": [],
   "source": [
    "import os"
   ]
  },
  {
   "cell_type": "code",
   "execution_count": 2,
   "metadata": {},
   "outputs": [],
   "source": [
    "TEMP_DIR = \"temp\""
   ]
  },
  {
   "cell_type": "code",
   "execution_count": 3,
   "metadata": {},
   "outputs": [
    {
     "data": {
      "text/plain": [
       "'c:\\\\Универ\\\\Современные технологии программирования\\\\питон\\\\mp_2022_224-322_python'"
      ]
     },
     "execution_count": 3,
     "metadata": {},
     "output_type": "execute_result"
    }
   ],
   "source": [
    "# os.getcwd() - вернуть текущий рабочий каталог\n",
    "os.getcwd()"
   ]
  },
  {
   "cell_type": "code",
   "execution_count": 4,
   "metadata": {},
   "outputs": [
    {
     "data": {
      "text/plain": [
       "False"
      ]
     },
     "execution_count": 4,
     "metadata": {},
     "output_type": "execute_result"
    }
   ],
   "source": [
    "os.path.exists(TEMP_DIR)"
   ]
  },
  {
   "cell_type": "code",
   "execution_count": 5,
   "metadata": {},
   "outputs": [],
   "source": [
    "if not os.path.exists(TEMP_DIR):\n",
    "    os.mkdir(TEMP_DIR)"
   ]
  },
  {
   "cell_type": "code",
   "execution_count": 6,
   "metadata": {},
   "outputs": [
    {
     "data": {
      "text/plain": [
       "True"
      ]
     },
     "execution_count": 6,
     "metadata": {},
     "output_type": "execute_result"
    }
   ],
   "source": [
    "os.path.exists(TEMP_DIR)"
   ]
  },
  {
   "cell_type": "code",
   "execution_count": 11,
   "metadata": {},
   "outputs": [
    {
     "name": "stdout",
     "output_type": "stream",
     "text": [
      "os.stat_result(st_mode=33206, st_ino=5348024558003787, st_dev=2621779794, st_nlink=1, st_uid=0, st_gid=0, st_size=334, st_atime=1668760862, st_mtime=1667908461, st_ctime=1667907757)\n",
      "Размер файла: 334\n",
      "Размер файла: 334\n",
      "Размер файла: 334\n"
     ]
    }
   ],
   "source": [
    "filename = 'labHello.py'\n",
    "\n",
    "f = os.stat(filename)\n",
    "print(f)\n",
    "print('Размер файла:', f.st_size)\n",
    "print('Размер файла:', os.stat(filename).st_size)\n",
    "print('Размер файла:', os.path.getsize(filename))"
   ]
  },
  {
   "cell_type": "code",
   "execution_count": 12,
   "metadata": {},
   "outputs": [
    {
     "data": {
      "text/plain": [
       "'c:\\\\Универ\\\\Современные технологии программирования\\\\питон'"
      ]
     },
     "execution_count": 12,
     "metadata": {},
     "output_type": "execute_result"
    }
   ],
   "source": [
    "os.chdir(\"..\") # относительный путь\n",
    "os.getcwd()"
   ]
  },
  {
   "cell_type": "code",
   "execution_count": 13,
   "metadata": {},
   "outputs": [
    {
     "data": {
      "text/plain": [
       "'C:\\\\Windows\\\\Help'"
      ]
     },
     "execution_count": 13,
     "metadata": {},
     "output_type": "execute_result"
    }
   ],
   "source": [
    "os.chdir(\"C:\\Windows\\Help\") # абсолютный путь\n",
    "os.getcwd()"
   ]
  },
  {
   "cell_type": "code",
   "execution_count": 14,
   "metadata": {},
   "outputs": [
    {
     "data": {
      "text/plain": [
       "['Corporate', 'en-US', 'Help', 'mui', 'OEM', 'Windows']"
      ]
     },
     "execution_count": 14,
     "metadata": {},
     "output_type": "execute_result"
    }
   ],
   "source": [
    "# os.listdir() - Вернуть список, содержащий имена директорий и файлов в каталоге\n",
    "os.listdir()"
   ]
  },
  {
   "cell_type": "code",
   "execution_count": 16,
   "metadata": {},
   "outputs": [
    {
     "name": "stdout",
     "output_type": "stream",
     "text": [
      "C:\\Windows\\Help ['Corporate', 'en-US', 'Help', 'mui', 'OEM', 'Windows'] []\n",
      "C:\\Windows\\Help\\Corporate [] []\n",
      "C:\\Windows\\Help\\en-US [] ['credits.rtf']\n",
      "C:\\Windows\\Help\\Help [] []\n",
      "C:\\Windows\\Help\\mui ['0409', '0419'] []\n",
      "C:\\Windows\\Help\\mui\\0409 [] ['cliconf.chm', 'mmc.CHM', 'msdasc.chm', 'msorcl32.chm', 'odbcinst.chm', 'odbcjet.chm', 'sqlsodbc.chm', 'sqlsoldb.chm']\n",
      "C:\\Windows\\Help\\mui\\0419 [] ['cliconf.chm', 'mmc.CHM', 'msdasc.chm', 'msorcl32.chm', 'odbcinst.chm', 'odbcjet.chm', 'sqlsodbc.chm', 'sqlsoldb.chm']\n",
      "C:\\Windows\\Help\\OEM ['ContentStore', 'IndexStore'] []\n",
      "C:\\Windows\\Help\\OEM\\ContentStore [] []\n",
      "C:\\Windows\\Help\\OEM\\IndexStore [] []\n",
      "C:\\Windows\\Help\\Windows ['ContentStore', 'IndexStore'] []\n",
      "C:\\Windows\\Help\\Windows\\ContentStore ['en-US'] []\n",
      "C:\\Windows\\Help\\Windows\\ContentStore\\en-US [] []\n",
      "C:\\Windows\\Help\\Windows\\IndexStore ['en-US'] []\n",
      "C:\\Windows\\Help\\Windows\\IndexStore\\en-US [] []\n"
     ]
    }
   ],
   "source": [
    "for current_dir, dirs, files in os.walk(\".\"):\n",
    "    print(os.path.abspath(current_dir), dirs, files)"
   ]
  },
  {
   "cell_type": "code",
   "execution_count": 20,
   "metadata": {},
   "outputs": [
    {
     "name": "stdout",
     "output_type": "stream",
     "text": [
      "Каталогов = 6 и файлов = 0 в папке C:\\Windows\\Help\n",
      "Каталогов = 0 и файлов = 0 в папке C:\\Windows\\Help\\Corporate\n",
      "Каталогов = 0 и файлов = 1 в папке C:\\Windows\\Help\\en-US\n",
      "Каталогов = 0 и файлов = 0 в папке C:\\Windows\\Help\\Help\n",
      "Каталогов = 2 и файлов = 0 в папке C:\\Windows\\Help\\mui\n",
      "Каталогов = 0 и файлов = 8 в папке C:\\Windows\\Help\\mui\\0409\n",
      "Каталогов = 0 и файлов = 8 в папке C:\\Windows\\Help\\mui\\0419\n",
      "Каталогов = 2 и файлов = 0 в папке C:\\Windows\\Help\\OEM\n",
      "Каталогов = 0 и файлов = 0 в папке C:\\Windows\\Help\\OEM\\ContentStore\n",
      "Каталогов = 0 и файлов = 0 в папке C:\\Windows\\Help\\OEM\\IndexStore\n",
      "Каталогов = 2 и файлов = 0 в папке C:\\Windows\\Help\\Windows\n",
      "Каталогов = 1 и файлов = 0 в папке C:\\Windows\\Help\\Windows\\ContentStore\n",
      "Каталогов = 0 и файлов = 0 в папке C:\\Windows\\Help\\Windows\\ContentStore\\en-US\n",
      "Каталогов = 1 и файлов = 0 в папке C:\\Windows\\Help\\Windows\\IndexStore\n",
      "Каталогов = 0 и файлов = 0 в папке C:\\Windows\\Help\\Windows\\IndexStore\\en-US\n"
     ]
    }
   ],
   "source": [
    "for current_dir, dirs, files in os.walk(\".\"):\n",
    "    print(f\"Каталогов = {len(dirs)} и файлов = {len(files)} в папке {os.path.abspath(current_dir)}\")"
   ]
  },
  {
   "cell_type": "code",
   "execution_count": 21,
   "metadata": {},
   "outputs": [
    {
     "name": "stdout",
     "output_type": "stream",
     "text": [
      "C:\\Windows\\Help\\Corporate\n",
      "C:\\Windows\\Help\\en-US\n",
      "C:\\Windows\\Help\\Help\n",
      "C:\\Windows\\Help\\mui\n",
      "C:\\Windows\\Help\\OEM\n",
      "C:\\Windows\\Help\\Windows\n",
      "C:\\Windows\\Help\\mui\\0409\n",
      "C:\\Windows\\Help\\mui\\0419\n",
      "C:\\Windows\\Help\\OEM\\ContentStore\n",
      "C:\\Windows\\Help\\OEM\\IndexStore\n",
      "C:\\Windows\\Help\\Windows\\ContentStore\n",
      "C:\\Windows\\Help\\Windows\\IndexStore\n",
      "C:\\Windows\\Help\\Windows\\ContentStore\\en-US\n",
      "C:\\Windows\\Help\\Windows\\IndexStore\\en-US\n"
     ]
    }
   ],
   "source": [
    "for current_dir, dirs, files in os.walk(\".\"):\n",
    "    for dir in dirs:\n",
    "        print(os.path.join(os.path.abspath(current_dir), dir))"
   ]
  },
  {
   "cell_type": "code",
   "execution_count": 25,
   "metadata": {},
   "outputs": [
    {
     "name": "stdout",
     "output_type": "stream",
     "text": [
      "nt\n",
      "Admin\n",
      "6\n"
     ]
    }
   ],
   "source": [
    "print(os.name)\n",
    "print(os.getlogin())\n",
    "print(os.cpu_count())"
   ]
  },
  {
   "cell_type": "markdown",
   "metadata": {},
   "source": [
    "# HW:\n",
    "* os\n",
    "* os.path"
   ]
  }
 ],
 "metadata": {
  "kernelspec": {
   "display_name": "Python 3.9.6 64-bit",
   "language": "python",
   "name": "python3"
  },
  "language_info": {
   "codemirror_mode": {
    "name": "ipython",
    "version": 3
   },
   "file_extension": ".py",
   "mimetype": "text/x-python",
   "name": "python",
   "nbconvert_exporter": "python",
   "pygments_lexer": "ipython3",
   "version": "3.9.6 (tags/v3.9.6:db3ff76, Jun 28 2021, 15:26:21) [MSC v.1929 64 bit (AMD64)]"
  },
  "orig_nbformat": 4,
  "vscode": {
   "interpreter": {
    "hash": "0d591c6e422414675974e227c13f5382000c440fedd3c5006ef2be5d887f0ba7"
   }
  }
 },
 "nbformat": 4,
 "nbformat_minor": 2
}
