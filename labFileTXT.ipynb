{
 "cells": [
  {
   "cell_type": "markdown",
   "metadata": {},
   "source": [
    "# Работа с текстовыми файлами\n",
    "\n",
    "Функция `open()` - открывает файл на чтение и запись\n",
    "\n",
    "Режим открытия файла:\n",
    "* 'r' - открывает файл только для чтения. Если файл не найден, то будет ошибка. (по умолчанию)\n",
    "* 'w' - открывает файл только для записи. Перед записью файл будет очищен. Если файл отсутствует, то он создается.\n",
    "* 'x' - открывает файл только для записи. Перед записью файл будет очищен. Если файл отсутствует, то будет ошибка.\n",
    "* 'a' - открыть файл для записи в конец файла. Если файл отсутствует, то он создается\n",
    "\n",
    "Дополнительно:\n",
    "* '_t' - текстовый файл (по умолчанию)\n",
    "* '_b - бинарные файлы\n",
    "* '_+' - режим r + w\n",
    "\n",
    "Note:\n",
    "* Помним, что после работы с файлом его необходимо закрыть.\n",
    "* Помним, что существуют различные кодировки текстовых файлов"
   ]
  },
  {
   "cell_type": "code",
   "execution_count": 1,
   "metadata": {},
   "outputs": [
    {
     "data": {
      "text/plain": [
       "'temp\\\\temp_file.txt'"
      ]
     },
     "execution_count": 1,
     "metadata": {},
     "output_type": "execute_result"
    }
   ],
   "source": [
    "import os \n",
    "\n",
    "# временный каталог\n",
    "TEMP_DIR = 'temp'\n",
    "\n",
    "if not os.path.exists(TEMP_DIR):\n",
    "    os.mkdir(TEMP_DIR)\n",
    "\n",
    "# Пример использования    \n",
    "os.path.join(TEMP_DIR, \"temp_file.txt\")\n",
    "\n"
   ]
  },
  {
   "cell_type": "code",
   "execution_count": 9,
   "metadata": {},
   "outputs": [],
   "source": [
    "poem = '''Однажды, в студеную зимнюю пору,\n",
    "Я из лесу вышел; был сильный мороз.\n",
    "Гляжу, поднимается медленно в гору\n",
    "Лошадка, везущая хворосту воз.\n",
    "\n",
    "И, шествуя важно, в спокойствии чинном,\n",
    "Лошадку ведет под уздцы мужичок\n",
    "В больших сапогах, в полушубке овчинном,\n",
    "В больших рукавицах... а сам с ноготок!\n",
    "'''"
   ]
  },
  {
   "cell_type": "markdown",
   "metadata": {},
   "source": [
    "## Запись в файл"
   ]
  },
  {
   "cell_type": "code",
   "execution_count": 3,
   "metadata": {},
   "outputs": [],
   "source": [
    "# Запись в файл через try-finally (классический вариант)\n",
    "f = open(os.path.join(TEMP_DIR,'temp_TXT.txt'),'w')\n",
    "try:\n",
    "    f.write('Hello\\n')\n",
    "    f.write('QWERTY\\n')\n",
    "finally:\n",
    "    f.close()"
   ]
  },
  {
   "cell_type": "code",
   "execution_count": 5,
   "metadata": {},
   "outputs": [],
   "source": [
    "# запись в файл через with-конструкцию\n",
    "\n",
    "with open(os.path.join(TEMP_DIR,'temp_TXT.txt'),'w') as f:\n",
    "    f.write(\"QWE\\n\")\n",
    "    f.write(\"123456\")\n",
    "    \n"
   ]
  },
  {
   "cell_type": "code",
   "execution_count": 7,
   "metadata": {},
   "outputs": [],
   "source": [
    "with open(os.path.join(TEMP_DIR,'temp_TXT_100.txt'),'w') as f:\n",
    "    lines = [f'line-{i}' for i in range(100)]\n",
    "    f.write('\\n'.join(lines))"
   ]
  },
  {
   "cell_type": "code",
   "execution_count": 10,
   "metadata": {},
   "outputs": [],
   "source": [
    "with open(os.path.join(TEMP_DIR,'temp_TXT_poem.txt'),'w',encoding='utf-8') as f:\n",
    "    f.write(poem)"
   ]
  }
 ],
 "metadata": {
  "kernelspec": {
   "display_name": "Python 3.9.6 64-bit",
   "language": "python",
   "name": "python3"
  },
  "language_info": {
   "codemirror_mode": {
    "name": "ipython",
    "version": 3
   },
   "file_extension": ".py",
   "mimetype": "text/x-python",
   "name": "python",
   "nbconvert_exporter": "python",
   "pygments_lexer": "ipython3",
   "version": "3.9.6"
  },
  "orig_nbformat": 4,
  "vscode": {
   "interpreter": {
    "hash": "0d591c6e422414675974e227c13f5382000c440fedd3c5006ef2be5d887f0ba7"
   }
  }
 },
 "nbformat": 4,
 "nbformat_minor": 2
}
