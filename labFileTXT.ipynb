{
 "cells": [
  {
   "cell_type": "markdown",
   "metadata": {},
   "source": [
    "# Работа с текстовыми файлами\n",
    "\n",
    "Функция `open()` - открывает файл на чтение и запись\n",
    "\n",
    "Режим открытия файла:\n",
    "* 'r' - открывает файл только для чтения. Если файл не найден, то будет ошибка. (по умолчанию)\n",
    "* 'w' - открывает файл только для записи. Перед записью файл будет очищен. Если файл отсутствует, то он создается.\n",
    "* 'x' - открывает файл только для записи. Перед записью файл будет очищен. Если файл отсутствует, то будет ошибка.\n",
    "* 'a' - открыть файл для записи в конец файла. Если файл отсутствует, то он создается\n",
    "\n",
    "Дополнительно:\n",
    "* '_t' - текстовый файл (по умолчанию)\n",
    "* '_b - бинарные файлы\n",
    "* '_+' - режим r + w\n",
    "\n",
    "Note:\n",
    "* Помним, что после работы с файлом его необходимо закрыть.\n",
    "* Помним, что существуют различные кодировки текстовых файлов"
   ]
  },
  {
   "cell_type": "code",
   "execution_count": 1,
   "metadata": {},
   "outputs": [
    {
     "data": {
      "text/plain": [
       "'temp\\\\temp_file.txt'"
      ]
     },
     "execution_count": 1,
     "metadata": {},
     "output_type": "execute_result"
    }
   ],
   "source": [
    "import os \n",
    "\n",
    "# временный каталог\n",
    "TEMP_DIR = 'temp'\n",
    "\n",
    "if not os.path.exists(TEMP_DIR):\n",
    "    os.mkdir(TEMP_DIR)\n",
    "\n",
    "# Пример использования    \n",
    "os.path.join(TEMP_DIR, \"temp_file.txt\")"
   ]
  },
  {
   "cell_type": "code",
   "execution_count": 9,
   "metadata": {},
   "outputs": [],
   "source": [
    "poem = '''Однажды, в студеную зимнюю пору,\n",
    "Я из лесу вышел; был сильный мороз.\n",
    "Гляжу, поднимается медленно в гору\n",
    "Лошадка, везущая хворосту воз.\n",
    "\n",
    "И, шествуя важно, в спокойствии чинном,\n",
    "Лошадку ведет под уздцы мужичок\n",
    "В больших сапогах, в полушубке овчинном,\n",
    "В больших рукавицах... а сам с ноготок!\n",
    "'''"
   ]
  },
  {
   "cell_type": "markdown",
   "metadata": {},
   "source": [
    "## Запись в файл"
   ]
  },
  {
   "cell_type": "code",
   "execution_count": 3,
   "metadata": {},
   "outputs": [],
   "source": [
    "# Запись в файл через try-finally (классический вариант)\n",
    "f = open(os.path.join(TEMP_DIR,'temp_TXT.txt'),'w')\n",
    "try:\n",
    "    f.write('Hello\\n')\n",
    "    f.write('QWERTY\\n')\n",
    "finally:\n",
    "    f.close()"
   ]
  },
  {
   "cell_type": "code",
   "execution_count": 5,
   "metadata": {},
   "outputs": [],
   "source": [
    "# запись в файл через with-конструкцию\n",
    "\n",
    "with open(os.path.join(TEMP_DIR,'temp_TXT.txt'),'w') as f:\n",
    "    f.write(\"QWE\\n\")\n",
    "    f.write(\"123456\")\n",
    "    \n"
   ]
  },
  {
   "cell_type": "code",
   "execution_count": 7,
   "metadata": {},
   "outputs": [],
   "source": [
    "with open(os.path.join(TEMP_DIR,'temp_TXT_100.txt'),'w') as f:\n",
    "    lines = [f'line-{i}' for i in range(100)]\n",
    "    f.write('\\n'.join(lines))"
   ]
  },
  {
   "cell_type": "code",
   "execution_count": 12,
   "metadata": {},
   "outputs": [],
   "source": [
    "with open(os.path.join(TEMP_DIR,'temp_TXT_poem.txt'),'w') as f:\n",
    "    f.write(poem)"
   ]
  },
  {
   "cell_type": "code",
   "execution_count": 13,
   "metadata": {},
   "outputs": [],
   "source": [
    "with open(os.path.join(TEMP_DIR,'temp_TXT_poem_utf-8.txt'),'w',encoding='utf-8') as f:\n",
    "    f.write(poem)"
   ]
  },
  {
   "cell_type": "markdown",
   "metadata": {},
   "source": [
    "## Чтение из файла"
   ]
  },
  {
   "cell_type": "code",
   "execution_count": 16,
   "metadata": {},
   "outputs": [
    {
     "name": "stdout",
     "output_type": "stream",
     "text": [
      "QWE\n",
      "123456\n"
     ]
    }
   ],
   "source": [
    "with open(os.path.join(TEMP_DIR,'temp_TXT.txt')) as f:\n",
    "    print(f.read())"
   ]
  },
  {
   "cell_type": "code",
   "execution_count": 18,
   "metadata": {},
   "outputs": [
    {
     "name": "stdout",
     "output_type": "stream",
     "text": [
      "QWE\n",
      "123456"
     ]
    }
   ],
   "source": [
    "with open(os.path.join(TEMP_DIR,'temp_TXT.txt')) as f:\n",
    "    for line in f:\n",
    "        print(line)"
   ]
  },
  {
   "cell_type": "code",
   "execution_count": 19,
   "metadata": {},
   "outputs": [
    {
     "name": "stdout",
     "output_type": "stream",
     "text": [
      "line='QWE\\n'\n",
      "line='123456'\n"
     ]
    }
   ],
   "source": [
    "with open(os.path.join(TEMP_DIR,'temp_TXT.txt')) as f:\n",
    "    for line in f:\n",
    "        print(f'{line=}')"
   ]
  },
  {
   "cell_type": "code",
   "execution_count": 31,
   "metadata": {},
   "outputs": [
    {
     "name": "stdout",
     "output_type": "stream",
     "text": [
      "0) 'QWE\\n'\n",
      "1) '123456'\n"
     ]
    }
   ],
   "source": [
    "with open(os.path.join(TEMP_DIR,'temp_TXT.txt')) as f:\n",
    "    for n, line in enumerate(f):\n",
    "        print(f'{n}) {repr(line)}')"
   ]
  },
  {
   "cell_type": "code",
   "execution_count": 27,
   "metadata": {},
   "outputs": [
    {
     "name": "stdout",
     "output_type": "stream",
     "text": [
      "QWE\n",
      "\n",
      "123456\n"
     ]
    }
   ],
   "source": [
    "with open(os.path.join(TEMP_DIR,'temp_TXT.txt')) as f:\n",
    "    print(f.readline())\n",
    "    print(f.readline())"
   ]
  },
  {
   "cell_type": "code",
   "execution_count": 28,
   "metadata": {},
   "outputs": [
    {
     "name": "stdout",
     "output_type": "stream",
     "text": [
      "['QWE\\n', '123456']\n"
     ]
    }
   ],
   "source": [
    "with open(os.path.join(TEMP_DIR,'temp_TXT.txt')) as f:\n",
    "    print(f.readlines())"
   ]
  },
  {
   "cell_type": "code",
   "execution_count": 32,
   "metadata": {},
   "outputs": [
    {
     "name": "stdout",
     "output_type": "stream",
     "text": [
      "Однажды, в студеную зимнюю пору,\n",
      "Я из лесу вышел; был сильный мороз.\n",
      "Гляжу, поднимается медленно в гору\n",
      "Лошадка, везущая хворосту воз.\n",
      "\n",
      "И, шествуя важно, в спокойствии чинном,\n",
      "Лошадку ведет под уздцы мужичок\n",
      "В больших сапогах, в полушубке овчинном,\n",
      "В больших рукавицах... а сам с ноготок!\n"
     ]
    }
   ],
   "source": [
    "with open(os.path.join(TEMP_DIR,'temp_TXT_poem.txt')) as f:\n",
    "    for line in f:\n",
    "        print(line,end='')"
   ]
  },
  {
   "cell_type": "code",
   "execution_count": 34,
   "metadata": {},
   "outputs": [
    {
     "name": "stdout",
     "output_type": "stream",
     "text": [
      "Однажды, в студеную зимнюю пору,\n",
      "Я из лесу вышел; был сильный мороз.\n",
      "Гляжу, поднимается медленно в гору\n",
      "Лошадка, везущая хворосту воз.\n",
      "\n",
      "И, шествуя важно, в спокойствии чинном,\n",
      "Лошадку ведет под уздцы мужичок\n",
      "В больших сапогах, в полушубке овчинном,\n",
      "В больших рукавицах... а сам с ноготок!\n"
     ]
    }
   ],
   "source": [
    "with open(os.path.join(TEMP_DIR,'temp_TXT_poem_utf-8.txt'),encoding='utf-8') as f:\n",
    "    for line in f:\n",
    "        print(line,end='')"
   ]
  },
  {
   "cell_type": "code",
   "execution_count": 35,
   "metadata": {},
   "outputs": [
    {
     "ename": "UnicodeDecodeError",
     "evalue": "'charmap' codec can't decode byte 0x98 in position 249: character maps to <undefined>",
     "output_type": "error",
     "traceback": [
      "\u001b[1;31m---------------------------------------------------------------------------\u001b[0m",
      "\u001b[1;31mUnicodeDecodeError\u001b[0m                        Traceback (most recent call last)",
      "Cell \u001b[1;32mIn [35], line 2\u001b[0m\n\u001b[0;32m      1\u001b[0m \u001b[39mwith\u001b[39;00m \u001b[39mopen\u001b[39m(os\u001b[39m.\u001b[39mpath\u001b[39m.\u001b[39mjoin(TEMP_DIR,\u001b[39m'\u001b[39m\u001b[39mtemp_TXT_poem_utf-8.txt\u001b[39m\u001b[39m'\u001b[39m)) \u001b[39mas\u001b[39;00m f:\n\u001b[1;32m----> 2\u001b[0m     \u001b[39mfor\u001b[39;00m line \u001b[39min\u001b[39;00m f:\n\u001b[0;32m      3\u001b[0m         \u001b[39mprint\u001b[39m(line,end\u001b[39m=\u001b[39m\u001b[39m'\u001b[39m\u001b[39m'\u001b[39m)\n",
      "File \u001b[1;32mc:\\Users\\Admin\\AppData\\Local\\Programs\\Python\\Python39\\lib\\encodings\\cp1251.py:23\u001b[0m, in \u001b[0;36mIncrementalDecoder.decode\u001b[1;34m(self, input, final)\u001b[0m\n\u001b[0;32m     22\u001b[0m \u001b[39mdef\u001b[39;00m \u001b[39mdecode\u001b[39m(\u001b[39mself\u001b[39m, \u001b[39minput\u001b[39m, final\u001b[39m=\u001b[39m\u001b[39mFalse\u001b[39;00m):\n\u001b[1;32m---> 23\u001b[0m     \u001b[39mreturn\u001b[39;00m codecs\u001b[39m.\u001b[39;49mcharmap_decode(\u001b[39minput\u001b[39;49m,\u001b[39mself\u001b[39;49m\u001b[39m.\u001b[39;49merrors,decoding_table)[\u001b[39m0\u001b[39m]\n",
      "\u001b[1;31mUnicodeDecodeError\u001b[0m: 'charmap' codec can't decode byte 0x98 in position 249: character maps to <undefined>"
     ]
    }
   ],
   "source": [
    "with open(os.path.join(TEMP_DIR,'temp_TXT_poem_utf-8.txt')) as f:\n",
    "    for line in f:\n",
    "        print(line,end='')"
   ]
  },
  {
   "cell_type": "code",
   "execution_count": 36,
   "metadata": {},
   "outputs": [
    {
     "name": "stdout",
     "output_type": "stream",
     "text": [
      "Однажды, в студеную зимнюю пору,\n",
      "Я из лесу вышел; был сильный мороз.\n",
      "Гляжу, поднимается медленно в гору\n",
      "Лошадка, везущая хворосту воз.\n",
      "\n",
      "И, шествуя важно, в спокойствии чинном,\n",
      "Лошадку ведет под уздцы мужичок\n",
      "В больших сапогах, в полушубке овчинном,\n",
      "В больших рукавицах... а сам с ноготок!\n"
     ]
    }
   ],
   "source": [
    "with open(os.path.join(TEMP_DIR,'temp_TXT_poem_utf-8.txt'),encoding='utf-8') as f:\n",
    "    for line in f.readlines():\n",
    "        print(line,end='')"
   ]
  }
 ],
 "metadata": {
  "kernelspec": {
   "display_name": "Python 3.9.6 64-bit",
   "language": "python",
   "name": "python3"
  },
  "language_info": {
   "codemirror_mode": {
    "name": "ipython",
    "version": 3
   },
   "file_extension": ".py",
   "mimetype": "text/x-python",
   "name": "python",
   "nbconvert_exporter": "python",
   "pygments_lexer": "ipython3",
   "version": "3.9.6 (tags/v3.9.6:db3ff76, Jun 28 2021, 15:26:21) [MSC v.1929 64 bit (AMD64)]"
  },
  "orig_nbformat": 4,
  "vscode": {
   "interpreter": {
    "hash": "0d591c6e422414675974e227c13f5382000c440fedd3c5006ef2be5d887f0ba7"
   }
  }
 },
 "nbformat": 4,
 "nbformat_minor": 2
}
