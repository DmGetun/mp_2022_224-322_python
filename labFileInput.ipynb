{
 "cells": [
  {
   "attachments": {},
   "cell_type": "markdown",
   "metadata": {},
   "source": [
    "# FileInput"
   ]
  },
  {
   "cell_type": "code",
   "execution_count": 3,
   "metadata": {},
   "outputs": [],
   "source": [
    "import fileinput"
   ]
  },
  {
   "cell_type": "code",
   "execution_count": 6,
   "metadata": {},
   "outputs": [
    {
     "name": "stdout",
     "output_type": "stream",
     "text": [
      "\n",
      "\n",
      "#РєРѕРјРјРµРЅС‚Р°СЂРёР№\n",
      "\n",
      "\n",
      "\n",
      "print('РџСЂРёРІРµС‚!')\n",
      "\n",
      "\n",
      "\n",
      "name = 'РњР°С€Р°'\n",
      "\n",
      "print('РџСЂРёРІРµС‚, ' + name + '!')\n",
      "\n",
      "print('РџСЂРёРІРµС‚, ',name,'!')\n",
      "\n",
      "print(f'РџСЂРёРІРµС‚ {name}')\n",
      "\n",
      "\n",
      "\n",
      "print(1,2,3,4)\n",
      "\n",
      "print(1,2,3,4,sep=', ')\n",
      "\n",
      "print(1,2,3,4,sep='\\n')\n",
      "\n",
      "print(1,2,3,4,sep='_')\n",
      "\n",
      "\n",
      "\n",
      "def AAA():\n",
      "\n",
      "    a = 3\n",
      "\n",
      "    b = 2\n",
      "\n",
      "    print(a + b)\n",
      "\n",
      "    \n",
      "\n",
      "AAA()\n",
      "effects = [f'\\033[{i}m' for i in range(0,8)]\n",
      "\n",
      "print(f'{effects=}')\n",
      "\n",
      "text_colors = {i: f'\\033[{i}m' for i in range(30,38)}\n",
      "\n",
      "print(f'{text_colors=}')\n",
      "\n",
      "console_colors = {i: f'\\033[{i}m' for i in range(40,48)}\n",
      "\n",
      "print(f'{console_colors=}')\n",
      "\n",
      "\n",
      "\n",
      "for text_color in text_colors.items():\n",
      "\n",
      "    for console_color in console_colors.items():\n",
      "\n",
      "        print(f'{text_color[1]}{console_color[1]}{text_color[0]}:{console_color[0]}',end=' ')\n",
      "\n",
      "        print(f'{text_colors[30]}{console_colors[40]}',end='')\n",
      "\n",
      "    print()\n",
      "\n",
      "    \n",
      "\n",
      "for index, effect in enumerate(effects):\n",
      "\n",
      "    print(f'effect {index}: {effect}abc')\n",
      "\n",
      "    print(f'{effects[0]}',end='')\n",
      "\n",
      "\n",
      "\n",
      "print(f'{text_colors[30]}{console_colors[40]}{effects[0]}')\n"
     ]
    }
   ],
   "source": [
    "with fileinput.FileInput(files=(\"labHello.py\", \"labColor16.py\")) as input:\n",
    "    for line in input:\n",
    "        print(line)"
   ]
  }
 ],
 "metadata": {
  "kernelspec": {
   "display_name": "Python 3",
   "language": "python",
   "name": "python3"
  },
  "language_info": {
   "codemirror_mode": {
    "name": "ipython",
    "version": 3
   },
   "file_extension": ".py",
   "mimetype": "text/x-python",
   "name": "python",
   "nbconvert_exporter": "python",
   "pygments_lexer": "ipython3",
   "version": "3.9.6"
  },
  "orig_nbformat": 4,
  "vscode": {
   "interpreter": {
    "hash": "0d591c6e422414675974e227c13f5382000c440fedd3c5006ef2be5d887f0ba7"
   }
  }
 },
 "nbformat": 4,
 "nbformat_minor": 2
}
