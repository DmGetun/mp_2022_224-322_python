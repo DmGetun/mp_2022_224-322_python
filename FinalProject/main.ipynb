{
 "cells": [
  {
   "cell_type": "code",
   "execution_count": 2,
   "metadata": {},
   "outputs": [
    {
     "name": "stdout",
     "output_type": "stream",
     "text": [
      "<generator object _walk at 0x000001D32200CDD0>\n"
     ]
    }
   ],
   "source": [
    "import os\n",
    "\n",
    "print(os.walk('.'))"
   ]
  },
  {
   "cell_type": "code",
   "execution_count": 3,
   "metadata": {},
   "outputs": [
    {
     "ename": "FileNotFoundError",
     "evalue": "[WinError 2] Не удается найти указанный файл: 'new.pdf'",
     "output_type": "error",
     "traceback": [
      "\u001b[1;31m---------------------------------------------------------------------------\u001b[0m",
      "\u001b[1;31mFileNotFoundError\u001b[0m                         Traceback (most recent call last)",
      "Cell \u001b[1;32mIn [3], line 5\u001b[0m\n\u001b[0;32m      1\u001b[0m \u001b[39mimport\u001b[39;00m \u001b[39mos\u001b[39;00m \n\u001b[0;32m      3\u001b[0m os\u001b[39m.\u001b[39mpath\u001b[39m.\u001b[39mexists(\u001b[39m'\u001b[39m\u001b[39mtest.db\u001b[39m\u001b[39m'\u001b[39m)\n\u001b[1;32m----> 5\u001b[0m \u001b[39mprint\u001b[39m(os\u001b[39m.\u001b[39;49mstat(\u001b[39m'\u001b[39;49m\u001b[39mnew.pdf\u001b[39;49m\u001b[39m'\u001b[39;49m))\n",
      "\u001b[1;31mFileNotFoundError\u001b[0m: [WinError 2] Не удается найти указанный файл: 'new.pdf'"
     ]
    }
   ],
   "source": [
    "import os \n",
    "\n",
    "os.path.exists('test.db')\n",
    "\n",
    "print(os.stat('new.pdf'))"
   ]
  },
  {
   "cell_type": "code",
   "execution_count": null,
   "metadata": {},
   "outputs": [],
   "source": [
    "with open('2014-1_120-145.pdf', 'rb') as f, open('new.pdf', 'wb') as w:\n",
    "    data = f.read()\n",
    "    w.write(data)"
   ]
  },
  {
   "cell_type": "code",
   "execution_count": null,
   "metadata": {},
   "outputs": [],
   "source": [
    "with open('Bahh Tee - Одна история.mp3', 'rb') as f, open('new.mp3', 'wb') as w:\n",
    "    data = f.read()\n",
    "    w.write(data)"
   ]
  },
  {
   "cell_type": "code",
   "execution_count": null,
   "metadata": {},
   "outputs": [
    {
     "data": {
      "text/plain": [
       "os.stat_result(st_mode=33206, st_ino=55450570412141192, st_dev=2621779794, st_nlink=1, st_uid=0, st_gid=0, st_size=5178567, st_atime=1673719472, st_mtime=1673595137, st_ctime=1673595152)"
      ]
     },
     "execution_count": 9,
     "metadata": {},
     "output_type": "execute_result"
    }
   ],
   "source": [
    "\n",
    "    \n",
    "os.stat('files/2014-1_120-145.pdf')"
   ]
  },
  {
   "cell_type": "code",
   "execution_count": null,
   "metadata": {},
   "outputs": [
    {
     "name": "stdout",
     "output_type": "stream",
     "text": [
      ". ['files', '__pycache__'] ['db.py', 'dir.py', 'file.py', 'logger.py', 'main.ipynb', 'main.py', 'synchronizer.py', 'test.db']\n",
      ".\\files [] ['2014-1_120-145.pdf', 'Bahh Tee - Одна история.mp3', 'Текст.docx']\n",
      ".\\__pycache__ [] ['db.cpython-39.pyc']\n"
     ]
    }
   ],
   "source": [
    "def recursive_walk(path, depth, max_depth):\n",
    "    if depth >= max_depth:\n",
    "        return\n",
    "    \n",
    "    for file in os.listdir(path):\n",
    "        file_path = os.path.abspath(path)\n",
    "        if os.path.isfile(file_path):\n",
    "            pass\n",
    "        else:\n",
    "            recursive_walk(file_path, depth+1, max_depth)\n",
    "    \n",
    "    "
   ]
  },
  {
   "cell_type": "code",
   "execution_count": null,
   "metadata": {},
   "outputs": [
    {
     "data": {
      "text/plain": [
       "True"
      ]
     },
     "execution_count": 11,
     "metadata": {},
     "output_type": "execute_result"
    }
   ],
   "source": [
    "os.path.isfile('files/2014-1_120-145.pdf')"
   ]
  },
  {
   "cell_type": "code",
   "execution_count": null,
   "metadata": {},
   "outputs": [
    {
     "ename": "OperationalError",
     "evalue": "table file_info already exists",
     "output_type": "error",
     "traceback": [
      "\u001b[1;31m---------------------------------------------------------------------------\u001b[0m",
      "\u001b[1;31mOperationalError\u001b[0m                          Traceback (most recent call last)",
      "Cell \u001b[1;32mIn [36], line 5\u001b[0m\n\u001b[0;32m      3\u001b[0m db \u001b[39m=\u001b[39m DataBase(\u001b[39m'\u001b[39m\u001b[39mtest.db\u001b[39m\u001b[39m'\u001b[39m)\n\u001b[0;32m      4\u001b[0m db\u001b[39m.\u001b[39mcreate_database()\n\u001b[1;32m----> 5\u001b[0m db\u001b[39m.\u001b[39;49mcreate_tables()\n\u001b[0;32m      6\u001b[0m db\u001b[39m.\u001b[39mget_tables()\n",
      "File \u001b[1;32mc:\\Универ\\Современные технологии программирования\\питон\\mp_2022_224-322_python\\FinalProject\\db.py:37\u001b[0m, in \u001b[0;36mcreate_tables\u001b[1;34m(self)\u001b[0m\n\u001b[0;32m     26\u001b[0m \u001b[39mdef\u001b[39;00m \u001b[39mcreate_tables\u001b[39m(\u001b[39mself\u001b[39m):\n\u001b[0;32m     28\u001b[0m     query \u001b[39m=\u001b[39m \u001b[39mf\u001b[39m\u001b[39m'''\u001b[39m\n\u001b[0;32m     29\u001b[0m \u001b[39m        CREATE TABLE IF NOT EXISTS \u001b[39m\u001b[39m{\u001b[39;00mfile_info_table\u001b[39m}\u001b[39;00m\u001b[39m (\u001b[39m\n\u001b[0;32m     30\u001b[0m \u001b[39m            id INTEGER PRIMAKY KEY NOT NULL,\u001b[39m\n\u001b[0;32m     31\u001b[0m \u001b[39m            filename VARCHAR(255),\u001b[39m\n\u001b[0;32m     32\u001b[0m \u001b[39m            stmode INTEGER, --права пользователя\u001b[39m\n\u001b[0;32m     33\u001b[0m \u001b[39m            atime INTEGER, --время последнего доступа к файлу\u001b[39m\n\u001b[0;32m     34\u001b[0m \u001b[39m            mtime INTEGER, --время последнего изменения файла\u001b[39m\n\u001b[0;32m     35\u001b[0m \u001b[39m            ctime INTEGER, --время последнего изменения прав доступа или владельца\u001b[39m\n\u001b[0;32m     36\u001b[0m \u001b[39m            content TEXT --содержимое файла\u001b[39m\n\u001b[1;32m---> 37\u001b[0m \u001b[39m        );\u001b[39m\n\u001b[0;32m     38\u001b[0m \u001b[39m    \u001b[39m\u001b[39m'''\u001b[39m\n\u001b[0;32m     39\u001b[0m     \u001b[39mprint\u001b[39m(query)\n\u001b[0;32m     41\u001b[0m     \u001b[39mself\u001b[39m\u001b[39m.\u001b[39mcursor\u001b[39m.\u001b[39mexecute(query)\n",
      "\u001b[1;31mOperationalError\u001b[0m: table file_info already exists"
     ]
    }
   ],
   "source": [
    "from db import DataBase\n",
    "\n",
    "db = DataBase('test.db')\n",
    "db.create_database()\n",
    "db.create_tables()\n",
    "db.get_tables()"
   ]
  },
  {
   "cell_type": "code",
   "execution_count": null,
   "metadata": {},
   "outputs": [
    {
     "data": {
      "text/plain": [
       "'./sync_dir/Bahh Tee - Одна история.mp3'"
      ]
     },
     "execution_count": 37,
     "metadata": {},
     "output_type": "execute_result"
    }
   ],
   "source": [
    "import shutil\n",
    "\n",
    "src = './files/Bahh Tee - Одна история.mp3'\n",
    "dest = './sync_dir/'\n",
    "shutil.copy2(src,dest)"
   ]
  },
  {
   "cell_type": "code",
   "execution_count": null,
   "metadata": {},
   "outputs": [
    {
     "data": {
      "text/plain": [
       "(4, 1, 2, 3)"
      ]
     },
     "execution_count": 38,
     "metadata": {},
     "output_type": "execute_result"
    }
   ],
   "source": [
    "s = (1,2,3)\n",
    "r = (4,)\n",
    "r + s"
   ]
  },
  {
   "cell_type": "code",
   "execution_count": null,
   "metadata": {},
   "outputs": [
    {
     "data": {
      "text/plain": [
       "\"[{'2023-01-16 23:22:55'}] message 1\""
      ]
     },
     "execution_count": 44,
     "metadata": {},
     "output_type": "execute_result"
    }
   ],
   "source": [
    "from datetime import datetime \n",
    "now = datetime.now() \n",
    "time = {now.strftime(\"%Y-%m-%d %H:%M:%S\")}\n",
    "\n",
    "message = f\"[{time}] message 1\"\n",
    "message"
   ]
  },
  {
   "cell_type": "code",
   "execution_count": null,
   "metadata": {},
   "outputs": [
    {
     "name": "stdout",
     "output_type": "stream",
     "text": [
      "[{'2023-01-16 23:26:20'}] Этот процесс вышел из строя\n"
     ]
    }
   ],
   "source": [
    "text = 'Этот процесс вышел из строя'\n",
    "from logger import Logger\n",
    "\n",
    "Logger.log(text,' ')"
   ]
  },
  {
   "cell_type": "code",
   "execution_count": null,
   "metadata": {},
   "outputs": [
    {
     "name": "stdout",
     "output_type": "stream",
     "text": [
      "[{'2023-01-16 23:27:33'}] Этот процесс вышел из строя\n"
     ]
    }
   ],
   "source": [
    "text = 'Этот процесс вышел из строя'\n",
    "from logger import Logger\n",
    "\n",
    "Logger.log(text,' ')"
   ]
  },
  {
   "cell_type": "code",
   "execution_count": null,
   "metadata": {},
   "outputs": [
    {
     "data": {
      "text/plain": [
       "'2023-01-17 16:23:50'"
      ]
     },
     "execution_count": 11,
     "metadata": {},
     "output_type": "execute_result"
    }
   ],
   "source": [
    "from datetime import datetime\n",
    "import time\n",
    "time.ctime()\n",
    "#datetime.strptime('1673961830.631699',\"%a %b %d %H:%M:%S %Y\")\n",
    "dt = datetime.fromtimestamp(1673961830.631699)\n",
    "dt.strftime('%Y-%m-%d %H:%M:%S')"
   ]
  },
  {
   "cell_type": "code",
   "execution_count": null,
   "metadata": {},
   "outputs": [
    {
     "data": {
      "text/plain": [
       "'D:\\\\dir_to_sync\\\\depth'"
      ]
     },
     "execution_count": 12,
     "metadata": {},
     "output_type": "execute_result"
    }
   ],
   "source": [
    "path = \"D:\\\\dir_to_sync\\\\depth\\\\2014-1_120-145.pdf\"\n",
    "os.path.dirname(path)"
   ]
  },
  {
   "cell_type": "code",
   "execution_count": 12,
   "metadata": {},
   "outputs": [
    {
     "name": "stdout",
     "output_type": "stream",
     "text": [
      "+---------------------+---------+--------------+----------------+---------+-------------------------------------------------------+---------------------+---------------------+---------------------+\n",
      "|      sync_time      | sync_id |    source    |  destination   | file_id |                        filename                       |        stmode       |        mtime        |        ctime        |\n",
      "+---------------------+---------+--------------+----------------+---------+-------------------------------------------------------+---------------------+---------------------+---------------------+\n",
      "| 2023-01-17 15:17:18 |    1    | D:\\test_sync | D:\\dir_to_sync |    1    |        D:\\test_sync\\Bahh Tee - Одна история.mp3       | 1970-01-01 12:13:26 | 2023-01-14 21:06:21 | 2023-01-17 17:39:41 |\n",
      "| 2023-01-17 15:17:18 |    1    | D:\\test_sync | D:\\dir_to_sync |    2    | D:\\test_sync\\depth\\depth2\\Bahh Tee - Одна история.mp3 | 1970-01-01 12:13:26 | 2023-01-14 21:06:21 | 2023-01-17 17:54:40 |\n",
      "| 2023-01-17 15:17:18 |    1    | D:\\test_sync | D:\\dir_to_sync |    3    |                D:\\test_sync\\Текст.docx                | 1970-01-01 12:13:26 | 2023-01-14 17:17:58 | 2023-01-17 17:39:41 |\n",
      "| 2023-01-17 15:17:41 |    1    | D:\\test_sync | D:\\dir_to_sync |    4    |         D:\\test_sync\\depth\\2014-1_120-145.pdf         | 1970-01-01 12:13:26 | 2023-01-13 10:32:17 | 2023-01-17 17:39:41 |\n",
      "+---------------------+---------+--------------+----------------+---------+-------------------------------------------------------+---------------------+---------------------+---------------------+\n"
     ]
    }
   ],
   "source": [
    "import sqlite3\n",
    "from prettytable import PrettyTable\n",
    "import contextlib\n",
    "\n",
    "# достать полную информацию о синхронизации по id\n",
    "query = '''\n",
    "    SELECT sync_time,sync_id, source_path, destination_path, file_id, filename, stmode, mtime, ctime FROM synchronize_info s\n",
    "    left join file_info f\n",
    "    on s.file_id = f.id \n",
    "    where s.sync_id = 1;\n",
    "'''\n",
    "\n",
    "table = PrettyTable()\n",
    "table.field_names = ['sync_time', 'sync_id', 'source', 'destination', 'file_id', 'filename', 'stmode', 'mtime', 'ctime']\n",
    "\n",
    "with contextlib.closing(sqlite3.connect('test.db')) as con:\n",
    "    with con as cursor:\n",
    "        data = cursor.execute(query).fetchall()\n",
    "        \n",
    "table.add_rows(data)\n",
    "\n",
    "print(table)\n",
    "        \n",
    "        "
   ]
  },
  {
   "cell_type": "code",
   "execution_count": 13,
   "metadata": {},
   "outputs": [
    {
     "name": "stdout",
     "output_type": "stream",
     "text": [
      "+--------------+\n",
      "|    source    |\n",
      "+--------------+\n",
      "| D:\\test_sync |\n",
      "+--------------+\n"
     ]
    }
   ],
   "source": [
    "# достать все пути, из которых происходила синхронизация\n",
    "query = '''\n",
    "    SELECT distinct source_path from synchronize_info\n",
    "'''\n",
    "\n",
    "table = PrettyTable()\n",
    "table.field_names = ['source']\n",
    "\n",
    "with contextlib.closing(sqlite3.connect('test.db')) as con:\n",
    "    with con as cursor:\n",
    "        data = cursor.execute(query).fetchall()\n",
    "        \n",
    "table.add_rows(data)\n",
    "\n",
    "print(table)"
   ]
  },
  {
   "cell_type": "code",
   "execution_count": 14,
   "metadata": {},
   "outputs": [
    {
     "name": "stdout",
     "output_type": "stream",
     "text": [
      "+--------------+----------------+\n",
      "|    source    |  destination   |\n",
      "+--------------+----------------+\n",
      "| D:\\test_sync | D:\\dir_to_sync |\n",
      "+--------------+----------------+\n"
     ]
    }
   ],
   "source": [
    "# достать все пути источник -> назначение, синхронизация которых происходила\n",
    "query = '''\n",
    "    SELECT distinct source_path, destination_path from synchronize_info\n",
    "'''\n",
    "\n",
    "table = PrettyTable()\n",
    "table.field_names = ['source', 'destination']\n",
    "\n",
    "with contextlib.closing(sqlite3.connect('test.db')) as con:\n",
    "    with con as cursor:\n",
    "        data = cursor.execute(query).fetchall()\n",
    "        \n",
    "table.add_rows(data)\n",
    "\n",
    "print(table)"
   ]
  },
  {
   "cell_type": "code",
   "execution_count": null,
   "metadata": {},
   "outputs": [],
   "source": [
    "# 3 достать все пути источник -> назначение, синхронизация которых происходила\n",
    "query = '''\n",
    "    SELECT distinct source_path, destination_path from synchronize_info\n",
    "'''\n",
    "\n",
    "table = PrettyTable()\n",
    "table.field_names = ['source', 'destination']\n",
    "\n",
    "with contextlib.closing(sqlite3.connect('test.db')) as con:\n",
    "    with con as cursor:\n",
    "        data = cursor.execute(query).fetchall()\n",
    "        \n",
    "table.add_rows(data)\n",
    "\n",
    "print(table)"
   ]
  },
  {
   "cell_type": "code",
   "execution_count": 15,
   "metadata": {},
   "outputs": [
    {
     "name": "stdout",
     "output_type": "stream",
     "text": [
      "+-------------------------------------------------------+\n",
      "|                        filename                       |\n",
      "+-------------------------------------------------------+\n",
      "|        D:\\test_sync\\Bahh Tee - Одна история.mp3       |\n",
      "| D:\\test_sync\\depth\\depth2\\Bahh Tee - Одна история.mp3 |\n",
      "|                D:\\test_sync\\Текст.docx                |\n",
      "|         D:\\test_sync\\depth\\2014-1_120-145.pdf         |\n",
      "+-------------------------------------------------------+\n"
     ]
    }
   ],
   "source": [
    "# 4 достать все синхронизированные файлы\n",
    "query = '''\n",
    "    SELECT distinct filename from file_info\n",
    "'''\n",
    "\n",
    "table = PrettyTable()\n",
    "table.field_names = ['filename']\n",
    "\n",
    "with contextlib.closing(sqlite3.connect('test.db')) as con:\n",
    "    with con as cursor:\n",
    "        data = cursor.execute(query).fetchall()\n",
    "        \n",
    "table.add_rows(data)\n",
    "\n",
    "print(table)"
   ]
  },
  {
   "cell_type": "code",
   "execution_count": 19,
   "metadata": {},
   "outputs": [
    {
     "name": "stdout",
     "output_type": "stream",
     "text": [
      "+--------------+----------------+\n",
      "|    source    |  destination   |\n",
      "+--------------+----------------+\n",
      "| D:\\test_sync | D:\\dir_to_sync |\n",
      "+--------------+----------------+\n"
     ]
    }
   ],
   "source": [
    "# 5 достать все синхронизации, дата которых позже чем 15.01.2023\n",
    "query = '''\n",
    "    SELECT distinct source_path, destination_path from synchronize_info\n",
    "    where sync_time > '2023-01-15'\n",
    "'''\n",
    "\n",
    "table = PrettyTable()\n",
    "table.field_names = ['source','destination']\n",
    "\n",
    "with contextlib.closing(sqlite3.connect('test.db')) as con:\n",
    "    with con as cursor:\n",
    "        data = cursor.execute(query).fetchall()\n",
    "        \n",
    "table.add_rows(data)\n",
    "\n",
    "print(table)"
   ]
  },
  {
   "cell_type": "code",
   "execution_count": 21,
   "metadata": {},
   "outputs": [
    {
     "name": "stdout",
     "output_type": "stream",
     "text": [
      "+---------+-------------+\n",
      "| sync_id | files count |\n",
      "+---------+-------------+\n",
      "|    1    |      4      |\n",
      "+---------+-------------+\n"
     ]
    }
   ],
   "source": [
    "# 6 достать количество синхронизируемых файлов для каждой синхронизации\n",
    "query = '''\n",
    "    SELECT sync_id, count(*) from synchronize_info\n",
    "    group by sync_id\n",
    "'''\n",
    "\n",
    "table = PrettyTable()\n",
    "table.field_names = ['sync_id','files count']\n",
    "\n",
    "with contextlib.closing(sqlite3.connect('test.db')) as con:\n",
    "    with con as cursor:\n",
    "        data = cursor.execute(query).fetchall()\n",
    "        \n",
    "table.add_rows(data)\n",
    "\n",
    "print(table)"
   ]
  },
  {
   "cell_type": "code",
   "execution_count": 28,
   "metadata": {},
   "outputs": [
    {
     "name": "stdout",
     "output_type": "stream",
     "text": [
      "+------------------------------------------+\n",
      "|                 filename                 |\n",
      "+------------------------------------------+\n",
      "| D:\\test_sync\\Bahh Tee - Одна история.mp3 |\n",
      "+------------------------------------------+\n"
     ]
    }
   ],
   "source": [
    "# 7 достать последний измененный файл из синхронизации\n",
    "query = '''\n",
    "    SELECT filename FROM synchronize_info s\n",
    "    left join file_info f\n",
    "    on s.file_id = f.id \n",
    "    group by sync_id\n",
    "    having mtime = max(mtime)\n",
    "'''\n",
    "\n",
    "table = PrettyTable()\n",
    "table.field_names = ['filename']\n",
    "\n",
    "with contextlib.closing(sqlite3.connect('test.db')) as con:\n",
    "    with con as cursor:\n",
    "        data = cursor.execute(query).fetchall()\n",
    "        \n",
    "table.add_rows(data)\n",
    "\n",
    "print(table)"
   ]
  },
  {
   "cell_type": "code",
   "execution_count": null,
   "metadata": {},
   "outputs": [],
   "source": [
    "# 7 достать последний измененный файл из синхронизации\n",
    "query = '''\n",
    "    SELECT filename FROM synchronize_info s\n",
    "    left join file_info f\n",
    "    on s.file_id = f.id \n",
    "    group by sync_id\n",
    "    having mtime = max(mtime)\n",
    "'''\n",
    "\n",
    "table = PrettyTable()\n",
    "table.field_names = ['filename']\n",
    "\n",
    "with contextlib.closing(sqlite3.connect('test.db')) as con:\n",
    "    with con as cursor:\n",
    "        data = cursor.execute(query).fetchall()\n",
    "        \n",
    "table.add_rows(data)\n",
    "\n",
    "print(table)"
   ]
  },
  {
   "cell_type": "code",
   "execution_count": 29,
   "metadata": {},
   "outputs": [
    {
     "name": "stdout",
     "output_type": "stream",
     "text": [
      "+-------------------------------------------------------+-----+\n",
      "|                        filename                       | len |\n",
      "+-------------------------------------------------------+-----+\n",
      "|        D:\\test_sync\\Bahh Tee - Одна история.mp3       |  40 |\n",
      "|         D:\\test_sync\\depth\\2014-1_120-145.pdf         |  37 |\n",
      "| D:\\test_sync\\depth\\depth2\\Bahh Tee - Одна история.mp3 |  53 |\n",
      "|                D:\\test_sync\\Текст.docx                |  23 |\n",
      "+-------------------------------------------------------+-----+\n"
     ]
    }
   ],
   "source": [
    "# 8 получить длину всех путей к файлам\n",
    "query = '''\n",
    "    SELECT filename, max(length(filename)) as length\n",
    "    from file_info f\n",
    "    group by filename\n",
    "'''\n",
    "\n",
    "table = PrettyTable()\n",
    "table.field_names = ['filename', 'len']\n",
    "\n",
    "with contextlib.closing(sqlite3.connect('test.db')) as con:\n",
    "    with con as cursor:\n",
    "        data = cursor.execute(query).fetchall()\n",
    "        \n",
    "table.add_rows(data)\n",
    "\n",
    "print(table)"
   ]
  },
  {
   "cell_type": "code",
   "execution_count": 34,
   "metadata": {},
   "outputs": [
    {
     "name": "stdout",
     "output_type": "stream",
     "text": [
      "+-------------------------------------------------------+-----+\n",
      "|                        filename                       | len |\n",
      "+-------------------------------------------------------+-----+\n",
      "|        D:\\test_sync\\Bahh Tee - Одна история.mp3       |  40 |\n",
      "|         D:\\test_sync\\depth\\2014-1_120-145.pdf         |  37 |\n",
      "| D:\\test_sync\\depth\\depth2\\Bahh Tee - Одна история.mp3 |  53 |\n",
      "|                D:\\test_sync\\Текст.docx                |  23 |\n",
      "+-------------------------------------------------------+-----+\n"
     ]
    }
   ],
   "source": [
    "# 9 получить самый длинный путь к фалу\n",
    "query = '''\n",
    "select filename, max(l) as max_length from (\n",
    "\tselect \n",
    "\t\tfilename, \n",
    "\t\tlength(filename) as l\n",
    "\tfrom file_info f\n",
    ")\n",
    "'''\n",
    "\n",
    "table = PrettyTable()\n",
    "table.field_names = ['filename', 'len']\n",
    "\n",
    "with contextlib.closing(sqlite3.connect('test.db')) as con:\n",
    "    with con as cursor:\n",
    "        data = cursor.execute(query).fetchall()\n",
    "        \n",
    "table.add_rows(data)\n",
    "\n",
    "print(table)"
   ]
  },
  {
   "cell_type": "code",
   "execution_count": 41,
   "metadata": {},
   "outputs": [
    {
     "name": "stdout",
     "output_type": "stream",
     "text": [
      "+---------+---------------------+\n",
      "| sync_id |      sync_time      |\n",
      "+---------+---------------------+\n",
      "|    1    | 2023-01-18 22:50:57 |\n",
      "|    1    | 2023-01-18 22:50:57 |\n",
      "|    1    | 2023-01-18 22:50:57 |\n",
      "|    1    | 2023-01-18 22:50:56 |\n",
      "+---------+---------------------+\n"
     ]
    }
   ],
   "source": [
    "# 10 отсортировать синхронизации в порядке убывания\n",
    "query = '''\n",
    "    SELECT sync_id, sync_time FROM synchronize_info s\n",
    "    left join file_info f\n",
    "    on s.file_id = f.id \n",
    "\tORDER BY sync_time DESC\n",
    "'''\n",
    "\n",
    "table = PrettyTable()\n",
    "table.field_names = ['sync_id', 'sync_time']\n",
    "\n",
    "with contextlib.closing(sqlite3.connect('test.db')) as con:\n",
    "    with con as cursor:\n",
    "        data = cursor.execute(query).fetchall()\n",
    "        \n",
    "table.add_rows(data)\n",
    "\n",
    "print(table)"
   ]
  },
  {
   "cell_type": "code",
   "execution_count": 1,
   "metadata": {},
   "outputs": [
    {
     "ename": "NameError",
     "evalue": "name '__file__' is not defined",
     "output_type": "error",
     "traceback": [
      "\u001b[1;31m---------------------------------------------------------------------------\u001b[0m",
      "\u001b[1;31mNameError\u001b[0m                                 Traceback (most recent call last)",
      "Cell \u001b[1;32mIn [1], line 3\u001b[0m\n\u001b[0;32m      1\u001b[0m \u001b[39mfrom\u001b[39;00m \u001b[39mos\u001b[39;00m\u001b[39m.\u001b[39;00m\u001b[39mpath\u001b[39;00m \u001b[39mimport\u001b[39;00m abspath\n\u001b[1;32m----> 3\u001b[0m \u001b[39mprint\u001b[39m(abspath(\u001b[39m__file__\u001b[39;49m))\n",
      "\u001b[1;31mNameError\u001b[0m: name '__file__' is not defined"
     ]
    }
   ],
   "source": [
    "from os.path import abspath\n",
    "\n",
    "print(abspath(__file__))"
   ]
  }
 ],
 "metadata": {
  "kernelspec": {
   "display_name": "Python 3",
   "language": "python",
   "name": "python3"
  },
  "language_info": {
   "codemirror_mode": {
    "name": "ipython",
    "version": 3
   },
   "file_extension": ".py",
   "mimetype": "text/x-python",
   "name": "python",
   "nbconvert_exporter": "python",
   "pygments_lexer": "ipython3",
   "version": "3.9.6 (tags/v3.9.6:db3ff76, Jun 28 2021, 15:26:21) [MSC v.1929 64 bit (AMD64)]"
  },
  "orig_nbformat": 4,
  "vscode": {
   "interpreter": {
    "hash": "0d591c6e422414675974e227c13f5382000c440fedd3c5006ef2be5d887f0ba7"
   }
  }
 },
 "nbformat": 4,
 "nbformat_minor": 2
}
