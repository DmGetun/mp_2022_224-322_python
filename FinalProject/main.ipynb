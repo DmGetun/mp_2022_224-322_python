{
 "cells": [
  {
   "cell_type": "code",
   "execution_count": 1,
   "metadata": {},
   "outputs": [
    {
     "name": "stdout",
     "output_type": "stream",
     "text": [
      "<generator object _walk at 0x0000014C52997DD0>\n"
     ]
    }
   ],
   "source": [
    "import os\n",
    "\n",
    "print(os.walk('.'))"
   ]
  },
  {
   "cell_type": "code",
   "execution_count": 17,
   "metadata": {},
   "outputs": [
    {
     "name": "stdout",
     "output_type": "stream",
     "text": [
      "os.stat_result(st_mode=33206, st_ino=177329235327778655, st_dev=2621779794, st_nlink=1, st_uid=0, st_gid=0, st_size=0, st_atime=1673707254, st_mtime=1673707254, st_ctime=1673707254)\n"
     ]
    }
   ],
   "source": [
    "import os \n",
    "\n",
    "os.path.exists('test.db')\n",
    "\n",
    "print(os.stat('test.db'))"
   ]
  }
 ],
 "metadata": {
  "kernelspec": {
   "display_name": "Python 3",
   "language": "python",
   "name": "python3"
  },
  "language_info": {
   "codemirror_mode": {
    "name": "ipython",
    "version": 3
   },
   "file_extension": ".py",
   "mimetype": "text/x-python",
   "name": "python",
   "nbconvert_exporter": "python",
   "pygments_lexer": "ipython3",
   "version": "3.9.6"
  },
  "orig_nbformat": 4,
  "vscode": {
   "interpreter": {
    "hash": "0d591c6e422414675974e227c13f5382000c440fedd3c5006ef2be5d887f0ba7"
   }
  }
 },
 "nbformat": 4,
 "nbformat_minor": 2
}
