{
 "cells": [
  {
   "cell_type": "code",
   "execution_count": 63,
   "metadata": {},
   "outputs": [
    {
     "name": "stdout",
     "output_type": "stream",
     "text": [
      "<generator object _walk at 0x0000017FA490F0B0>\n"
     ]
    }
   ],
   "source": [
    "import os\n",
    "\n",
    "print(os.walk('.'))"
   ]
  },
  {
   "cell_type": "code",
   "execution_count": 64,
   "metadata": {},
   "outputs": [
    {
     "ename": "FileNotFoundError",
     "evalue": "[WinError 2] Не удается найти указанный файл: 'new.pdf'",
     "output_type": "error",
     "traceback": [
      "\u001b[1;31m---------------------------------------------------------------------------\u001b[0m",
      "\u001b[1;31mFileNotFoundError\u001b[0m                         Traceback (most recent call last)",
      "Cell \u001b[1;32mIn [64], line 5\u001b[0m\n\u001b[0;32m      1\u001b[0m \u001b[39mimport\u001b[39;00m \u001b[39mos\u001b[39;00m \n\u001b[0;32m      3\u001b[0m os\u001b[39m.\u001b[39mpath\u001b[39m.\u001b[39mexists(\u001b[39m'\u001b[39m\u001b[39mtest.db\u001b[39m\u001b[39m'\u001b[39m)\n\u001b[1;32m----> 5\u001b[0m \u001b[39mprint\u001b[39m(os\u001b[39m.\u001b[39;49mstat(\u001b[39m'\u001b[39;49m\u001b[39mnew.pdf\u001b[39;49m\u001b[39m'\u001b[39;49m))\n",
      "\u001b[1;31mFileNotFoundError\u001b[0m: [WinError 2] Не удается найти указанный файл: 'new.pdf'"
     ]
    }
   ],
   "source": [
    "import os \n",
    "\n",
    "os.path.exists('test.db')\n",
    "\n",
    "print(os.stat('new.pdf'))"
   ]
  },
  {
   "cell_type": "code",
   "execution_count": null,
   "metadata": {},
   "outputs": [],
   "source": [
    "with open('2014-1_120-145.pdf', 'rb') as f, open('new.pdf', 'wb') as w:\n",
    "    data = f.read()\n",
    "    w.write(data)"
   ]
  },
  {
   "cell_type": "code",
   "execution_count": null,
   "metadata": {},
   "outputs": [],
   "source": [
    "with open('Bahh Tee - Одна история.mp3', 'rb') as f, open('new.mp3', 'wb') as w:\n",
    "    data = f.read()\n",
    "    w.write(data)"
   ]
  },
  {
   "cell_type": "code",
   "execution_count": null,
   "metadata": {},
   "outputs": [
    {
     "data": {
      "text/plain": [
       "os.stat_result(st_mode=33206, st_ino=55450570412141192, st_dev=2621779794, st_nlink=1, st_uid=0, st_gid=0, st_size=5178567, st_atime=1673719472, st_mtime=1673595137, st_ctime=1673595152)"
      ]
     },
     "execution_count": 9,
     "metadata": {},
     "output_type": "execute_result"
    }
   ],
   "source": [
    "\n",
    "    \n",
    "os.stat('files/2014-1_120-145.pdf')"
   ]
  },
  {
   "cell_type": "code",
   "execution_count": null,
   "metadata": {},
   "outputs": [
    {
     "name": "stdout",
     "output_type": "stream",
     "text": [
      ". ['files', '__pycache__'] ['db.py', 'dir.py', 'file.py', 'logger.py', 'main.ipynb', 'main.py', 'synchronizer.py', 'test.db']\n",
      ".\\files [] ['2014-1_120-145.pdf', 'Bahh Tee - Одна история.mp3', 'Текст.docx']\n",
      ".\\__pycache__ [] ['db.cpython-39.pyc']\n"
     ]
    }
   ],
   "source": [
    "def recursive_walk(path, depth, max_depth):\n",
    "    if depth >= max_depth:\n",
    "        return\n",
    "    \n",
    "    for file in os.listdir(path):\n",
    "        file_path = os.path.abspath(path)\n",
    "        if os.path.isfile(file_path):\n",
    "            pass\n",
    "        else:\n",
    "            recursive_walk(file_path, depth+1, max_depth)\n",
    "    \n",
    "    "
   ]
  },
  {
   "cell_type": "code",
   "execution_count": null,
   "metadata": {},
   "outputs": [
    {
     "data": {
      "text/plain": [
       "True"
      ]
     },
     "execution_count": 11,
     "metadata": {},
     "output_type": "execute_result"
    }
   ],
   "source": [
    "os.path.isfile('files/2014-1_120-145.pdf')"
   ]
  },
  {
   "cell_type": "code",
   "execution_count": null,
   "metadata": {},
   "outputs": [
    {
     "ename": "OperationalError",
     "evalue": "table file_info already exists",
     "output_type": "error",
     "traceback": [
      "\u001b[1;31m---------------------------------------------------------------------------\u001b[0m",
      "\u001b[1;31mOperationalError\u001b[0m                          Traceback (most recent call last)",
      "Cell \u001b[1;32mIn [36], line 5\u001b[0m\n\u001b[0;32m      3\u001b[0m db \u001b[39m=\u001b[39m DataBase(\u001b[39m'\u001b[39m\u001b[39mtest.db\u001b[39m\u001b[39m'\u001b[39m)\n\u001b[0;32m      4\u001b[0m db\u001b[39m.\u001b[39mcreate_database()\n\u001b[1;32m----> 5\u001b[0m db\u001b[39m.\u001b[39;49mcreate_tables()\n\u001b[0;32m      6\u001b[0m db\u001b[39m.\u001b[39mget_tables()\n",
      "File \u001b[1;32mc:\\Универ\\Современные технологии программирования\\питон\\mp_2022_224-322_python\\FinalProject\\db.py:37\u001b[0m, in \u001b[0;36mcreate_tables\u001b[1;34m(self)\u001b[0m\n\u001b[0;32m     26\u001b[0m \u001b[39mdef\u001b[39;00m \u001b[39mcreate_tables\u001b[39m(\u001b[39mself\u001b[39m):\n\u001b[0;32m     28\u001b[0m     query \u001b[39m=\u001b[39m \u001b[39mf\u001b[39m\u001b[39m'''\u001b[39m\n\u001b[0;32m     29\u001b[0m \u001b[39m        CREATE TABLE IF NOT EXISTS \u001b[39m\u001b[39m{\u001b[39;00mfile_info_table\u001b[39m}\u001b[39;00m\u001b[39m (\u001b[39m\n\u001b[0;32m     30\u001b[0m \u001b[39m            id INTEGER PRIMAKY KEY NOT NULL,\u001b[39m\n\u001b[0;32m     31\u001b[0m \u001b[39m            filename VARCHAR(255),\u001b[39m\n\u001b[0;32m     32\u001b[0m \u001b[39m            stmode INTEGER, --права пользователя\u001b[39m\n\u001b[0;32m     33\u001b[0m \u001b[39m            atime INTEGER, --время последнего доступа к файлу\u001b[39m\n\u001b[0;32m     34\u001b[0m \u001b[39m            mtime INTEGER, --время последнего изменения файла\u001b[39m\n\u001b[0;32m     35\u001b[0m \u001b[39m            ctime INTEGER, --время последнего изменения прав доступа или владельца\u001b[39m\n\u001b[0;32m     36\u001b[0m \u001b[39m            content TEXT --содержимое файла\u001b[39m\n\u001b[1;32m---> 37\u001b[0m \u001b[39m        );\u001b[39m\n\u001b[0;32m     38\u001b[0m \u001b[39m    \u001b[39m\u001b[39m'''\u001b[39m\n\u001b[0;32m     39\u001b[0m     \u001b[39mprint\u001b[39m(query)\n\u001b[0;32m     41\u001b[0m     \u001b[39mself\u001b[39m\u001b[39m.\u001b[39mcursor\u001b[39m.\u001b[39mexecute(query)\n",
      "\u001b[1;31mOperationalError\u001b[0m: table file_info already exists"
     ]
    }
   ],
   "source": [
    "from db import DataBase\n",
    "\n",
    "db = DataBase('test.db')\n",
    "db.create_database()\n",
    "db.create_tables()\n",
    "db.get_tables()"
   ]
  },
  {
   "cell_type": "code",
   "execution_count": null,
   "metadata": {},
   "outputs": [
    {
     "data": {
      "text/plain": [
       "'./sync_dir/Bahh Tee - Одна история.mp3'"
      ]
     },
     "execution_count": 37,
     "metadata": {},
     "output_type": "execute_result"
    }
   ],
   "source": [
    "import shutil\n",
    "\n",
    "src = './files/Bahh Tee - Одна история.mp3'\n",
    "dest = './sync_dir/'\n",
    "shutil.copy2(src,dest)"
   ]
  },
  {
   "cell_type": "code",
   "execution_count": null,
   "metadata": {},
   "outputs": [
    {
     "data": {
      "text/plain": [
       "(4, 1, 2, 3)"
      ]
     },
     "execution_count": 38,
     "metadata": {},
     "output_type": "execute_result"
    }
   ],
   "source": [
    "s = (1,2,3)\n",
    "r = (4,)\n",
    "r + s"
   ]
  },
  {
   "cell_type": "code",
   "execution_count": null,
   "metadata": {},
   "outputs": [
    {
     "data": {
      "text/plain": [
       "\"[{'2023-01-16 23:22:55'}] message 1\""
      ]
     },
     "execution_count": 44,
     "metadata": {},
     "output_type": "execute_result"
    }
   ],
   "source": [
    "from datetime import datetime \n",
    "now = datetime.now() \n",
    "time = {now.strftime(\"%Y-%m-%d %H:%M:%S\")}\n",
    "\n",
    "message = f\"[{time}] message 1\"\n",
    "message"
   ]
  },
  {
   "cell_type": "code",
   "execution_count": null,
   "metadata": {},
   "outputs": [
    {
     "name": "stdout",
     "output_type": "stream",
     "text": [
      "[{'2023-01-16 23:26:20'}] Этот процесс вышел из строя\n"
     ]
    }
   ],
   "source": [
    "text = 'Этот процесс вышел из строя'\n",
    "from logger import Logger\n",
    "\n",
    "Logger.log(text,' ')"
   ]
  },
  {
   "cell_type": "code",
   "execution_count": 66,
   "metadata": {},
   "outputs": [
    {
     "name": "stdout",
     "output_type": "stream",
     "text": [
      "[{'2023-01-16 23:27:33'}] Этот процесс вышел из строя\n"
     ]
    }
   ],
   "source": [
    "text = 'Этот процесс вышел из строя'\n",
    "from logger import Logger\n",
    "\n",
    "Logger.log(text,' ')"
   ]
  }
 ],
 "metadata": {
  "kernelspec": {
   "display_name": "Python 3",
   "language": "python",
   "name": "python3"
  },
  "language_info": {
   "codemirror_mode": {
    "name": "ipython",
    "version": 3
   },
   "file_extension": ".py",
   "mimetype": "text/x-python",
   "name": "python",
   "nbconvert_exporter": "python",
   "pygments_lexer": "ipython3",
   "version": "3.9.6"
  },
  "orig_nbformat": 4,
  "vscode": {
   "interpreter": {
    "hash": "0d591c6e422414675974e227c13f5382000c440fedd3c5006ef2be5d887f0ba7"
   }
  }
 },
 "nbformat": 4,
 "nbformat_minor": 2
}
