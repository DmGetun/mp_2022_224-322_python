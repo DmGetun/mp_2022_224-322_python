{
 "cells": [
  {
   "cell_type": "code",
   "execution_count": 174,
   "metadata": {},
   "outputs": [],
   "source": [
    "import random"
   ]
  },
  {
   "cell_type": "code",
   "execution_count": 175,
   "metadata": {},
   "outputs": [
    {
     "data": {
      "text/plain": [
       "[0, 2, 4, 6, 8]"
      ]
     },
     "execution_count": 175,
     "metadata": {},
     "output_type": "execute_result"
    }
   ],
   "source": [
    "[x for x in range(10) if x % 2 == 0]"
   ]
  },
  {
   "cell_type": "markdown",
   "metadata": {},
   "source": [
    "## Генераторы с условием IF + else"
   ]
  },
  {
   "cell_type": "code",
   "execution_count": 176,
   "metadata": {},
   "outputs": [
    {
     "data": {
      "text/plain": [
       "['A', 'B', 'C', 'D', 'E']"
      ]
     },
     "execution_count": 176,
     "metadata": {},
     "output_type": "execute_result"
    }
   ],
   "source": [
    "[x for x in \"ABCDE\"]"
   ]
  },
  {
   "cell_type": "code",
   "execution_count": 177,
   "metadata": {},
   "outputs": [
    {
     "data": {
      "text/plain": [
       "['AAAAA', 'BB', 'CC', 'DDDDD', 'EE']"
      ]
     },
     "execution_count": 177,
     "metadata": {},
     "output_type": "execute_result"
    }
   ],
   "source": [
    "[x*5 if x in \"AD\" else x*2 for x in \"ABCDE\"]"
   ]
  },
  {
   "cell_type": "code",
   "execution_count": 178,
   "metadata": {},
   "outputs": [
    {
     "data": {
      "text/plain": [
       "['AAAAA', 'BB', 'CC', 'DDDDD', 'EE']"
      ]
     },
     "execution_count": 178,
     "metadata": {},
     "output_type": "execute_result"
    }
   ],
   "source": [
    "# ... или\n",
    "v = []\n",
    "for x in \"ABCDE\":\n",
    "    if x in \"AD\":\n",
    "        v.append(x * 5)\n",
    "    else:\n",
    "        v.append(x * 2)\n",
    "\n",
    "v"
   ]
  },
  {
   "cell_type": "markdown",
   "metadata": {},
   "source": [
    "## Генераторы с вложенными циклами"
   ]
  },
  {
   "cell_type": "code",
   "execution_count": 179,
   "metadata": {},
   "outputs": [
    {
     "data": {
      "text/plain": [
       "[1010, 1011, 1012, 1013, 1014, 2010, 2011, 2012, 2013, 2014]"
      ]
     },
     "execution_count": 179,
     "metadata": {},
     "output_type": "execute_result"
    }
   ],
   "source": [
    "v = []\n",
    "for x in range(1, 3):       # 1,2\n",
    "    for y in range(10,15): # 10,11,12,13,14\n",
    "        v.append(x*1000 + y)\n",
    "        \n",
    "v\n",
    "        "
   ]
  },
  {
   "cell_type": "code",
   "execution_count": 180,
   "metadata": {},
   "outputs": [
    {
     "data": {
      "text/plain": [
       "[1010, 1011, 1012, 1013, 1014, 2010, 2011, 2012, 2013, 2014]"
      ]
     },
     "execution_count": 180,
     "metadata": {},
     "output_type": "execute_result"
    }
   ],
   "source": [
    "# ... или\n",
    "[x * 1000 + y for x in range(1,3) for y in range(10,15)]"
   ]
  },
  {
   "cell_type": "markdown",
   "metadata": {},
   "source": [
    "## Генераторы с оператором :="
   ]
  },
  {
   "cell_type": "code",
   "execution_count": 181,
   "metadata": {},
   "outputs": [
    {
     "data": {
      "text/plain": [
       "[0, 2, 4, 6, 8, 10, 12, 14, 16, 18]"
      ]
     },
     "execution_count": 181,
     "metadata": {},
     "output_type": "execute_result"
    }
   ],
   "source": [
    "[x*2 for x in range(10) if x*2 % 2 == 0]"
   ]
  },
  {
   "cell_type": "code",
   "execution_count": 182,
   "metadata": {},
   "outputs": [
    {
     "data": {
      "text/plain": [
       "[0, 2, 4, 6, 8, 10, 12, 14, 16, 18]"
      ]
     },
     "execution_count": 182,
     "metadata": {},
     "output_type": "execute_result"
    }
   ],
   "source": [
    "[z for x in range(10) if (z := x*2) % 2 == 0]"
   ]
  },
  {
   "cell_type": "code",
   "execution_count": 183,
   "metadata": {},
   "outputs": [
    {
     "data": {
      "text/plain": [
       "[0, 2, 4, 2, 4, 2, 4, 6, 4, 6, 4, 6, 8]"
      ]
     },
     "execution_count": 183,
     "metadata": {},
     "output_type": "execute_result"
    }
   ],
   "source": [
    "[x + y for x in range(5) for y in range(5) if (x + y) % 2 == 0]"
   ]
  },
  {
   "cell_type": "code",
   "execution_count": 184,
   "metadata": {},
   "outputs": [
    {
     "data": {
      "text/plain": [
       "[0, 2, 4, 2, 4, 2, 4, 6, 4, 6, 4, 6, 8]"
      ]
     },
     "execution_count": 184,
     "metadata": {},
     "output_type": "execute_result"
    }
   ],
   "source": [
    "[z for x in range(5) for y in range(5) if (z := x + y) % 2 == 0]"
   ]
  },
  {
   "cell_type": "markdown",
   "metadata": {},
   "source": [
    "## Пример генератора со строками"
   ]
  },
  {
   "cell_type": "code",
   "execution_count": 185,
   "metadata": {},
   "outputs": [
    {
     "data": {
      "text/plain": [
       "'Съешь ещё этих мягких французских булок, да выпей же чаю.'"
      ]
     },
     "execution_count": 185,
     "metadata": {},
     "output_type": "execute_result"
    }
   ],
   "source": [
    "text = \"Съешь ещё этих мягких французских булок, да выпей же чаю.\"\n",
    "text"
   ]
  },
  {
   "cell_type": "code",
   "execution_count": 186,
   "metadata": {},
   "outputs": [
    {
     "data": {
      "text/plain": [
       "['Съешь',\n",
       " 'ещё',\n",
       " 'этих',\n",
       " 'мягких',\n",
       " 'французских',\n",
       " 'булок,',\n",
       " 'да',\n",
       " 'выпей',\n",
       " 'же',\n",
       " 'чаю.']"
      ]
     },
     "execution_count": 186,
     "metadata": {},
     "output_type": "execute_result"
    }
   ],
   "source": [
    "[x for x in text.split()]"
   ]
  },
  {
   "cell_type": "code",
   "execution_count": 187,
   "metadata": {},
   "outputs": [
    {
     "name": "stdout",
     "output_type": "stream",
     "text": [
      "['С', 'е', 'э', 'м', 'ф', 'б', 'д', 'в', 'ж', 'ч']\n",
      "['ь', 'ё', 'х', 'х', 'х', ',', 'а', 'й', 'е', '.']\n"
     ]
    }
   ],
   "source": [
    "print([x[0] for x in text.split()])\n",
    "print([x[-1] for x in text.split()])"
   ]
  },
  {
   "cell_type": "code",
   "execution_count": 188,
   "metadata": {},
   "outputs": [
    {
     "name": "stdout",
     "output_type": "stream",
     "text": [
      "[5, 3, 4, 6, 11, 6, 2, 5, 2, 4]\n"
     ]
    }
   ],
   "source": [
    "print([len(x) for x in text.split()])"
   ]
  },
  {
   "cell_type": "code",
   "execution_count": 189,
   "metadata": {},
   "outputs": [
    {
     "data": {
      "text/plain": [
       "'Съешь ещё этих мягких французских булок да выпей же чаю'"
      ]
     },
     "execution_count": 189,
     "metadata": {},
     "output_type": "execute_result"
    }
   ],
   "source": [
    "text = text.replace(',','')\n",
    "text = text.replace('.','')\n",
    "text"
   ]
  },
  {
   "cell_type": "code",
   "execution_count": 190,
   "metadata": {},
   "outputs": [
    {
     "data": {
      "text/plain": [
       "['Съешь',\n",
       " 'ещё',\n",
       " 'этих',\n",
       " 'мягких',\n",
       " 'французских',\n",
       " 'булок',\n",
       " 'да',\n",
       " 'выпей',\n",
       " 'же',\n",
       " 'чаю']"
      ]
     },
     "execution_count": 190,
     "metadata": {},
     "output_type": "execute_result"
    }
   ],
   "source": [
    "# Вернуть список слов из строки\n",
    "\n",
    "[word for word in text.split()]"
   ]
  },
  {
   "cell_type": "code",
   "execution_count": 191,
   "metadata": {},
   "outputs": [
    {
     "data": {
      "text/plain": [
       "['Съешь [5]',\n",
       " 'ещё [3]',\n",
       " 'этих [4]',\n",
       " 'мягких [6]',\n",
       " 'французских [11]',\n",
       " 'булок [5]',\n",
       " 'да [2]',\n",
       " 'выпей [5]',\n",
       " 'же [2]',\n",
       " 'чаю [3]']"
      ]
     },
     "execution_count": 191,
     "metadata": {},
     "output_type": "execute_result"
    }
   ],
   "source": [
    "# Вернуть список слов и рядом с каждым словом его длину в [ ]\n",
    "\n",
    "[f'{word} [{len(word)}]' for word in text.split()]"
   ]
  },
  {
   "cell_type": "code",
   "execution_count": 192,
   "metadata": {},
   "outputs": [
    {
     "data": {
      "text/plain": [
       "['Съешь (1)',\n",
       " 'ещё (2)',\n",
       " 'этих (3)',\n",
       " 'мягких (4)',\n",
       " 'французских (5)',\n",
       " 'булок (6)',\n",
       " 'да (7)',\n",
       " 'выпей (8)',\n",
       " 'же (9)',\n",
       " 'чаю (10)']"
      ]
     },
     "execution_count": 192,
     "metadata": {},
     "output_type": "execute_result"
    }
   ],
   "source": [
    "# Вернуть список слов и рядом с каждым словом его порядковый номер в ( ) в предложении\n",
    "\n",
    "[f'{word} ({index + 1})' for index, word in enumerate(text.split())]"
   ]
  },
  {
   "cell_type": "code",
   "execution_count": 193,
   "metadata": {},
   "outputs": [
    {
     "data": {
      "text/plain": [
       "['сЪЕШЬ',\n",
       " 'ЕЩЁ',\n",
       " 'ЭТиХ',\n",
       " 'МЯГКиХ',\n",
       " 'ФРАНЦуЗСкИХ',\n",
       " 'БУлоК,',\n",
       " 'ДА',\n",
       " 'ВЫпЕЙ',\n",
       " 'ЖЕ',\n",
       " 'чаЮ.']"
      ]
     },
     "execution_count": 193,
     "metadata": {},
     "output_type": "execute_result"
    }
   ],
   "source": [
    "# В каждом слове поменять регистр символов на противоположный\n",
    "\n",
    "text_t = \"Съешь ещё этИх мягкИх францУзсКих буЛОк, да выПей же ЧАю.\"\n",
    "\n",
    "[f'{word.swapcase()}' for word in text_t.split()]"
   ]
  },
  {
   "cell_type": "code",
   "execution_count": 194,
   "metadata": {},
   "outputs": [
    {
     "data": {
      "text/plain": [
       "['ьшеъС',\n",
       " 'ёще',\n",
       " 'хитэ',\n",
       " 'хикгям',\n",
       " 'хиксзуцнарф',\n",
       " 'колуб',\n",
       " 'ад',\n",
       " 'йепыв',\n",
       " 'еж',\n",
       " 'юач']"
      ]
     },
     "execution_count": 194,
     "metadata": {},
     "output_type": "execute_result"
    }
   ],
   "source": [
    "# В каждом слове поменять буквы местами на противоположный\n",
    "\n",
    "[f'{word[::-1]}' for word in text.split()]"
   ]
  },
  {
   "cell_type": "code",
   "execution_count": 195,
   "metadata": {},
   "outputs": [],
   "source": [
    "# В каждом слове поменять буквы местами случайным образом\n",
    "\n"
   ]
  },
  {
   "cell_type": "code",
   "execution_count": 196,
   "metadata": {},
   "outputs": [
    {
     "data": {
      "text/plain": [
       "['_ъеш_',\n",
       " '_щ_',\n",
       " '_ти_',\n",
       " '_ягки_',\n",
       " '_ранцузски_',\n",
       " '_уло_',\n",
       " '__',\n",
       " '_ыпе_',\n",
       " '__',\n",
       " '_а_']"
      ]
     },
     "execution_count": 196,
     "metadata": {},
     "output_type": "execute_result"
    }
   ],
   "source": [
    "# В каждом слове первую и последнюю букву заменить на '_'\n",
    "\n",
    "[f'_{word[1:-1]}_' for word in text.split()]"
   ]
  },
  {
   "cell_type": "code",
   "execution_count": 197,
   "metadata": {},
   "outputs": [
    {
     "data": {
      "text/plain": [
       "['_____',\n",
       " '___',\n",
       " '____',\n",
       " '______',\n",
       " '___________',\n",
       " '_____',\n",
       " '__',\n",
       " '_____',\n",
       " '__',\n",
       " '___']"
      ]
     },
     "execution_count": 197,
     "metadata": {},
     "output_type": "execute_result"
    }
   ],
   "source": [
    "# В каждом слове заменить каждую букву на '_'\n",
    "\n",
    "['_' * len(word) for word in text.split()]"
   ]
  },
  {
   "cell_type": "code",
   "execution_count": 198,
   "metadata": {},
   "outputs": [
    {
     "data": {
      "text/plain": [
       "['Съешь',\n",
       " '___',\n",
       " '____',\n",
       " 'мягких',\n",
       " 'французских',\n",
       " 'булок',\n",
       " '__',\n",
       " 'выпей',\n",
       " '__',\n",
       " '___']"
      ]
     },
     "execution_count": 198,
     "metadata": {},
     "output_type": "execute_result"
    }
   ],
   "source": [
    "# В каждом слове заменить каждую букву на '_' если длина слова меньше 5 символов\n",
    "\n",
    "['_' * len(word) if len(word) < 5 else word for word in text.split()]  "
   ]
  },
  {
   "cell_type": "code",
   "execution_count": 199,
   "metadata": {},
   "outputs": [
    {
     "data": {
      "text/plain": [
       "['СъешЬ',\n",
       " 'ещЁ',\n",
       " 'этиХ',\n",
       " 'мягкиХ',\n",
       " 'французскиХ',\n",
       " 'булоК',\n",
       " 'дА',\n",
       " 'выпеЙ',\n",
       " 'жЕ',\n",
       " 'чаЮ']"
      ]
     },
     "execution_count": 199,
     "metadata": {},
     "output_type": "execute_result"
    }
   ],
   "source": [
    "# Каждую последнюю букву в слове с большой буквы\n",
    "\n",
    "[f'{word[:-1]}{word[-1].upper()}' for word in text.split()] "
   ]
  },
  {
   "cell_type": "code",
   "execution_count": 200,
   "metadata": {},
   "outputs": [
    {
     "data": {
      "text/plain": [
       "['съешь',\n",
       " 'ЕЩЁ',\n",
       " 'этих',\n",
       " 'МЯГКИХ',\n",
       " 'французских',\n",
       " 'БУЛОК',\n",
       " 'да',\n",
       " 'ВЫПЕЙ',\n",
       " 'же',\n",
       " 'ЧАЮ']"
      ]
     },
     "execution_count": 200,
     "metadata": {},
     "output_type": "execute_result"
    }
   ],
   "source": [
    "# Каждое второе слово написать большими буквами, а остальные слова маленькими\n",
    "\n",
    "[word.upper() if (index + 1) % 2 == 0 else word.lower() for index, word in enumerate(text.split())] "
   ]
  },
  {
   "cell_type": "code",
   "execution_count": 201,
   "metadata": {},
   "outputs": [],
   "source": [
    "def replace_letters(word, vowels, symbol='_'):\n",
    "    for letter in word:\n",
    "        word = word.replace(letter,symbol) if letter in vowels else word\n",
    "    return word\n",
    "    "
   ]
  },
  {
   "cell_type": "code",
   "execution_count": 202,
   "metadata": {},
   "outputs": [
    {
     "data": {
      "text/plain": [
       "['Съешь',\n",
       " 'ещё',\n",
       " '_т_х',\n",
       " 'мягк_х',\n",
       " 'фр_нц_зск_х',\n",
       " 'б_л_к',\n",
       " 'д_',\n",
       " 'в_пей',\n",
       " 'же',\n",
       " 'ч_ю']"
      ]
     },
     "execution_count": 202,
     "metadata": {},
     "output_type": "execute_result"
    }
   ],
   "source": [
    "# Заменить все гласные буквы на '_'\n",
    "\n",
    "vowels = 'ауоиэы'\n",
    "\n",
    "[replace_letters(word,vowels) for word in text.split()]"
   ]
  },
  {
   "cell_type": "code",
   "execution_count": 203,
   "metadata": {},
   "outputs": [
    {
     "data": {
      "text/plain": [
       "['французских',\n",
       " 'Съешь',\n",
       " 'мягких',\n",
       " 'булок',\n",
       " 'ещё',\n",
       " 'чаю',\n",
       " 'да',\n",
       " 'этих',\n",
       " 'выпей',\n",
       " 'же']"
      ]
     },
     "execution_count": 203,
     "metadata": {},
     "output_type": "execute_result"
    }
   ],
   "source": [
    "# Поменять слова местами случайным образом\n",
    "\n",
    "words = [word for word in text.split()]\n",
    "random.shuffle(words)\n",
    "words\n"
   ]
  },
  {
   "cell_type": "code",
   "execution_count": 207,
   "metadata": {},
   "outputs": [
    {
     "data": {
      "text/plain": [
       "['да',\n",
       " 'же',\n",
       " 'ещё',\n",
       " 'чаю',\n",
       " 'этих',\n",
       " 'Съешь',\n",
       " 'булок',\n",
       " 'выпей',\n",
       " 'мягких',\n",
       " 'французских']"
      ]
     },
     "execution_count": 207,
     "metadata": {},
     "output_type": "execute_result"
    }
   ],
   "source": [
    "# Сформировать список слов отсортированных по количеству букв в каждом слове\n",
    "\n",
    "words = [word for word in text.split()]\n",
    "words.sort(key=lambda x: len(x))\n",
    "words\n"
   ]
  },
  {
   "cell_type": "code",
   "execution_count": 212,
   "metadata": {},
   "outputs": [
    {
     "data": {
      "text/plain": [
       "['С',\n",
       " 'ъ',\n",
       " 'е',\n",
       " 'ш',\n",
       " 'ь',\n",
       " 'щ',\n",
       " 'ё',\n",
       " 'э',\n",
       " 'т',\n",
       " 'и',\n",
       " 'х',\n",
       " 'м',\n",
       " 'я',\n",
       " 'г',\n",
       " 'к',\n",
       " 'ф',\n",
       " 'р',\n",
       " 'а',\n",
       " 'н',\n",
       " 'ц',\n",
       " 'у',\n",
       " 'з',\n",
       " 'с',\n",
       " 'б',\n",
       " 'л',\n",
       " 'о',\n",
       " 'д',\n",
       " 'в',\n",
       " 'ы',\n",
       " 'п',\n",
       " 'й',\n",
       " 'ж',\n",
       " 'ч',\n",
       " 'ю']"
      ]
     },
     "execution_count": 212,
     "metadata": {},
     "output_type": "execute_result"
    }
   ],
   "source": [
    "# Сформировать список уникальных букв\n",
    "unique_letters = []\n",
    "[unique_letters.append(letter) for word in text.split() for letter in word if letter not in unique_letters]\n",
    "unique_letters"
   ]
  },
  {
   "cell_type": "code",
   "execution_count": 215,
   "metadata": {},
   "outputs": [
    {
     "data": {
      "text/plain": [
       "Counter({'С': 1,\n",
       "         'ъ': 1,\n",
       "         'е': 4,\n",
       "         'ш': 1,\n",
       "         'ь': 1,\n",
       "         'щ': 1,\n",
       "         'ё': 1,\n",
       "         'э': 1,\n",
       "         'т': 1,\n",
       "         'и': 3,\n",
       "         'х': 3,\n",
       "         'м': 1,\n",
       "         'я': 1,\n",
       "         'г': 1,\n",
       "         'к': 3,\n",
       "         'ф': 1,\n",
       "         'р': 1,\n",
       "         'а': 3,\n",
       "         'н': 1,\n",
       "         'ц': 1,\n",
       "         'у': 2,\n",
       "         'з': 1,\n",
       "         'с': 1,\n",
       "         'б': 1,\n",
       "         'л': 1,\n",
       "         'о': 1,\n",
       "         'д': 1,\n",
       "         'в': 1,\n",
       "         'ы': 1,\n",
       "         'п': 1,\n",
       "         'й': 1,\n",
       "         'ж': 1,\n",
       "         'ч': 1,\n",
       "         'ю': 1})"
      ]
     },
     "execution_count": 215,
     "metadata": {},
     "output_type": "execute_result"
    }
   ],
   "source": [
    "# Сформировать список уникальных букв и их количество, (а может словарь)\n",
    "from typing import Counter\n",
    "c = Counter(text.replace(' ',''))\n",
    "c"
   ]
  }
 ],
 "metadata": {
  "kernelspec": {
   "display_name": "Python 3.9.6 64-bit",
   "language": "python",
   "name": "python3"
  },
  "language_info": {
   "codemirror_mode": {
    "name": "ipython",
    "version": 3
   },
   "file_extension": ".py",
   "mimetype": "text/x-python",
   "name": "python",
   "nbconvert_exporter": "python",
   "pygments_lexer": "ipython3",
   "version": "3.9.6"
  },
  "orig_nbformat": 4,
  "vscode": {
   "interpreter": {
    "hash": "0d591c6e422414675974e227c13f5382000c440fedd3c5006ef2be5d887f0ba7"
   }
  }
 },
 "nbformat": 4,
 "nbformat_minor": 2
}
