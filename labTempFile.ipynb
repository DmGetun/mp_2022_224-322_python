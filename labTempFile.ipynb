{
 "cells": [
  {
   "attachments": {},
   "cell_type": "markdown",
   "metadata": {},
   "source": [
    "# tempfile - Временные файлы и каталоги"
   ]
  },
  {
   "cell_type": "code",
   "execution_count": 2,
   "metadata": {},
   "outputs": [],
   "source": [
    "import tempfile\n",
    "import os\n",
    "import csv\n",
    "import random"
   ]
  },
  {
   "cell_type": "code",
   "execution_count": 3,
   "metadata": {},
   "outputs": [
    {
     "data": {
      "text/plain": [
       "'C:\\\\Users\\\\Admin\\\\AppData\\\\Local\\\\Temp'"
      ]
     },
     "execution_count": 3,
     "metadata": {},
     "output_type": "execute_result"
    }
   ],
   "source": [
    "tempfile.gettempdir()"
   ]
  },
  {
   "cell_type": "code",
   "execution_count": 4,
   "metadata": {},
   "outputs": [
    {
     "name": "stdout",
     "output_type": "stream",
     "text": [
      "rb+\n",
      "C:\\Users\\Admin\\AppData\\Local\\Temp\\tmp6dia93_x\n"
     ]
    }
   ],
   "source": [
    "with tempfile.TemporaryFile() as f:\n",
    "    print(f.mode)\n",
    "    print(f.name)"
   ]
  },
  {
   "cell_type": "code",
   "execution_count": 5,
   "metadata": {},
   "outputs": [
    {
     "name": "stdout",
     "output_type": "stream",
     "text": [
      "rt+\n",
      "C:\\Users\\Admin\\AppData\\Local\\Temp\\tmp9g2156lj\n"
     ]
    }
   ],
   "source": [
    "with tempfile.TemporaryFile(mode='rt+') as f:\n",
    "    print(f.mode)\n",
    "    print(f.name)"
   ]
  },
  {
   "cell_type": "code",
   "execution_count": 6,
   "metadata": {},
   "outputs": [
    {
     "name": "stdout",
     "output_type": "stream",
     "text": [
      "C:\\Users\\Admin\\AppData\\Local\\Temp\\tmp9w8cwddt\n"
     ]
    }
   ],
   "source": [
    "with tempfile.TemporaryDirectory() as tempPath:\n",
    "    print(tempPath)\n",
    "# временный каталог и все содержимое будет удалено"
   ]
  },
  {
   "cell_type": "code",
   "execution_count": 7,
   "metadata": {},
   "outputs": [
    {
     "name": "stdout",
     "output_type": "stream",
     "text": [
      "C:\\Users\\Admin\\AppData\\Local\\Temp\\___bjsjmkmvzzz\n"
     ]
    }
   ],
   "source": [
    "with tempfile.TemporaryDirectory(prefix='___',suffix='zzz') as tempPath:\n",
    "    print(tempPath)"
   ]
  },
  {
   "cell_type": "code",
   "execution_count": 11,
   "metadata": {},
   "outputs": [
    {
     "ename": "PermissionError",
     "evalue": "[Errno 13] Permission denied: 'C:\\\\Users\\\\Admin\\\\AppData\\\\Local\\\\Temp\\\\tmplpm_0lzu'",
     "output_type": "error",
     "traceback": [
      "\u001b[1;31m---------------------------------------------------------------------------\u001b[0m",
      "\u001b[1;31mPermissionError\u001b[0m                           Traceback (most recent call last)",
      "Cell \u001b[1;32mIn [11], line 11\u001b[0m\n\u001b[0;32m      7\u001b[0m tempfile\u001b[39m.\u001b[39mTemporaryFile()\n\u001b[0;32m      9\u001b[0m file \u001b[39m=\u001b[39m tempfile\u001b[39m.\u001b[39mTemporaryFile()\n\u001b[1;32m---> 11\u001b[0m \u001b[39mwith\u001b[39;00m \u001b[39mopen\u001b[39m(file_cities_csv) \u001b[39mas\u001b[39;00m r, \u001b[39mopen\u001b[39;49m(file\u001b[39m.\u001b[39;49mname) \u001b[39mas\u001b[39;00m w:\n\u001b[0;32m     12\u001b[0m     reader \u001b[39m=\u001b[39m csv\u001b[39m.\u001b[39mDictReader(r, delimiter\u001b[39m=\u001b[39m\u001b[39m'\u001b[39m\u001b[39m;\u001b[39m\u001b[39m'\u001b[39m)\n\u001b[0;32m     13\u001b[0m     cities \u001b[39m=\u001b[39m []\n",
      "\u001b[1;31mPermissionError\u001b[0m: [Errno 13] Permission denied: 'C:\\\\Users\\\\Admin\\\\AppData\\\\Local\\\\Temp\\\\tmplpm_0lzu'"
     ]
    }
   ],
   "source": [
    "# Создать временный файл, в который добавить названия случайных 10 городов из файла cities.csv, \n",
    "# а затем из этого файла создать другой файл, \n",
    "# но уже с этими отсортированными в обратном алфавитном порядке городами. \n",
    "# Результат вывести в консоль для проверки.\n",
    "\n",
    "TEMP_DIR = 'temp'\n",
    "file_cities_csv = os.path.join(TEMP_DIR, \"cities.csv\")\n",
    "tempfile.TemporaryFile()\n",
    "\n",
    "file = tempfile.TemporaryFile()\n",
    "\n",
    "with open(file_cities_csv) as r, open(file.name, 'w') as w:\n",
    "    reader = csv.DictReader(r, delimiter=';')\n",
    "    cities = []\n",
    "    for line in reader:\n",
    "        cities.append(line['city'])\n",
    "    random_cities = random.choices(cities,k=10)\n",
    "    w.writelines(random_cities)\n",
    "    \n",
    "with open(file.name) as r, open('final_file.txt', 'w') as w:\n",
    "    cities = r.readlines()\n",
    "    cities.sort(reverse=True)\n",
    "    w.write(cities)\n",
    "    print(cities)\n",
    "        \n",
    "    "
   ]
  },
  {
   "cell_type": "code",
   "execution_count": null,
   "metadata": {},
   "outputs": [],
   "source": [
    "# Создать временный каталог, в котором создать N текстовых файлов, \n",
    "# имя файла должно содержать название города из файла cities.csv  (Например, \"Москва.txt\", \"Тула.txt\") , \n",
    "# проверить результат своей работы, подсчитать количество созданных файлов и распечатать в консоль для проверки.\n",
    "from pathlib import Path\n",
    "\n",
    "TEMP_DIR = 'temp'\n",
    "file_cities_csv = os.path.join(TEMP_DIR, \"cities.csv\")\n",
    "dir = tempfile.TemporaryDirectory()\n",
    "\n",
    "cities = []\n",
    "with open(file_cities_csv) as r:\n",
    "    reader = csv.DictReader(r,delimiter=';')\n",
    "    \n",
    "    for line in reader:\n",
    "        file = os.path.join(dir,f\"{line['Город']}.txt\")\n",
    "        Path.touch(Path(file))\n",
    "        cities.append(line['Город'])\n",
    "        \n",
    "print(f'Количество городов в файле {file_cities_csv}: {len(cities)}')\n",
    "print(f'Количество файлов в директории {dir}: {len(os.listdir(dir))}')  "
   ]
  },
  {
   "attachments": {},
   "cell_type": "markdown",
   "metadata": {},
   "source": [
    "# HW:\n",
    "- Создать временный файл, в который добавить названия случайных 10 городов из файла cities.csv, а затем из этого файла создать другой файл, но уже с этими отсортированными в обратном алфавитном порядке городами. Результат вывести в консоль для проверки.\n",
    "- Создать временный каталог, в котором создать N текстовых файлов, имя файла должно содержать название города из файла cities.csv  (Например, \"Москва.txt\", \"Тула.txt\") , проверить результат своей работы, подсчитать количество созданных файлов и распечатать в консоль для проверки."
   ]
  }
 ],
 "metadata": {
  "kernelspec": {
   "display_name": "Python 3",
   "language": "python",
   "name": "python3"
  },
  "language_info": {
   "codemirror_mode": {
    "name": "ipython",
    "version": 3
   },
   "file_extension": ".py",
   "mimetype": "text/x-python",
   "name": "python",
   "nbconvert_exporter": "python",
   "pygments_lexer": "ipython3",
   "version": "3.9.6"
  },
  "orig_nbformat": 4,
  "vscode": {
   "interpreter": {
    "hash": "0d591c6e422414675974e227c13f5382000c440fedd3c5006ef2be5d887f0ba7"
   }
  }
 },
 "nbformat": 4,
 "nbformat_minor": 2
}
