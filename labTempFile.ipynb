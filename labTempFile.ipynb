{
 "cells": [
  {
   "attachments": {},
   "cell_type": "markdown",
   "metadata": {},
   "source": [
    "# tempfile - Временные файлы и каталоги"
   ]
  },
  {
   "cell_type": "code",
   "execution_count": 2,
   "metadata": {},
   "outputs": [],
   "source": [
    "import tempfile\n",
    "import os\n",
    "import csv\n",
    "import random"
   ]
  },
  {
   "cell_type": "code",
   "execution_count": 3,
   "metadata": {},
   "outputs": [
    {
     "data": {
      "text/plain": [
       "'C:\\\\Users\\\\Admin\\\\AppData\\\\Local\\\\Temp'"
      ]
     },
     "execution_count": 3,
     "metadata": {},
     "output_type": "execute_result"
    }
   ],
   "source": [
    "tempfile.gettempdir()"
   ]
  },
  {
   "cell_type": "code",
   "execution_count": 4,
   "metadata": {},
   "outputs": [
    {
     "name": "stdout",
     "output_type": "stream",
     "text": [
      "rb+\n",
      "C:\\Users\\Admin\\AppData\\Local\\Temp\\tmpgn8lay8k\n"
     ]
    }
   ],
   "source": [
    "with tempfile.TemporaryFile() as f:\n",
    "    print(f.mode)\n",
    "    print(f.name)"
   ]
  },
  {
   "cell_type": "code",
   "execution_count": 5,
   "metadata": {},
   "outputs": [
    {
     "name": "stdout",
     "output_type": "stream",
     "text": [
      "rt+\n",
      "C:\\Users\\Admin\\AppData\\Local\\Temp\\tmpb3jpp3k_\n"
     ]
    }
   ],
   "source": [
    "with tempfile.TemporaryFile(mode='rt+') as f:\n",
    "    print(f.mode)\n",
    "    print(f.name)"
   ]
  },
  {
   "cell_type": "code",
   "execution_count": 6,
   "metadata": {},
   "outputs": [
    {
     "name": "stdout",
     "output_type": "stream",
     "text": [
      "C:\\Users\\Admin\\AppData\\Local\\Temp\\tmpk5gc2mtk\n"
     ]
    }
   ],
   "source": [
    "with tempfile.TemporaryDirectory() as tempPath:\n",
    "    print(tempPath)\n",
    "# временный каталог и все содержимое будет удалено"
   ]
  },
  {
   "cell_type": "code",
   "execution_count": 7,
   "metadata": {},
   "outputs": [
    {
     "name": "stdout",
     "output_type": "stream",
     "text": [
      "C:\\Users\\Admin\\AppData\\Local\\Temp\\___hgo5pn4szzz\n"
     ]
    }
   ],
   "source": [
    "with tempfile.TemporaryDirectory(prefix='___',suffix='zzz') as tempPath:\n",
    "    print(tempPath)"
   ]
  },
  {
   "cell_type": "code",
   "execution_count": 49,
   "metadata": {},
   "outputs": [
    {
     "name": "stdout",
     "output_type": "stream",
     "text": [
      "Урень\n",
      "Углегорск\n",
      "ПалласовкаНовоалтайск\n",
      "Мирный\n",
      "Лагань\n",
      "Краснослободск\n",
      "Кольчугино\n",
      "ВеликийУстюг\n",
      "Аксай\n",
      "\n"
     ]
    }
   ],
   "source": [
    "# Создать временный файл, в который добавить названия случайных 10 городов из файла cities.csv, \n",
    "# а затем из этого файла создать другой файл, \n",
    "# но уже с этими отсортированными в обратном алфавитном порядке городами. \n",
    "# Результат вывести в консоль для проверки.\n",
    "from pathlib import Path\n",
    "TEMP_DIR = 'temp'\n",
    "file_cities_csv = os.path.join(TEMP_DIR, \"cities.csv\")\n",
    "dir = tempfile.TemporaryDirectory()\n",
    "\n",
    "file = tempfile.TemporaryFile()\n",
    "file = os.path.join(dir.name,file.name)\n",
    "Path.touch(Path(file))\n",
    "\n",
    "with open(file_cities_csv) as r, open(file, 'w') as w:\n",
    "    reader = csv.DictReader(r, delimiter=';')\n",
    "    cities = []\n",
    "    for line in reader:\n",
    "        cities.append(line['Город'])\n",
    "    random_cities = random.choices(cities,k=10)\n",
    "    w.write('\\n'.join(random_cities))\n",
    "    \n",
    "with open(file) as r, open('final_file.txt', 'w',encoding='utf-8') as w:\n",
    "    cities = r.readlines()\n",
    "    cities.sort(reverse=True)\n",
    "    w.writelines(cities)\n",
    "\n",
    "with open('final_file.txt',encoding='utf-8') as f:\n",
    "    print(f.read())\n",
    "        \n",
    "    "
   ]
  },
  {
   "cell_type": "code",
   "execution_count": 21,
   "metadata": {},
   "outputs": [
    {
     "name": "stdout",
     "output_type": "stream",
     "text": [
      "Количество городов в файле temp\\cities.csv: 1082\n",
      "Количество файлов в директории C:\\Users\\Admin\\AppData\\Local\\Temp\\tmpus0c7jf0: 1063\n"
     ]
    }
   ],
   "source": [
    "# Создать временный каталог, в котором создать N текстовых файлов, \n",
    "# имя файла должно содержать название города из файла cities.csv  (Например, \"Москва.txt\", \"Тула.txt\") , \n",
    "# проверить результат своей работы, подсчитать количество созданных файлов и распечатать в консоль для проверки.\n",
    "from pathlib import Path\n",
    "\n",
    "TEMP_DIR = 'temp'\n",
    "file_cities_csv = os.path.join(TEMP_DIR, \"cities.csv\")\n",
    "dir = tempfile.TemporaryDirectory()\n",
    "\n",
    "cities = []\n",
    "with open(file_cities_csv) as r:\n",
    "    reader = csv.DictReader(r,delimiter=';')\n",
    "    \n",
    "    for line in reader:\n",
    "        file = os.path.join(dir.name,f\"{line['Город']}.txt\")\n",
    "        Path.touch(Path(file))\n",
    "        cities.append(line['Город'])\n",
    "        \n",
    "print(f'Количество городов в файле {file_cities_csv}: {len(cities)}')\n",
    "print(f'Количество файлов в директории {dir.name}: {len(os.listdir(dir.name))}')  "
   ]
  },
  {
   "attachments": {},
   "cell_type": "markdown",
   "metadata": {},
   "source": [
    "# HW:\n",
    "- Создать временный файл, в который добавить названия случайных 10 городов из файла cities.csv, а затем из этого файла создать другой файл, но уже с этими отсортированными в обратном алфавитном порядке городами. Результат вывести в консоль для проверки.\n",
    "- Создать временный каталог, в котором создать N текстовых файлов, имя файла должно содержать название города из файла cities.csv  (Например, \"Москва.txt\", \"Тула.txt\") , проверить результат своей работы, подсчитать количество созданных файлов и распечатать в консоль для проверки."
   ]
  }
 ],
 "metadata": {
  "kernelspec": {
   "display_name": "Python 3",
   "language": "python",
   "name": "python3"
  },
  "language_info": {
   "codemirror_mode": {
    "name": "ipython",
    "version": 3
   },
   "file_extension": ".py",
   "mimetype": "text/x-python",
   "name": "python",
   "nbconvert_exporter": "python",
   "pygments_lexer": "ipython3",
   "version": "3.9.6"
  },
  "orig_nbformat": 4,
  "vscode": {
   "interpreter": {
    "hash": "0d591c6e422414675974e227c13f5382000c440fedd3c5006ef2be5d887f0ba7"
   }
  }
 },
 "nbformat": 4,
 "nbformat_minor": 2
}
