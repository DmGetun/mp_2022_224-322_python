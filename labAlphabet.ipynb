{
 "cells": [
  {
   "cell_type": "markdown",
   "metadata": {},
   "source": [
    "# Алфавит RU и EN  "
   ]
  },
  {
   "cell_type": "markdown",
   "metadata": {},
   "source": [
    "# HW:\n",
    "+ вывести алфавит в прямом и обратном порядке через пробелы, несколькими способами"
   ]
  },
  {
   "cell_type": "code",
   "execution_count": 2,
   "metadata": {},
   "outputs": [
    {
     "name": "stdout",
     "output_type": "stream",
     "text": [
      "Английский алфавит: abcdefghijklmnopqrstuvwxyz\n",
      "Русский алфавит: абвгдежзийклмнопрстуфхцчшщъыьэюя\n"
     ]
    }
   ],
   "source": [
    "import string\n",
    "eng_alf = string.ascii_letters\n",
    "eng_alf = eng_alf[:len(eng_alf)//2]\n",
    "print(f'Английский алфавит: {eng_alf}')\n",
    "\n",
    "a = ord('а')\n",
    "rus_alf = ''.join([chr(i) for i in range(a,a+32)])\n",
    "print(f'Русский алфавит: {rus_alf}')"
   ]
  },
  {
   "cell_type": "markdown",
   "metadata": {},
   "source": [
    "# Способ 1"
   ]
  },
  {
   "cell_type": "code",
   "execution_count": 7,
   "metadata": {},
   "outputs": [
    {
     "name": "stdout",
     "output_type": "stream",
     "text": [
      "a b c d e f g h i j k l m n o p q r s t u v w x y z\n",
      "а б в г д е ж з и й к л м н о п р с т у ф х ц ч ш щ ъ ы ь э ю я\n",
      "\n",
      "z y x w v u t s r q p o n m l k j i h g f e d c b a\n",
      "я ю э ь ы ъ щ ш ч ц х ф у т с р п о н м л к й и з ж е д г в б а\n"
     ]
    }
   ],
   "source": [
    "print(' '.join(eng_alf))\n",
    "print(' '.join(rus_alf))\n",
    "print()\n",
    "print(' '.join(eng_alf[::-1]))\n",
    "print(' '.join(rus_alf[::-1]))"
   ]
  },
  {
   "cell_type": "markdown",
   "metadata": {},
   "source": [
    "# Способ 2"
   ]
  },
  {
   "cell_type": "code",
   "execution_count": 8,
   "metadata": {},
   "outputs": [
    {
     "name": "stdout",
     "output_type": "stream",
     "text": [
      "а б в г д е ж з и й к л м н о п р с т у ф х ц ч ш щ ъ ы ь э ю я \n",
      "a b c d e f g h i j k l m n o p q r s t u v w x y z \n",
      "я ю э ь ы ъ щ ш ч ц х ф у т с р п о н м л к й и з ж е д г в б а \n",
      "z y x w v u t s r q p o n m l k j i h g f e d c b a "
     ]
    }
   ],
   "source": [
    "for letter in rus_alf:\n",
    "    print(letter,end=' ')\n",
    "print()\n",
    "\n",
    "for letter in eng_alf:\n",
    "    print(letter,end=' ')\n",
    "print()\n",
    "\n",
    "for i in range(len(rus_alf)):\n",
    "    print(rus_alf[len(rus_alf) - 1 - i],end=' ')\n",
    "print()\n",
    "\n",
    "for i in range(len(eng_alf)):\n",
    "    print(eng_alf[len(eng_alf) - 1 - i],end=' ')"
   ]
  },
  {
   "cell_type": "markdown",
   "metadata": {},
   "source": [
    "# Способ 3"
   ]
  },
  {
   "cell_type": "code",
   "execution_count": 9,
   "metadata": {},
   "outputs": [
    {
     "name": "stdout",
     "output_type": "stream",
     "text": [
      "а б в г д е ж з и й к л м н о п р с т у ф х ц ч ш щ ъ ы ь э ю я\n",
      "a b c d e f g h i j k l m n o p q r s t u v w x y z\n",
      "\n",
      "я ю э ь ы ъ щ ш ч ц х ф у т с р п о н м л к й и з ж е д г в б а\n",
      "z y x w v u t s r q p o n m l k j i h g f e d c b a\n"
     ]
    }
   ],
   "source": [
    "print(' '.join(rus_alf))\n",
    "print(' '.join(eng_alf))\n",
    "print()\n",
    "lst_rus = list(rus_alf)\n",
    "lst_rus.reverse()\n",
    "\n",
    "lst_eng = list(eng_alf)\n",
    "lst_eng.reverse()\n",
    "\n",
    "print(' '.join(lst_rus))\n",
    "print(' '.join(lst_eng))"
   ]
  },
  {
   "cell_type": "markdown",
   "metadata": {},
   "source": [
    "# Способ 4"
   ]
  },
  {
   "cell_type": "code",
   "execution_count": 15,
   "metadata": {},
   "outputs": [
    {
     "name": "stdout",
     "output_type": "stream",
     "text": [
      "а б в г д е ж з и й к л м н о п р с т у ф х ц ч ш щ ъ ы ь э ю я \n",
      "a b c d e f g h i j k l m n o p q r s t u v w x y z \n",
      "я ю э ь ы ъ щ ш ч ц х ф у т с р п о н м л к й и з ж е д г в б а \n",
      "z y x w v u t s r q p o n m l k j i h g f e d c b a \n"
     ]
    }
   ],
   "source": [
    "for i in range(ord('а'), ord('я') + 1):\n",
    "    print(chr(i),end=' ')\n",
    "print()\n",
    "\n",
    "for i in range(ord('a'), ord('z') + 1):\n",
    "    print(chr(i),end=' ')\n",
    "print()\n",
    "\n",
    "for i in range(ord('я'), ord('а') - 1, -1):\n",
    "    print(chr(i),end=' ')\n",
    "print()\n",
    "\n",
    "for i in range(ord('z'), ord('a') - 1, -1):\n",
    "    print(chr(i),end=' ')\n",
    "print()"
   ]
  }
 ],
 "metadata": {
  "kernelspec": {
   "display_name": "Python 3.9.6 64-bit",
   "language": "python",
   "name": "python3"
  },
  "language_info": {
   "codemirror_mode": {
    "name": "ipython",
    "version": 3
   },
   "file_extension": ".py",
   "mimetype": "text/x-python",
   "name": "python",
   "nbconvert_exporter": "python",
   "pygments_lexer": "ipython3",
   "version": "3.9.6"
  },
  "orig_nbformat": 4,
  "vscode": {
   "interpreter": {
    "hash": "0d591c6e422414675974e227c13f5382000c440fedd3c5006ef2be5d887f0ba7"
   }
  }
 },
 "nbformat": 4,
 "nbformat_minor": 2
}
