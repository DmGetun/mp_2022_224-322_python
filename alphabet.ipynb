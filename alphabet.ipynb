{
 "cells": [
  {
   "cell_type": "markdown",
   "metadata": {},
   "source": [
    "# Алфавит RU и EN  "
   ]
  },
  {
   "cell_type": "markdown",
   "metadata": {},
   "source": [
    "# HW:\n",
    "+ вывести алфавит в прямом и обратном порядке через пробелы, несколькими способами"
   ]
  },
  {
   "cell_type": "code",
   "execution_count": 5,
   "metadata": {},
   "outputs": [
    {
     "name": "stdout",
     "output_type": "stream",
     "text": [
      "Английский алфавит: abcdefghijklmnopqrstuvwxyz\n",
      "Русский алфавит: абвгдежзийклмнопрстуфхцчшщъыьэюя\n"
     ]
    }
   ],
   "source": [
    "import string\n",
    "eng_alf = string.ascii_letters\n",
    "eng_alf = eng_alf[:len(eng_alf)//2]\n",
    "print(f'Английский алфавит: {eng_alf}')\n",
    "\n",
    "a = ord('а')\n",
    "rus_alf = ''.join([chr(i) for i in range(a,a+32)])\n",
    "print(f'Русский алфавит: {rus_alf}')"
   ]
  },
  {
   "cell_type": "markdown",
   "metadata": {},
   "source": [
    "# Способ 1"
   ]
  },
  {
   "cell_type": "code",
   "execution_count": 9,
   "metadata": {},
   "outputs": [
    {
     "name": "stdout",
     "output_type": "stream",
     "text": [
      "abcdefghijklmnopqrstuvwxyz\n",
      "абвгдежзийклмнопрстуфхцчшщъыьэюя\n",
      "\n",
      "zyxwvutsrqponmlkjihgfedcba\n",
      "яюэьыъщшчцхфутсрпонмлкйизжедгвба\n"
     ]
    }
   ],
   "source": [
    "print(eng_alf)\n",
    "print(rus_alf)\n",
    "print()\n",
    "print(eng_alf[::-1])\n",
    "print(rus_alf[::-1])"
   ]
  },
  {
   "cell_type": "markdown",
   "metadata": {},
   "source": [
    "# Способ 2"
   ]
  },
  {
   "cell_type": "code",
   "execution_count": 14,
   "metadata": {},
   "outputs": [
    {
     "name": "stdout",
     "output_type": "stream",
     "text": [
      "абвгдежзийклмнопрстуфхцчшщъыьэюя\n",
      "abcdefghijklmnopqrstuvwxyz\n",
      "яюэьыъщшчцхфутсрпонмлкйизжедгвба\n",
      "zyxwvutsrqponmlkjihgfedcba"
     ]
    }
   ],
   "source": [
    "for letter in rus_alf:\n",
    "    print(letter,end='')\n",
    "print()\n",
    "\n",
    "for letter in eng_alf:\n",
    "    print(letter,end='')\n",
    "print()\n",
    "\n",
    "for i in range(len(rus_alf)):\n",
    "    print(rus_alf[len(rus_alf) - 1 - i],end='')\n",
    "print()\n",
    "\n",
    "for i in range(len(eng_alf)):\n",
    "    print(eng_alf[len(eng_alf) - 1 - i],end='')"
   ]
  },
  {
   "cell_type": "markdown",
   "metadata": {},
   "source": [
    "# Способ 3"
   ]
  },
  {
   "cell_type": "code",
   "execution_count": 29,
   "metadata": {},
   "outputs": [
    {
     "name": "stdout",
     "output_type": "stream",
     "text": [
      "абвгдежзийклмнопрстуфхцчшщъыьэюя\n",
      "abcdefghijklmnopqrstuvwxyz\n",
      "\n",
      "яюэьыъщшчцхфутсрпонмлкйизжедгвба\n",
      "zyxwvutsrqponmlkjihgfedcba\n"
     ]
    }
   ],
   "source": [
    "print(rus_alf)\n",
    "print(eng_alf)\n",
    "print()\n",
    "lst_rus = list(rus_alf)\n",
    "lst_rus.reverse()\n",
    "\n",
    "lst_eng = list(eng_alf)\n",
    "lst_eng.reverse()\n",
    "\n",
    "print(''.join(lst_rus))\n",
    "print(''.join(lst_eng))"
   ]
  },
  {
   "cell_type": "markdown",
   "metadata": {},
   "source": [
    "# Способ 4"
   ]
  },
  {
   "cell_type": "code",
   "execution_count": 39,
   "metadata": {},
   "outputs": [
    {
     "name": "stdout",
     "output_type": "stream",
     "text": [
      "абвгдежзийклмнопрстуфхцчшщъыьэюя\n",
      "abcdefghijklmnopqrstuvwxyz\n",
      "яюэьыъщшчцхфутсрпонмлкйизжедгвба\n",
      "zyxwvutsrqponmlkjihgfedcba\n"
     ]
    }
   ],
   "source": [
    "for i in range(ord('а'), ord('а') + 32):\n",
    "    print(chr(i),end='')\n",
    "print()\n",
    "\n",
    "for i in range(ord('a'), ord('a') + 26):\n",
    "    print(chr(i),end='')\n",
    "print()\n",
    "\n",
    "for i in range(ord('а') + 31, ord('а') - 1, -1):\n",
    "    print(chr(i),end='')\n",
    "print()\n",
    "\n",
    "for i in range(ord('a') +25, ord('a') - 1, -1):\n",
    "    print(chr(i),end='')\n",
    "print()"
   ]
  }
 ],
 "metadata": {
  "kernelspec": {
   "display_name": "Python 3.9.6 64-bit",
   "language": "python",
   "name": "python3"
  },
  "language_info": {
   "codemirror_mode": {
    "name": "ipython",
    "version": 3
   },
   "file_extension": ".py",
   "mimetype": "text/x-python",
   "name": "python",
   "nbconvert_exporter": "python",
   "pygments_lexer": "ipython3",
   "version": "3.9.6"
  },
  "orig_nbformat": 4,
  "vscode": {
   "interpreter": {
    "hash": "0d591c6e422414675974e227c13f5382000c440fedd3c5006ef2be5d887f0ba7"
   }
  }
 },
 "nbformat": 4,
 "nbformat_minor": 2
}
