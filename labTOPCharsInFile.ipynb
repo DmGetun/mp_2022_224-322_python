{
 "cells": [
  {
   "cell_type": "code",
   "execution_count": 49,
   "metadata": {},
   "outputs": [
    {
     "name": "stdout",
     "output_type": "stream",
     "text": [
      "abcdefghijklmnopqrstuvwxyzABCDEFGHIJKLMNOPQRSTUVWXYZ\n"
     ]
    }
   ],
   "source": [
    "from typing import Counter\n",
    "from prettytable import PrettyTable\n",
    "import os\n",
    "import math\n",
    "import string\n",
    "\n",
    "print(string.ascii_letters)"
   ]
  },
  {
   "cell_type": "code",
   "execution_count": 37,
   "metadata": {},
   "outputs": [],
   "source": [
    "def symbol_count(text: str, reversed: bool = False) -> Counter:\n",
    "    c = Counter(text)\n",
    "    sorted_tuple = sorted(c.items(), reverse=reversed, key=lambda x: x[1])\n",
    "    sorted_dict = {k: v for k, v in sorted_tuple}\n",
    "    return sorted_dict\n"
   ]
  },
  {
   "cell_type": "code",
   "execution_count": 38,
   "metadata": {},
   "outputs": [],
   "source": [
    "def symbol_stat(text: str) -> PrettyTable:\n",
    "    # Показать статистику всех символов, отсортированную по значению\n",
    "    p = PrettyTable()\n",
    "    counter = symbol_count(text)\n",
    "    p.field_names = ['Символ', 'Количество']\n",
    "    p.add_rows([[symbol,count] for symbol,count in counter.items()])\n",
    "    return p"
   ]
  },
  {
   "cell_type": "code",
   "execution_count": 39,
   "metadata": {},
   "outputs": [],
   "source": [
    "def symbol_stat_desc(text: str) -> PrettyTable:\n",
    "    # Показать статистику всех символов, отсортированную по значению (по убыванию)\n",
    "    p = PrettyTable()\n",
    "    counter = symbol_count(text,reversed=True)\n",
    "    p.field_names = ['Символ', 'Количество']\n",
    "    p.add_rows([[symbol,count] for symbol,count in counter.items()])\n",
    "    return p"
   ]
  },
  {
   "cell_type": "code",
   "execution_count": 47,
   "metadata": {},
   "outputs": [],
   "source": [
    "def digit_stat_desc(text: str) -> PrettyTable:\n",
    "    # Показать статистику всех цифр, отсортированную по значению (по убыванию)\n",
    "    p = PrettyTable()\n",
    "    counter = Counter([digit for digit in text if digit.isdigit()])\n",
    "    p.field_names = ['Цифра', 'Количество']\n",
    "    p.add_rows([[symbol,count] for symbol,count in counter.items()])\n",
    "    return p"
   ]
  },
  {
   "cell_type": "code",
   "execution_count": 51,
   "metadata": {},
   "outputs": [],
   "source": [
    "def eng_symbol_stat_desc(text: str) -> PrettyTable:\n",
    "    # Показать статистику англ. букв, отсортированную по алфавиту (по убыванию)\n",
    "    p = PrettyTable()\n",
    "    counter = Counter([letter for letter in text if letter in string.ascii_letters])\n",
    "    p.field_names = ['Цифра', 'Количество']\n",
    "    p.add_rows([[symbol,count] for symbol,count in counter.items()])\n",
    "    return p"
   ]
  },
  {
   "cell_type": "code",
   "execution_count": 7,
   "metadata": {},
   "outputs": [],
   "source": [
    "def word_stat_desc(file):\n",
    "    # Показать статистику всех слов, отсортированную по значению (по убыванию)\n",
    "    pass"
   ]
  },
  {
   "cell_type": "code",
   "execution_count": 52,
   "metadata": {},
   "outputs": [
    {
     "name": "stdout",
     "output_type": "stream",
     "text": [
      "+-------+------------+\n",
      "| Цифра | Количество |\n",
      "+-------+------------+\n",
      "|   c   |     61     |\n",
      "|   e   |    176     |\n",
      "|   l   |     80     |\n",
      "|   s   |     71     |\n",
      "|   t   |    173     |\n",
      "|   y   |     37     |\n",
      "|   p   |     77     |\n",
      "|   m   |     51     |\n",
      "|   a   |    113     |\n",
      "|   r   |    131     |\n",
      "|   k   |     16     |\n",
      "|   d   |     62     |\n",
      "|   o   |    101     |\n",
      "|   w   |     15     |\n",
      "|   n   |    203     |\n",
      "|   u   |     70     |\n",
      "|   R   |     1      |\n",
      "|   U   |     1      |\n",
      "|   E   |     1      |\n",
      "|   N   |     1      |\n",
      "|   H   |     1      |\n",
      "|   W   |     1      |\n",
      "|   x   |     24     |\n",
      "|   i   |     88     |\n",
      "|   b   |     16     |\n",
      "|   f   |     52     |\n",
      "|   g   |     40     |\n",
      "|   h   |     24     |\n",
      "|   j   |     12     |\n",
      "|   q   |     9      |\n",
      "|   v   |     15     |\n",
      "|   z   |     9      |\n",
      "|   P   |     1      |\n",
      "+-------+------------+\n"
     ]
    }
   ],
   "source": [
    "path = input('Введите путь до файла[по умолчанию будет выбран первый найденный файл в текущем каталоге]')\n",
    "\n",
    "files = [file for file in os.listdir(os.getcwd()) if os.path.isfile(file)]\n",
    "\n",
    "path = path if len(path) > 0 else files[0]\n",
    "\n",
    "with open(path,'r') as f:\n",
    "    text = f.read()\n",
    "    #print(symbol_stat(text))\n",
    "    #print(symbol_stat_desc(text))\n",
    "    #print(digit_stat_desc(text))\n",
    "    print(eng_symbol_stat_desc(text))\n",
    "    word_stat_desc(text)"
   ]
  },
  {
   "cell_type": "code",
   "execution_count": 29,
   "metadata": {},
   "outputs": [
    {
     "name": "stdout",
     "output_type": "stream",
     "text": [
      "Counter({'a': 2, 's': 2, '1': 2, 'G': 2, 'R': 2, 'd': 1, '2': 1, '3': 1, 'r': 1, 't': 1, 'g': 1, 'F': 1, 'E': 1, 'W': 1})\n"
     ]
    },
    {
     "ename": "TypeError",
     "evalue": "get expected at least 1 argument, got 0",
     "output_type": "error",
     "traceback": [
      "\u001b[1;31m---------------------------------------------------------------------------\u001b[0m",
      "\u001b[1;31mTypeError\u001b[0m                                 Traceback (most recent call last)",
      "Cell \u001b[1;32mIn [29], line 3\u001b[0m\n\u001b[0;32m      1\u001b[0m c \u001b[39m=\u001b[39m Counter(\u001b[39m'\u001b[39m\u001b[39masd1231rtgsaFGRERGW\u001b[39m\u001b[39m'\u001b[39m)\n\u001b[0;32m      2\u001b[0m \u001b[39mprint\u001b[39m(c)\n\u001b[1;32m----> 3\u001b[0m r \u001b[39m=\u001b[39m \u001b[39msorted\u001b[39m(c, reverse\u001b[39m=\u001b[39m\u001b[39mTrue\u001b[39;00m, key\u001b[39m=\u001b[39mc\u001b[39m.\u001b[39;49mget())\n\u001b[0;32m      4\u001b[0m r\n",
      "\u001b[1;31mTypeError\u001b[0m: get expected at least 1 argument, got 0"
     ]
    }
   ],
   "source": [
    "c = Counter('asd1231rtgsaFGRERGW')\n",
    "print(c)\n",
    "r = sorted(c, reverse=True, key=c.get())\n",
    "r"
   ]
  }
 ],
 "metadata": {
  "kernelspec": {
   "display_name": "Python 3.9.6 64-bit",
   "language": "python",
   "name": "python3"
  },
  "language_info": {
   "codemirror_mode": {
    "name": "ipython",
    "version": 3
   },
   "file_extension": ".py",
   "mimetype": "text/x-python",
   "name": "python",
   "nbconvert_exporter": "python",
   "pygments_lexer": "ipython3",
   "version": "3.9.6"
  },
  "orig_nbformat": 4,
  "vscode": {
   "interpreter": {
    "hash": "0d591c6e422414675974e227c13f5382000c440fedd3c5006ef2be5d887f0ba7"
   }
  }
 },
 "nbformat": 4,
 "nbformat_minor": 2
}
