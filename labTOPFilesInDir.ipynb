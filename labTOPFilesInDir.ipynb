{
 "cells": [
  {
   "cell_type": "markdown",
   "metadata": {},
   "source": [
    "# HW"
   ]
  },
  {
   "cell_type": "code",
   "execution_count": 716,
   "metadata": {},
   "outputs": [],
   "source": [
    "from typing import Counter\n",
    "from prettytable import PrettyTable\n",
    "import os\n",
    "import math"
   ]
  },
  {
   "cell_type": "code",
   "execution_count": 717,
   "metadata": {},
   "outputs": [
    {
     "data": {
      "text/plain": [
       "Counter({'q': 6,\n",
       "         'w': 3,\n",
       "         'e': 3,\n",
       "         'r': 1,\n",
       "         'a': 1,\n",
       "         's': 1,\n",
       "         'd': 1,\n",
       "         '1': 2,\n",
       "         '2': 1,\n",
       "         '3': 2})"
      ]
     },
     "execution_count": 717,
     "metadata": {},
     "output_type": "execute_result"
    }
   ],
   "source": [
    "c = Counter(\"qwerasdqweqqq12331qwe\")\n",
    "c"
   ]
  },
  {
   "cell_type": "code",
   "execution_count": 718,
   "metadata": {},
   "outputs": [
    {
     "data": {
      "text/plain": [
       "Counter({'aaa.txt': 2, 'bbb.txt': 1})"
      ]
     },
     "execution_count": 718,
     "metadata": {},
     "output_type": "execute_result"
    }
   ],
   "source": [
    "c = Counter()\n",
    "c['aaa.txt'] += 1\n",
    "c['aaa.txt'] += 1\n",
    "c['bbb.txt'] += 1\n",
    "c"
   ]
  },
  {
   "cell_type": "code",
   "execution_count": 719,
   "metadata": {},
   "outputs": [],
   "source": [
    "def pretty_size(bytes: int) -> str:\n",
    "    sizes_name = ['B', 'KB', 'MB', 'GB', 'TB']\n",
    "    value = math.floor(math.log(bytes, 1024))\n",
    "    return f\"{bytes / (1024 ** value):.2f} {sizes_name[value]}\""
   ]
  },
  {
   "cell_type": "code",
   "execution_count": 720,
   "metadata": {},
   "outputs": [],
   "source": [
    "def sort_table(data: dict, reversed=False):\n",
    "    sorted_tuple = sorted(data.items(), reverse=reversed, key=lambda x: x[1])\n",
    "    sorted_dict = {k: v for k, v in sorted_tuple}\n",
    "    return sorted_dict"
   ]
  },
  {
   "cell_type": "code",
   "execution_count": 721,
   "metadata": {},
   "outputs": [],
   "source": [
    "def table_for_files(data: dict, *args):\n",
    "    table = PrettyTable()\n",
    "    table.field_names = [arg for arg in args]\n",
    "    for name, size in data.items():\n",
    "        table.add_row([name,size])\n",
    "    return table"
   ]
  },
  {
   "cell_type": "code",
   "execution_count": 722,
   "metadata": {},
   "outputs": [],
   "source": [
    "def get_largest_files(files: list, count: int) -> list:\n",
    "    # Вернуть топ самых больших файлов\n",
    "    file_sizes = {file: pretty_size(os.stat(file).st_size) for file in files}\n",
    "    sorted_files = sort_table(file_sizes,reversed=True)\n",
    "    return table_for_files(sorted_files, 'Имя','Размер')[:count]\n",
    "    "
   ]
  },
  {
   "cell_type": "code",
   "execution_count": 723,
   "metadata": {},
   "outputs": [],
   "source": [
    "def get_smallest_files(files: list, count: int) -> list:\n",
    "    # Вернуть топ самых маленьких файлов\n",
    "    file_sizes = {file: pretty_size(os.stat(file).st_size) for file in files}\n",
    "    sorted_files = sort_table(file_sizes,reversed=False)\n",
    "    return table_for_files(sorted_files, 'Имя','Размер')[:count]"
   ]
  },
  {
   "cell_type": "code",
   "execution_count": 724,
   "metadata": {},
   "outputs": [],
   "source": [
    "def get_largest_names(files:list, count: int) -> list:\n",
    "    # Вернуть топ самых больших имен файлов\n",
    "    file_names = {file: len(file) for file in files}\n",
    "    sorted_files = sort_table(file_names,reversed=True)\n",
    "    return table_for_files(sorted_files, 'Имя', 'Длина названия')[:count]"
   ]
  },
  {
   "cell_type": "code",
   "execution_count": 725,
   "metadata": {},
   "outputs": [],
   "source": [
    "def get_smallest_names(files:list, count: int) -> list:\n",
    "    # Вернуть топ самых маленьких имен файлов\n",
    "    file_names = {file: len(file) for file in files}\n",
    "    sorted_files = sort_table(file_names,reversed=False)\n",
    "    return table_for_files(sorted_files, 'Имя', 'Длина названия')[:count]"
   ]
  },
  {
   "cell_type": "code",
   "execution_count": 726,
   "metadata": {},
   "outputs": [],
   "source": [
    "def get_most_used_files(files:list, count: int) -> list:\n",
    "    # Показать ТОП самых часто используемых имён файлов и процентов\n",
    "    pass "
   ]
  },
  {
   "cell_type": "code",
   "execution_count": 727,
   "metadata": {},
   "outputs": [],
   "source": [
    "def get_file_extension(file):\n",
    "    _, ext = os.path.splitext(file)\n",
    "    return ext "
   ]
  },
  {
   "cell_type": "code",
   "execution_count": 728,
   "metadata": {},
   "outputs": [],
   "source": [
    "def get_largest_extension_files(files:list, count: int) -> list:\n",
    "    # Показать ТОП самых длинных расширений файлов\n",
    "    file_exts = [get_file_extension(file) for file in files]\n",
    "    exts = {ext: len(ext) - 1 for ext in file_exts}\n",
    "    sorted_files = sort_table(exts,reversed=False)\n",
    "    return table_for_files(sorted_files, 'Расширение', 'Длина')[:count]"
   ]
  },
  {
   "cell_type": "code",
   "execution_count": 729,
   "metadata": {},
   "outputs": [],
   "source": [
    "def get_smallest_extension_files(files:list, count: int) -> list:\n",
    "    # Показать ТОП самых коротких расширений файлов\n",
    "    file_exts = [get_file_extension(file) for file in files]\n",
    "    exts = {ext: len(ext) -1 for ext in file_exts}\n",
    "    sorted_files = sort_table(exts,reversed=True)\n",
    "    return table_for_files(sorted_files, 'Расширение', 'Длина')[:count]"
   ]
  },
  {
   "cell_type": "code",
   "execution_count": 730,
   "metadata": {},
   "outputs": [],
   "source": [
    "def table_for_ext(data, *args):\n",
    "    table = PrettyTable()\n",
    "    table.field_names = [arg for arg in args]\n",
    "    for row in data:\n",
    "        table.add_row(row)\n",
    "    return table"
   ]
  },
  {
   "cell_type": "code",
   "execution_count": 731,
   "metadata": {},
   "outputs": [],
   "source": [
    "def get_most_used_extension_files(files: list, count: int) -> list:\n",
    "    # Показать ТОП самых часто используемых расширений файлов и процентов\n",
    "    file_ext = [get_file_extension(file) for file in files]\n",
    "    c = Counter(file_ext)\n",
    "    sorted_files = sort_table(c,reversed=True)\n",
    "    result = [[k,v] for k,v in c.items()]\n",
    "    for i in range(len(result)):\n",
    "        ext_count = result[i][1]\n",
    "        percent = round(ext_count / len(file_ext),2) \n",
    "        result[i].append(percent)\n",
    "    return table_for_ext(result, 'Расширение', 'Количесвто', 'Процент')[:count]"
   ]
  },
  {
   "cell_type": "code",
   "execution_count": 732,
   "metadata": {},
   "outputs": [],
   "source": [
    "def get_longest_abspath_files(path: str, count: int) -> list:\n",
    "    # Показать ТОП самых длинных полных путей к файлам\n",
    "    result = []\n",
    "    for current_dir, dirs, files in os.walk(\".\"):\n",
    "        for file in files:\n",
    "            result.append(os.path.abspath(file))\n",
    "    return get_largest_names(result, count)"
   ]
  },
  {
   "cell_type": "code",
   "execution_count": 733,
   "metadata": {},
   "outputs": [],
   "source": [
    "def get_longest_abspath_dirs(path: str, count: int) -> list:\n",
    "    # Показать ТОП самых длинных путей к каталогам\n",
    "    result = []\n",
    "    for current_dir, dirs, files in os.walk(\".\"):\n",
    "        for dir in dirs:\n",
    "            result.append(os.path.abspath(dir))\n",
    "    return get_largest_names(result, count)"
   ]
  },
  {
   "cell_type": "code",
   "execution_count": 734,
   "metadata": {},
   "outputs": [],
   "source": [
    "def get_largest_dirs_files(path: str, count: int) -> list:\n",
    "    # Показать ТОП каталогов, где больше всего файлов\n",
    "    c = Counter()\n",
    "    for current_dir, dirs, files in os.walk(\".\"):\n",
    "        for dir in dirs:\n",
    "            abspath = os.path.abspath(dir)\n",
    "            c[abspath] = len(files)\n",
    "            \n",
    "    sorted_dirs = sort_table(c,reversed=True)\n",
    "    return table_for_files(sorted_dirs, 'Директория', 'Количество файлов')[:count]"
   ]
  },
  {
   "cell_type": "code",
   "execution_count": 735,
   "metadata": {},
   "outputs": [],
   "source": [
    "def get_largest_dirs_subdirs(path: str, count: int) -> list:\n",
    "    # Показать ТОП каталогов, где больше всего подкаталогов\n",
    "    c = Counter()\n",
    "    for current_dir, dirs, files in os.walk(\".\"):\n",
    "        abspath = os.path.abspath(current_dir)\n",
    "        c[abspath]  = len(dirs)\n",
    "    \n",
    "    sorted_dirs = sort_table(c,reversed=True)\n",
    "    return table_for_files(sorted_dirs, 'Директория', 'Количество поддиректорий')[:count]"
   ]
  },
  {
   "cell_type": "code",
   "execution_count": null,
   "metadata": {},
   "outputs": [],
   "source": []
  },
  {
   "cell_type": "code",
   "execution_count": 736,
   "metadata": {},
   "outputs": [],
   "source": [
    "path = input('Введите путь до каталога[по умолчанию будет установлен текущий]')\n",
    "path = '.' if len(path) == 0 else path\n",
    "files = [file for file in os.listdir(path) if os.path.isfile(file)]\n",
    "dirs = [dir for dir in os.listdir(path) if os.path.isdir(dir)]"
   ]
  },
  {
   "cell_type": "code",
   "execution_count": 737,
   "metadata": {},
   "outputs": [
    {
     "data": {
      "text/html": [
       "<table>\n",
       "    <thead>\n",
       "        <tr>\n",
       "            <th>Имя</th>\n",
       "            <th>Размер</th>\n",
       "        </tr>\n",
       "    </thead>\n",
       "    <tbody>\n",
       "        <tr>\n",
       "            <td>labDrawChess.py</td>\n",
       "            <td>945.00 B</td>\n",
       "        </tr>\n",
       "        <tr>\n",
       "            <td>labOS.ipynb</td>\n",
       "            <td>9.12 KB</td>\n",
       "        </tr>\n",
       "        <tr>\n",
       "            <td>labJupyter.ipynb</td>\n",
       "            <td>8.90 KB</td>\n",
       "        </tr>\n",
       "    </tbody>\n",
       "</table>"
      ],
      "text/plain": [
       "+------------------+----------+\n",
       "|       Имя        |  Размер  |\n",
       "+------------------+----------+\n",
       "| labDrawChess.py  | 945.00 B |\n",
       "|   labOS.ipynb    | 9.12 KB  |\n",
       "| labJupyter.ipynb | 8.90 KB  |\n",
       "+------------------+----------+"
      ]
     },
     "execution_count": 737,
     "metadata": {},
     "output_type": "execute_result"
    }
   ],
   "source": [
    "get_largest_files(files,3)"
   ]
  },
  {
   "cell_type": "code",
   "execution_count": 738,
   "metadata": {},
   "outputs": [
    {
     "data": {
      "text/html": [
       "<table>\n",
       "    <thead>\n",
       "        <tr>\n",
       "            <th>Имя</th>\n",
       "            <th>Размер</th>\n",
       "        </tr>\n",
       "    </thead>\n",
       "    <tbody>\n",
       "        <tr>\n",
       "            <td>labTuple.ipynb</td>\n",
       "            <td>10.05 KB</td>\n",
       "        </tr>\n",
       "        <tr>\n",
       "            <td>labRandom.ipynb</td>\n",
       "            <td>10.25 KB</td>\n",
       "        </tr>\n",
       "        <tr>\n",
       "            <td>labStr.ipynb</td>\n",
       "            <td>10.38 KB</td>\n",
       "        </tr>\n",
       "    </tbody>\n",
       "</table>"
      ],
      "text/plain": [
       "+-----------------+----------+\n",
       "|       Имя       |  Размер  |\n",
       "+-----------------+----------+\n",
       "|  labTuple.ipynb | 10.05 KB |\n",
       "| labRandom.ipynb | 10.25 KB |\n",
       "|   labStr.ipynb  | 10.38 KB |\n",
       "+-----------------+----------+"
      ]
     },
     "execution_count": 738,
     "metadata": {},
     "output_type": "execute_result"
    }
   ],
   "source": [
    "get_smallest_files(files,3)"
   ]
  },
  {
   "cell_type": "code",
   "execution_count": 739,
   "metadata": {},
   "outputs": [
    {
     "data": {
      "text/html": [
       "<table>\n",
       "    <thead>\n",
       "        <tr>\n",
       "            <th>Имя</th>\n",
       "            <th>Длина названия</th>\n",
       "        </tr>\n",
       "    </thead>\n",
       "    <tbody>\n",
       "        <tr>\n",
       "            <td>labPrettyTable_style.ipynb</td>\n",
       "            <td>26</td>\n",
       "        </tr>\n",
       "        <tr>\n",
       "            <td>LabFileCSV-cities.ipynb</td>\n",
       "            <td>23</td>\n",
       "        </tr>\n",
       "        <tr>\n",
       "            <td>labGameConverterByte.py</td>\n",
       "            <td>23</td>\n",
       "        </tr>\n",
       "    </tbody>\n",
       "</table>"
      ],
      "text/plain": [
       "+----------------------------+----------------+\n",
       "|            Имя             | Длина названия |\n",
       "+----------------------------+----------------+\n",
       "| labPrettyTable_style.ipynb |       26       |\n",
       "|  LabFileCSV-cities.ipynb   |       23       |\n",
       "|  labGameConverterByte.py   |       23       |\n",
       "+----------------------------+----------------+"
      ]
     },
     "execution_count": 739,
     "metadata": {},
     "output_type": "execute_result"
    }
   ],
   "source": [
    "get_largest_names(files,3)"
   ]
  },
  {
   "cell_type": "code",
   "execution_count": 740,
   "metadata": {},
   "outputs": [
    {
     "data": {
      "text/html": [
       "<table>\n",
       "    <thead>\n",
       "        <tr>\n",
       "            <th>Имя</th>\n",
       "            <th>Длина названия</th>\n",
       "        </tr>\n",
       "    </thead>\n",
       "    <tbody>\n",
       "        <tr>\n",
       "            <td>test.py</td>\n",
       "            <td>7</td>\n",
       "        </tr>\n",
       "        <tr>\n",
       "            <td>ha.ipynb</td>\n",
       "            <td>8</td>\n",
       "        </tr>\n",
       "        <tr>\n",
       "            <td>labIf.py</td>\n",
       "            <td>8</td>\n",
       "        </tr>\n",
       "    </tbody>\n",
       "</table>"
      ],
      "text/plain": [
       "+----------+----------------+\n",
       "|   Имя    | Длина названия |\n",
       "+----------+----------------+\n",
       "| test.py  |       7        |\n",
       "| ha.ipynb |       8        |\n",
       "| labIf.py |       8        |\n",
       "+----------+----------------+"
      ]
     },
     "execution_count": 740,
     "metadata": {},
     "output_type": "execute_result"
    }
   ],
   "source": [
    "get_smallest_names(files,3)"
   ]
  },
  {
   "cell_type": "code",
   "execution_count": 741,
   "metadata": {},
   "outputs": [
    {
     "data": {
      "text/html": [
       "<table>\n",
       "    <thead>\n",
       "        <tr>\n",
       "            <th>Расширение</th>\n",
       "            <th>Длина</th>\n",
       "        </tr>\n",
       "    </thead>\n",
       "    <tbody>\n",
       "        <tr>\n",
       "            <td>.py</td>\n",
       "            <td>2</td>\n",
       "        </tr>\n",
       "        <tr>\n",
       "            <td>.md</td>\n",
       "            <td>2</td>\n",
       "        </tr>\n",
       "        <tr>\n",
       "            <td>.txt</td>\n",
       "            <td>3</td>\n",
       "        </tr>\n",
       "    </tbody>\n",
       "</table>"
      ],
      "text/plain": [
       "+------------+-------+\n",
       "| Расширение | Длина |\n",
       "+------------+-------+\n",
       "|    .py     |   2   |\n",
       "|    .md     |   2   |\n",
       "|    .txt    |   3   |\n",
       "+------------+-------+"
      ]
     },
     "execution_count": 741,
     "metadata": {},
     "output_type": "execute_result"
    }
   ],
   "source": [
    "get_largest_extension_files(files,3)"
   ]
  },
  {
   "cell_type": "code",
   "execution_count": 742,
   "metadata": {},
   "outputs": [
    {
     "data": {
      "text/html": [
       "<table>\n",
       "    <thead>\n",
       "        <tr>\n",
       "            <th>Расширение</th>\n",
       "            <th>Длина</th>\n",
       "        </tr>\n",
       "    </thead>\n",
       "    <tbody>\n",
       "        <tr>\n",
       "            <td>.ipynb</td>\n",
       "            <td>5</td>\n",
       "        </tr>\n",
       "        <tr>\n",
       "            <td>.txt</td>\n",
       "            <td>3</td>\n",
       "        </tr>\n",
       "        <tr>\n",
       "            <td>.py</td>\n",
       "            <td>2</td>\n",
       "        </tr>\n",
       "    </tbody>\n",
       "</table>"
      ],
      "text/plain": [
       "+------------+-------+\n",
       "| Расширение | Длина |\n",
       "+------------+-------+\n",
       "|   .ipynb   |   5   |\n",
       "|    .txt    |   3   |\n",
       "|    .py     |   2   |\n",
       "+------------+-------+"
      ]
     },
     "execution_count": 742,
     "metadata": {},
     "output_type": "execute_result"
    }
   ],
   "source": [
    "get_smallest_extension_files(files,3)"
   ]
  },
  {
   "cell_type": "code",
   "execution_count": 743,
   "metadata": {},
   "outputs": [
    {
     "data": {
      "text/html": [
       "<table>\n",
       "    <thead>\n",
       "        <tr>\n",
       "            <th>Расширение</th>\n",
       "            <th>Количесвто</th>\n",
       "            <th>Процент</th>\n",
       "        </tr>\n",
       "    </thead>\n",
       "    <tbody>\n",
       "        <tr>\n",
       "            <td>.ipynb</td>\n",
       "            <td>36</td>\n",
       "            <td>0.67</td>\n",
       "        </tr>\n",
       "        <tr>\n",
       "            <td>.py</td>\n",
       "            <td>16</td>\n",
       "            <td>0.3</td>\n",
       "        </tr>\n",
       "        <tr>\n",
       "            <td>.md</td>\n",
       "            <td>1</td>\n",
       "            <td>0.02</td>\n",
       "        </tr>\n",
       "    </tbody>\n",
       "</table>"
      ],
      "text/plain": [
       "+------------+------------+---------+\n",
       "| Расширение | Количесвто | Процент |\n",
       "+------------+------------+---------+\n",
       "|   .ipynb   |     36     |   0.67  |\n",
       "|    .py     |     16     |   0.3   |\n",
       "|    .md     |     1      |   0.02  |\n",
       "+------------+------------+---------+"
      ]
     },
     "execution_count": 743,
     "metadata": {},
     "output_type": "execute_result"
    }
   ],
   "source": [
    "get_most_used_extension_files(files,3)"
   ]
  },
  {
   "cell_type": "code",
   "execution_count": 744,
   "metadata": {},
   "outputs": [
    {
     "data": {
      "text/html": [
       "<table>\n",
       "    <thead>\n",
       "        <tr>\n",
       "            <th>Расширение</th>\n",
       "            <th>Длина</th>\n",
       "        </tr>\n",
       "    </thead>\n",
       "    <tbody>\n",
       "        <tr>\n",
       "            <td>.py</td>\n",
       "            <td>2</td>\n",
       "        </tr>\n",
       "        <tr>\n",
       "            <td>.md</td>\n",
       "            <td>2</td>\n",
       "        </tr>\n",
       "        <tr>\n",
       "            <td>.txt</td>\n",
       "            <td>3</td>\n",
       "        </tr>\n",
       "    </tbody>\n",
       "</table>"
      ],
      "text/plain": [
       "+------------+-------+\n",
       "| Расширение | Длина |\n",
       "+------------+-------+\n",
       "|    .py     |   2   |\n",
       "|    .md     |   2   |\n",
       "|    .txt    |   3   |\n",
       "+------------+-------+"
      ]
     },
     "execution_count": 744,
     "metadata": {},
     "output_type": "execute_result"
    }
   ],
   "source": [
    "get_largest_extension_files(files,3)"
   ]
  },
  {
   "cell_type": "code",
   "execution_count": 745,
   "metadata": {},
   "outputs": [
    {
     "data": {
      "text/html": [
       "<table>\n",
       "    <thead>\n",
       "        <tr>\n",
       "            <th>Расширение</th>\n",
       "            <th>Длина</th>\n",
       "        </tr>\n",
       "    </thead>\n",
       "    <tbody>\n",
       "        <tr>\n",
       "            <td>.ipynb</td>\n",
       "            <td>5</td>\n",
       "        </tr>\n",
       "        <tr>\n",
       "            <td>.txt</td>\n",
       "            <td>3</td>\n",
       "        </tr>\n",
       "        <tr>\n",
       "            <td>.py</td>\n",
       "            <td>2</td>\n",
       "        </tr>\n",
       "    </tbody>\n",
       "</table>"
      ],
      "text/plain": [
       "+------------+-------+\n",
       "| Расширение | Длина |\n",
       "+------------+-------+\n",
       "|   .ipynb   |   5   |\n",
       "|    .txt    |   3   |\n",
       "|    .py     |   2   |\n",
       "+------------+-------+"
      ]
     },
     "execution_count": 745,
     "metadata": {},
     "output_type": "execute_result"
    }
   ],
   "source": [
    "get_smallest_extension_files(files,3)"
   ]
  },
  {
   "cell_type": "code",
   "execution_count": 746,
   "metadata": {},
   "outputs": [
    {
     "data": {
      "text/html": [
       "<table>\n",
       "    <thead>\n",
       "        <tr>\n",
       "            <th>Имя</th>\n",
       "            <th>Длина названия</th>\n",
       "        </tr>\n",
       "    </thead>\n",
       "    <tbody>\n",
       "        <tr>\n",
       "            <td>c:\\Универ\\Современные технологии программирования\\питон\\mp_2022_224-322_python\\pack-433940d87e4863e9a3c9fd9f1e243bfb99f78ecc.pack</td>\n",
       "            <td>129</td>\n",
       "        </tr>\n",
       "        <tr>\n",
       "            <td>c:\\Универ\\Современные технологии программирования\\питон\\mp_2022_224-322_python\\pack-433940d87e4863e9a3c9fd9f1e243bfb99f78ecc.idx</td>\n",
       "            <td>128</td>\n",
       "        </tr>\n",
       "        <tr>\n",
       "            <td>c:\\Универ\\Современные технологии программирования\\питон\\mp_2022_224-322_python\\37811078a2cea71ceec865e04276a02eb1c0fc</td>\n",
       "            <td>117</td>\n",
       "        </tr>\n",
       "    </tbody>\n",
       "</table>"
      ],
      "text/plain": [
       "+-----------------------------------------------------------------------------------------------------------------------------------+----------------+\n",
       "|                                                                Имя                                                                | Длина названия |\n",
       "+-----------------------------------------------------------------------------------------------------------------------------------+----------------+\n",
       "| c:\\Универ\\Современные технологии программирования\\питон\\mp_2022_224-322_python\\pack-433940d87e4863e9a3c9fd9f1e243bfb99f78ecc.pack |      129       |\n",
       "|  c:\\Универ\\Современные технологии программирования\\питон\\mp_2022_224-322_python\\pack-433940d87e4863e9a3c9fd9f1e243bfb99f78ecc.idx |      128       |\n",
       "|       c:\\Универ\\Современные технологии программирования\\питон\\mp_2022_224-322_python\\37811078a2cea71ceec865e04276a02eb1c0fc       |      117       |\n",
       "+-----------------------------------------------------------------------------------------------------------------------------------+----------------+"
      ]
     },
     "execution_count": 746,
     "metadata": {},
     "output_type": "execute_result"
    }
   ],
   "source": [
    "get_longest_abspath_files(path, 3)"
   ]
  },
  {
   "cell_type": "code",
   "execution_count": 747,
   "metadata": {},
   "outputs": [
    {
     "data": {
      "text/html": [
       "<table>\n",
       "    <thead>\n",
       "        <tr>\n",
       "            <th>Имя</th>\n",
       "            <th>Длина названия</th>\n",
       "        </tr>\n",
       "    </thead>\n",
       "    <tbody>\n",
       "        <tr>\n",
       "            <td>c:\\Универ\\Современные технологии программирования\\питон\\mp_2022_224-322_python\\.vscode</td>\n",
       "            <td>86</td>\n",
       "        </tr>\n",
       "        <tr>\n",
       "            <td>c:\\Универ\\Современные технологии программирования\\питон\\mp_2022_224-322_python\\objects</td>\n",
       "            <td>86</td>\n",
       "        </tr>\n",
       "        <tr>\n",
       "            <td>c:\\Универ\\Современные технологии программирования\\питон\\mp_2022_224-322_python\\remotes</td>\n",
       "            <td>86</td>\n",
       "        </tr>\n",
       "    </tbody>\n",
       "</table>"
      ],
      "text/plain": [
       "+----------------------------------------------------------------------------------------+----------------+\n",
       "|                                          Имя                                           | Длина названия |\n",
       "+----------------------------------------------------------------------------------------+----------------+\n",
       "| c:\\Универ\\Современные технологии программирования\\питон\\mp_2022_224-322_python\\.vscode |       86       |\n",
       "| c:\\Универ\\Современные технологии программирования\\питон\\mp_2022_224-322_python\\objects |       86       |\n",
       "| c:\\Универ\\Современные технологии программирования\\питон\\mp_2022_224-322_python\\remotes |       86       |\n",
       "+----------------------------------------------------------------------------------------+----------------+"
      ]
     },
     "execution_count": 747,
     "metadata": {},
     "output_type": "execute_result"
    }
   ],
   "source": [
    "get_longest_abspath_dirs(path, 3)"
   ]
  },
  {
   "cell_type": "code",
   "execution_count": 748,
   "metadata": {},
   "outputs": [
    {
     "data": {
      "text/html": [
       "<table>\n",
       "    <thead>\n",
       "        <tr>\n",
       "            <th>Директория</th>\n",
       "            <th>Количество файлов</th>\n",
       "        </tr>\n",
       "    </thead>\n",
       "    <tbody>\n",
       "        <tr>\n",
       "            <td>c:\\Универ\\Современные технологии программирования\\питон\\mp_2022_224-322_python\\.git</td>\n",
       "            <td>54</td>\n",
       "        </tr>\n",
       "        <tr>\n",
       "            <td>c:\\Универ\\Современные технологии программирования\\питон\\mp_2022_224-322_python\\.vscode</td>\n",
       "            <td>54</td>\n",
       "        </tr>\n",
       "        <tr>\n",
       "            <td>c:\\Универ\\Современные технологии программирования\\питон\\mp_2022_224-322_python\\temp</td>\n",
       "            <td>54</td>\n",
       "        </tr>\n",
       "    </tbody>\n",
       "</table>"
      ],
      "text/plain": [
       "+----------------------------------------------------------------------------------------+-------------------+\n",
       "|                                       Директория                                       | Количество файлов |\n",
       "+----------------------------------------------------------------------------------------+-------------------+\n",
       "|  c:\\Универ\\Современные технологии программирования\\питон\\mp_2022_224-322_python\\.git   |         54        |\n",
       "| c:\\Универ\\Современные технологии программирования\\питон\\mp_2022_224-322_python\\.vscode |         54        |\n",
       "|  c:\\Универ\\Современные технологии программирования\\питон\\mp_2022_224-322_python\\temp   |         54        |\n",
       "+----------------------------------------------------------------------------------------+-------------------+"
      ]
     },
     "execution_count": 748,
     "metadata": {},
     "output_type": "execute_result"
    }
   ],
   "source": [
    "get_largest_dirs_files(path, 3)"
   ]
  },
  {
   "cell_type": "code",
   "execution_count": 749,
   "metadata": {},
   "outputs": [
    {
     "data": {
      "text/html": [
       "<table>\n",
       "    <thead>\n",
       "        <tr>\n",
       "            <th>Директория</th>\n",
       "            <th>Количество поддиректорий</th>\n",
       "        </tr>\n",
       "    </thead>\n",
       "    <tbody>\n",
       "        <tr>\n",
       "            <td>c:\\Универ\\Современные технологии программирования\\питон\\mp_2022_224-322_python\\.git\\objects</td>\n",
       "            <td>146</td>\n",
       "        </tr>\n",
       "        <tr>\n",
       "            <td>c:\\Универ\\Современные технологии программирования\\питон\\mp_2022_224-322_python\\.git</td>\n",
       "            <td>5</td>\n",
       "        </tr>\n",
       "        <tr>\n",
       "            <td>c:\\Универ\\Современные технологии программирования\\питон\\mp_2022_224-322_python</td>\n",
       "            <td>3</td>\n",
       "        </tr>\n",
       "    </tbody>\n",
       "</table>"
      ],
      "text/plain": [
       "+---------------------------------------------------------------------------------------------+--------------------------+\n",
       "|                                          Директория                                         | Количество поддиректорий |\n",
       "+---------------------------------------------------------------------------------------------+--------------------------+\n",
       "| c:\\Универ\\Современные технологии программирования\\питон\\mp_2022_224-322_python\\.git\\objects |           146            |\n",
       "|     c:\\Универ\\Современные технологии программирования\\питон\\mp_2022_224-322_python\\.git     |            5             |\n",
       "|        c:\\Универ\\Современные технологии программирования\\питон\\mp_2022_224-322_python       |            3             |\n",
       "+---------------------------------------------------------------------------------------------+--------------------------+"
      ]
     },
     "execution_count": 749,
     "metadata": {},
     "output_type": "execute_result"
    }
   ],
   "source": [
    "get_largest_dirs_subdirs(path, 3)"
   ]
  }
 ],
 "metadata": {
  "kernelspec": {
   "display_name": "Python 3.9.6 64-bit",
   "language": "python",
   "name": "python3"
  },
  "language_info": {
   "codemirror_mode": {
    "name": "ipython",
    "version": 3
   },
   "file_extension": ".py",
   "mimetype": "text/x-python",
   "name": "python",
   "nbconvert_exporter": "python",
   "pygments_lexer": "ipython3",
   "version": "3.9.6"
  },
  "orig_nbformat": 4,
  "vscode": {
   "interpreter": {
    "hash": "0d591c6e422414675974e227c13f5382000c440fedd3c5006ef2be5d887f0ba7"
   }
  }
 },
 "nbformat": 4,
 "nbformat_minor": 2
}
