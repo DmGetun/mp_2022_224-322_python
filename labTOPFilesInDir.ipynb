{
 "cells": [
  {
   "cell_type": "markdown",
   "metadata": {},
   "source": [
    "# HW"
   ]
  },
  {
   "cell_type": "code",
   "execution_count": 1,
   "metadata": {},
   "outputs": [],
   "source": [
    "from typing import Counter\n",
    "from prettytable import PrettyTable\n",
    "import os\n",
    "import math"
   ]
  },
  {
   "cell_type": "code",
   "execution_count": 2,
   "metadata": {},
   "outputs": [
    {
     "data": {
      "text/plain": [
       "Counter({'q': 6,\n",
       "         'w': 3,\n",
       "         'e': 3,\n",
       "         'r': 1,\n",
       "         'a': 1,\n",
       "         's': 1,\n",
       "         'd': 1,\n",
       "         '1': 2,\n",
       "         '2': 1,\n",
       "         '3': 2})"
      ]
     },
     "execution_count": 2,
     "metadata": {},
     "output_type": "execute_result"
    }
   ],
   "source": [
    "c = Counter(\"qwerasdqweqqq12331qwe\")\n",
    "c"
   ]
  },
  {
   "cell_type": "code",
   "execution_count": 4,
   "metadata": {},
   "outputs": [
    {
     "data": {
      "text/plain": [
       "Counter({'aaa.txt': 2, 'bbb.txt': 1})"
      ]
     },
     "execution_count": 4,
     "metadata": {},
     "output_type": "execute_result"
    }
   ],
   "source": [
    "c = Counter()\n",
    "c['aaa.txt'] += 1\n",
    "c['aaa.txt'] += 1\n",
    "c['bbb.txt'] += 1\n",
    "c"
   ]
  },
  {
   "cell_type": "code",
   "execution_count": null,
   "metadata": {},
   "outputs": [],
   "source": [
    "def get_largest_files(files: list, count: int) -> list:\n",
    "    # Вернуть топ самых больших файлов\n",
    "    pass\n",
    "    "
   ]
  },
  {
   "cell_type": "code",
   "execution_count": null,
   "metadata": {},
   "outputs": [],
   "source": [
    "def get_smallest_files(files: list, count: int) -> list:\n",
    "    # Вернуть топ самых маленьких файлов\n",
    "    pass"
   ]
  },
  {
   "cell_type": "code",
   "execution_count": null,
   "metadata": {},
   "outputs": [],
   "source": [
    "def get_largest_names(files:list, count: int) -> list:\n",
    "    # Вернуть топ самых больших имен файлов\n",
    "    pass "
   ]
  },
  {
   "cell_type": "code",
   "execution_count": null,
   "metadata": {},
   "outputs": [],
   "source": [
    "def get_smallest_names(files:list, count: int) -> list:\n",
    "    # Вернуть топ самых маленьких имен файлов\n",
    "    pass "
   ]
  },
  {
   "cell_type": "code",
   "execution_count": null,
   "metadata": {},
   "outputs": [],
   "source": [
    "def get_most_used_files(files:list, count: int) -> list:\n",
    "    # Показать ТОП самых часто используемых имён файлов и процентов\n",
    "    pass "
   ]
  },
  {
   "cell_type": "code",
   "execution_count": null,
   "metadata": {},
   "outputs": [],
   "source": [
    "def get_largest_extension_files(files:list, count: int) -> list:\n",
    "    # Показать ТОП самых длинных расширений файлов\n",
    "    pass"
   ]
  },
  {
   "cell_type": "code",
   "execution_count": null,
   "metadata": {},
   "outputs": [],
   "source": [
    "def get_smallest_extension_files(files:list, count: int) -> list:\n",
    "    # Показать ТОП самых коротких расширений файлов\n",
    "    pass"
   ]
  },
  {
   "cell_type": "code",
   "execution_count": null,
   "metadata": {},
   "outputs": [],
   "source": [
    "def get_most_used_extension_files(files: list, count: int) -> list:\n",
    "    # Показать ТОП самых часто используемых расширений файлов и процентов\n",
    "    pass"
   ]
  },
  {
   "cell_type": "code",
   "execution_count": null,
   "metadata": {},
   "outputs": [],
   "source": [
    "def get_longest_abspath_files(files: list, count: int) -> list:\n",
    "    # Показать ТОП самых длинных полных путей к файлам\n",
    "    pass"
   ]
  },
  {
   "cell_type": "code",
   "execution_count": null,
   "metadata": {},
   "outputs": [],
   "source": [
    "def get_longest_abspath_dirs(dirs: list, count: int) -> list:\n",
    "    # Показать ТОП самых длинных путей к каталогам\n",
    "    pass"
   ]
  },
  {
   "cell_type": "code",
   "execution_count": null,
   "metadata": {},
   "outputs": [],
   "source": [
    "def get_largest_dirs_files(dirs: list, count: int) -> list:\n",
    "    # Показать ТОП каталогов, где больше всего файлов\n",
    "    pass "
   ]
  },
  {
   "cell_type": "code",
   "execution_count": null,
   "metadata": {},
   "outputs": [],
   "source": [
    "def get_largest_dirs_subdirs(dirs: list, count: int) -> list:\n",
    "    # Показать ТОП каталогов, где больше всего подкаталогов\n",
    "    pass"
   ]
  },
  {
   "cell_type": "code",
   "execution_count": null,
   "metadata": {},
   "outputs": [],
   "source": []
  },
  {
   "cell_type": "code",
   "execution_count": null,
   "metadata": {},
   "outputs": [],
   "source": [
    "path = input('Введите путь до каталога[по умолчанию будет установлен текущий]')\n",
    "path = '.' if len(path) == 0 else path\n",
    "files = [file for file in os.listdir(path) if os.path.isfile(file)]"
   ]
  }
 ],
 "metadata": {
  "kernelspec": {
   "display_name": "Python 3.9.6 64-bit",
   "language": "python",
   "name": "python3"
  },
  "language_info": {
   "codemirror_mode": {
    "name": "ipython",
    "version": 3
   },
   "file_extension": ".py",
   "mimetype": "text/x-python",
   "name": "python",
   "nbconvert_exporter": "python",
   "pygments_lexer": "ipython3",
   "version": "3.9.6"
  },
  "orig_nbformat": 4,
  "vscode": {
   "interpreter": {
    "hash": "0d591c6e422414675974e227c13f5382000c440fedd3c5006ef2be5d887f0ba7"
   }
  }
 },
 "nbformat": 4,
 "nbformat_minor": 2
}
