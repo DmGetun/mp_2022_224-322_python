{
 "cells": [
  {
   "cell_type": "markdown",
   "metadata": {},
   "source": [
    "# Переопределение видимости переменных внутри тела функции"
   ]
  },
  {
   "cell_type": "code",
   "execution_count": 1,
   "metadata": {},
   "outputs": [
    {
     "name": "stdout",
     "output_type": "stream",
     "text": [
      "x=1, y=1, z=30\n"
     ]
    }
   ],
   "source": [
    "x = 1\n",
    "y = 1\n",
    "\n",
    "def func():\n",
    "    global y # обращение к глобальной переменой\n",
    "    x = 10\n",
    "    y = 10\n",
    "    global z # объявление глобальной переменной внутри функции\n",
    "    z = 30\n",
    "    \n",
    "func()\n",
    "print(f\"{x=}, {y=}, {z=}\")"
   ]
  },
  {
   "cell_type": "code",
   "execution_count": 7,
   "metadata": {},
   "outputs": [
    {
     "name": "stdout",
     "output_type": "stream",
     "text": [
      "in: x=111, y=222, z=333\n",
      "out: x=11, y=22, z=333\n",
      "global: x=1, y=222, z=3\n"
     ]
    }
   ],
   "source": [
    "x = 1\n",
    "y = 2\n",
    "z = 3\n",
    "\n",
    "def func_outer():\n",
    "    x = 11\n",
    "    y = 22\n",
    "    z = 33\n",
    "    \n",
    "    def func_inner():\n",
    "        x = 111\n",
    "        global y\n",
    "        y = 222\n",
    "        nonlocal z\n",
    "        z = 333\n",
    "        print(f\"in: {x=}, {y=}, {z=}\")\n",
    "    func_inner()\n",
    "    print(f\"out: {x=}, {y=}, {z=}\")\n",
    "    \n",
    "func_outer()\n",
    "print(f\"global: {x=}, {y=}, {z=}\")"
   ]
  },
  {
   "cell_type": "code",
   "execution_count": 8,
   "metadata": {},
   "outputs": [
    {
     "data": {
      "text/plain": [
       "{'__name__': '__main__',\n",
       " '__doc__': 'Automatically created module for IPython interactive environment',\n",
       " '__package__': None,\n",
       " '__loader__': None,\n",
       " '__spec__': None,\n",
       " '__builtin__': <module 'builtins' (built-in)>,\n",
       " '__builtins__': <module 'builtins' (built-in)>,\n",
       " '_ih': ['',\n",
       "  'x = 1\\ny = 1\\n\\ndef func():\\n    x = 10\\n    y = 10\\n    global z\\n    z = 30\\n    \\nfunc()\\nprint(f\"{x=}, {y=}, {z=}\")',\n",
       "  'x = 1\\ny = 1\\nz = 1\\n\\ndef func_outer():\\n    x = 11\\n    y = 22\\n    z = 33\\n    \\nfunc_outer()\\nprint(f\"global: {x=}, {y=},{z=}\")',\n",
       "  'x = 1\\ny = 1\\nz = 1\\n\\ndef func_outer():\\n    x = 11\\n    y = 22\\n    z = 33\\n    \\n    def func_inner():\\n        x = 111\\n        y = 222\\n        z = 333\\n        print(f\"in: {x=}, {y=}, {z=}\")\\n    func_inner()\\n    print(f\"out: {x=}, {y=}, {z=}\")\\n    \\nfunc_outer()\\nprint(f\"global: {x=}, {y=}, {z=}\")',\n",
       "  'x = 1\\ny = 1\\nz = 1\\n\\ndef func_outer():\\n    x = 11\\n    y = 22\\n    z = 33\\n    \\n    def func_inner():\\n        x = 111\\n        global y\\n        y = 222\\n        z = 333\\n        print(f\"in: {x=}, {y=}, {z=}\")\\n    func_inner()\\n    print(f\"out: {x=}, {y=}, {z=}\")\\n    \\nfunc_outer()\\nprint(f\"global: {x=}, {y=}, {z=}\")',\n",
       "  'x = 1\\ny = 1\\nz = 1\\n\\ndef func_outer():\\n    x = 11\\n    y = 22\\n    z = 33\\n    \\n    def func_inner():\\n        x = 111\\n        global y\\n        y = 222\\n        nonlocal z\\n        z = 333\\n        print(f\"in: {x=}, {y=}, {z=}\")\\n    func_inner()\\n    print(f\"out: {x=}, {y=}, {z=}\")\\n    \\nfunc_outer()\\nprint(f\"global: {x=}, {y=}, {z=}\")',\n",
       "  'x = 1\\ny = 1\\nz = 1\\n\\ndef func_outer():\\n    x = 11\\n    y = 22\\n    z = 33\\n    \\n    def func_inner():\\n        x = 111\\n        global y\\n        y = 222\\n        nonlocal z\\n        z = 333\\n        print(f\"in: {x=}, {y=}, {z=}\")\\n    func_inner()\\n    print(f\"out: {x=}, {y=}, {z=}\")\\n    \\nfunc_outer()\\nprint(f\"global: {x=}, {y=}, {z=}\")',\n",
       "  'x = 1\\ny = 2\\nz = 3\\n\\ndef func_outer():\\n    x = 11\\n    y = 22\\n    z = 33\\n    \\n    def func_inner():\\n        x = 111\\n        global y\\n        y = 222\\n        nonlocal z\\n        z = 333\\n        print(f\"in: {x=}, {y=}, {z=}\")\\n    func_inner()\\n    print(f\"out: {x=}, {y=}, {z=}\")\\n    \\nfunc_outer()\\nprint(f\"global: {x=}, {y=}, {z=}\")',\n",
       "  'globals()'],\n",
       " '_oh': {},\n",
       " '_dh': [WindowsPath('c:/Универ/Современные технологии программирования/питон/mp_2022_224-322_python'),\n",
       "  WindowsPath('c:/Универ/Современные технологии программирования/питон/mp_2022_224-322_python')],\n",
       " 'In': ['',\n",
       "  'x = 1\\ny = 1\\n\\ndef func():\\n    x = 10\\n    y = 10\\n    global z\\n    z = 30\\n    \\nfunc()\\nprint(f\"{x=}, {y=}, {z=}\")',\n",
       "  'x = 1\\ny = 1\\nz = 1\\n\\ndef func_outer():\\n    x = 11\\n    y = 22\\n    z = 33\\n    \\nfunc_outer()\\nprint(f\"global: {x=}, {y=},{z=}\")',\n",
       "  'x = 1\\ny = 1\\nz = 1\\n\\ndef func_outer():\\n    x = 11\\n    y = 22\\n    z = 33\\n    \\n    def func_inner():\\n        x = 111\\n        y = 222\\n        z = 333\\n        print(f\"in: {x=}, {y=}, {z=}\")\\n    func_inner()\\n    print(f\"out: {x=}, {y=}, {z=}\")\\n    \\nfunc_outer()\\nprint(f\"global: {x=}, {y=}, {z=}\")',\n",
       "  'x = 1\\ny = 1\\nz = 1\\n\\ndef func_outer():\\n    x = 11\\n    y = 22\\n    z = 33\\n    \\n    def func_inner():\\n        x = 111\\n        global y\\n        y = 222\\n        z = 333\\n        print(f\"in: {x=}, {y=}, {z=}\")\\n    func_inner()\\n    print(f\"out: {x=}, {y=}, {z=}\")\\n    \\nfunc_outer()\\nprint(f\"global: {x=}, {y=}, {z=}\")',\n",
       "  'x = 1\\ny = 1\\nz = 1\\n\\ndef func_outer():\\n    x = 11\\n    y = 22\\n    z = 33\\n    \\n    def func_inner():\\n        x = 111\\n        global y\\n        y = 222\\n        nonlocal z\\n        z = 333\\n        print(f\"in: {x=}, {y=}, {z=}\")\\n    func_inner()\\n    print(f\"out: {x=}, {y=}, {z=}\")\\n    \\nfunc_outer()\\nprint(f\"global: {x=}, {y=}, {z=}\")',\n",
       "  'x = 1\\ny = 1\\nz = 1\\n\\ndef func_outer():\\n    x = 11\\n    y = 22\\n    z = 33\\n    \\n    def func_inner():\\n        x = 111\\n        global y\\n        y = 222\\n        nonlocal z\\n        z = 333\\n        print(f\"in: {x=}, {y=}, {z=}\")\\n    func_inner()\\n    print(f\"out: {x=}, {y=}, {z=}\")\\n    \\nfunc_outer()\\nprint(f\"global: {x=}, {y=}, {z=}\")',\n",
       "  'x = 1\\ny = 2\\nz = 3\\n\\ndef func_outer():\\n    x = 11\\n    y = 22\\n    z = 33\\n    \\n    def func_inner():\\n        x = 111\\n        global y\\n        y = 222\\n        nonlocal z\\n        z = 333\\n        print(f\"in: {x=}, {y=}, {z=}\")\\n    func_inner()\\n    print(f\"out: {x=}, {y=}, {z=}\")\\n    \\nfunc_outer()\\nprint(f\"global: {x=}, {y=}, {z=}\")',\n",
       "  'globals()'],\n",
       " 'Out': {},\n",
       " 'get_ipython': <bound method InteractiveShell.get_ipython of <ipykernel.zmqshell.ZMQInteractiveShell object at 0x000001E24C47CE20>>,\n",
       " 'exit': <IPython.core.autocall.ZMQExitAutocall at 0x1e24c3fdfd0>,\n",
       " 'quit': <IPython.core.autocall.ZMQExitAutocall at 0x1e24c3fdfd0>,\n",
       " '_': '',\n",
       " '__': '',\n",
       " '___': '',\n",
       " 'os': <module 'os' from 'c:\\\\Users\\\\Admin\\\\AppData\\\\Local\\\\Programs\\\\Python\\\\Python39\\\\lib\\\\os.py'>,\n",
       " 'sys': <module 'sys' (built-in)>,\n",
       " '__vsc_ipynb_file__': 'c:\\\\Универ\\\\Современные технологии программирования\\\\питон\\\\mp_2022_224-322_python\\\\labFuncVariables.ipynb',\n",
       " '_i': 'x = 1\\ny = 2\\nz = 3\\n\\ndef func_outer():\\n    x = 11\\n    y = 22\\n    z = 33\\n    \\n    def func_inner():\\n        x = 111\\n        global y\\n        y = 222\\n        nonlocal z\\n        z = 333\\n        print(f\"in: {x=}, {y=}, {z=}\")\\n    func_inner()\\n    print(f\"out: {x=}, {y=}, {z=}\")\\n    \\nfunc_outer()\\nprint(f\"global: {x=}, {y=}, {z=}\")',\n",
       " '_ii': 'x = 1\\ny = 1\\nz = 1\\n\\ndef func_outer():\\n    x = 11\\n    y = 22\\n    z = 33\\n    \\n    def func_inner():\\n        x = 111\\n        global y\\n        y = 222\\n        nonlocal z\\n        z = 333\\n        print(f\"in: {x=}, {y=}, {z=}\")\\n    func_inner()\\n    print(f\"out: {x=}, {y=}, {z=}\")\\n    \\nfunc_outer()\\nprint(f\"global: {x=}, {y=}, {z=}\")',\n",
       " '_iii': 'x = 1\\ny = 1\\nz = 1\\n\\ndef func_outer():\\n    x = 11\\n    y = 22\\n    z = 33\\n    \\n    def func_inner():\\n        x = 111\\n        global y\\n        y = 222\\n        nonlocal z\\n        z = 333\\n        print(f\"in: {x=}, {y=}, {z=}\")\\n    func_inner()\\n    print(f\"out: {x=}, {y=}, {z=}\")\\n    \\nfunc_outer()\\nprint(f\"global: {x=}, {y=}, {z=}\")',\n",
       " '_i1': 'x = 1\\ny = 1\\n\\ndef func():\\n    x = 10\\n    y = 10\\n    global z\\n    z = 30\\n    \\nfunc()\\nprint(f\"{x=}, {y=}, {z=}\")',\n",
       " 'x': 1,\n",
       " 'y': 222,\n",
       " 'func': <function __main__.func()>,\n",
       " 'z': 3,\n",
       " '_i2': 'x = 1\\ny = 1\\nz = 1\\n\\ndef func_outer():\\n    x = 11\\n    y = 22\\n    z = 33\\n    \\nfunc_outer()\\nprint(f\"global: {x=}, {y=},{z=}\")',\n",
       " 'func_outer': <function __main__.func_outer()>,\n",
       " '_i3': 'x = 1\\ny = 1\\nz = 1\\n\\ndef func_outer():\\n    x = 11\\n    y = 22\\n    z = 33\\n    \\n    def func_inner():\\n        x = 111\\n        y = 222\\n        z = 333\\n        print(f\"in: {x=}, {y=}, {z=}\")\\n    func_inner()\\n    print(f\"out: {x=}, {y=}, {z=}\")\\n    \\nfunc_outer()\\nprint(f\"global: {x=}, {y=}, {z=}\")',\n",
       " '_i4': 'x = 1\\ny = 1\\nz = 1\\n\\ndef func_outer():\\n    x = 11\\n    y = 22\\n    z = 33\\n    \\n    def func_inner():\\n        x = 111\\n        global y\\n        y = 222\\n        z = 333\\n        print(f\"in: {x=}, {y=}, {z=}\")\\n    func_inner()\\n    print(f\"out: {x=}, {y=}, {z=}\")\\n    \\nfunc_outer()\\nprint(f\"global: {x=}, {y=}, {z=}\")',\n",
       " '_i5': 'x = 1\\ny = 1\\nz = 1\\n\\ndef func_outer():\\n    x = 11\\n    y = 22\\n    z = 33\\n    \\n    def func_inner():\\n        x = 111\\n        global y\\n        y = 222\\n        nonlocal z\\n        z = 333\\n        print(f\"in: {x=}, {y=}, {z=}\")\\n    func_inner()\\n    print(f\"out: {x=}, {y=}, {z=}\")\\n    \\nfunc_outer()\\nprint(f\"global: {x=}, {y=}, {z=}\")',\n",
       " '_i6': 'x = 1\\ny = 1\\nz = 1\\n\\ndef func_outer():\\n    x = 11\\n    y = 22\\n    z = 33\\n    \\n    def func_inner():\\n        x = 111\\n        global y\\n        y = 222\\n        nonlocal z\\n        z = 333\\n        print(f\"in: {x=}, {y=}, {z=}\")\\n    func_inner()\\n    print(f\"out: {x=}, {y=}, {z=}\")\\n    \\nfunc_outer()\\nprint(f\"global: {x=}, {y=}, {z=}\")',\n",
       " '_i7': 'x = 1\\ny = 2\\nz = 3\\n\\ndef func_outer():\\n    x = 11\\n    y = 22\\n    z = 33\\n    \\n    def func_inner():\\n        x = 111\\n        global y\\n        y = 222\\n        nonlocal z\\n        z = 333\\n        print(f\"in: {x=}, {y=}, {z=}\")\\n    func_inner()\\n    print(f\"out: {x=}, {y=}, {z=}\")\\n    \\nfunc_outer()\\nprint(f\"global: {x=}, {y=}, {z=}\")',\n",
       " '_i8': 'globals()'}"
      ]
     },
     "execution_count": 8,
     "metadata": {},
     "output_type": "execute_result"
    }
   ],
   "source": [
    "globals()"
   ]
  },
  {
   "cell_type": "code",
   "execution_count": 9,
   "metadata": {},
   "outputs": [
    {
     "data": {
      "text/plain": [
       "{'__name__': '__main__',\n",
       " '__doc__': 'Automatically created module for IPython interactive environment',\n",
       " '__package__': None,\n",
       " '__loader__': None,\n",
       " '__spec__': None,\n",
       " '__builtin__': <module 'builtins' (built-in)>,\n",
       " '__builtins__': <module 'builtins' (built-in)>,\n",
       " '_ih': ['',\n",
       "  'x = 1\\ny = 1\\n\\ndef func():\\n    x = 10\\n    y = 10\\n    global z\\n    z = 30\\n    \\nfunc()\\nprint(f\"{x=}, {y=}, {z=}\")',\n",
       "  'x = 1\\ny = 1\\nz = 1\\n\\ndef func_outer():\\n    x = 11\\n    y = 22\\n    z = 33\\n    \\nfunc_outer()\\nprint(f\"global: {x=}, {y=},{z=}\")',\n",
       "  'x = 1\\ny = 1\\nz = 1\\n\\ndef func_outer():\\n    x = 11\\n    y = 22\\n    z = 33\\n    \\n    def func_inner():\\n        x = 111\\n        y = 222\\n        z = 333\\n        print(f\"in: {x=}, {y=}, {z=}\")\\n    func_inner()\\n    print(f\"out: {x=}, {y=}, {z=}\")\\n    \\nfunc_outer()\\nprint(f\"global: {x=}, {y=}, {z=}\")',\n",
       "  'x = 1\\ny = 1\\nz = 1\\n\\ndef func_outer():\\n    x = 11\\n    y = 22\\n    z = 33\\n    \\n    def func_inner():\\n        x = 111\\n        global y\\n        y = 222\\n        z = 333\\n        print(f\"in: {x=}, {y=}, {z=}\")\\n    func_inner()\\n    print(f\"out: {x=}, {y=}, {z=}\")\\n    \\nfunc_outer()\\nprint(f\"global: {x=}, {y=}, {z=}\")',\n",
       "  'x = 1\\ny = 1\\nz = 1\\n\\ndef func_outer():\\n    x = 11\\n    y = 22\\n    z = 33\\n    \\n    def func_inner():\\n        x = 111\\n        global y\\n        y = 222\\n        nonlocal z\\n        z = 333\\n        print(f\"in: {x=}, {y=}, {z=}\")\\n    func_inner()\\n    print(f\"out: {x=}, {y=}, {z=}\")\\n    \\nfunc_outer()\\nprint(f\"global: {x=}, {y=}, {z=}\")',\n",
       "  'x = 1\\ny = 1\\nz = 1\\n\\ndef func_outer():\\n    x = 11\\n    y = 22\\n    z = 33\\n    \\n    def func_inner():\\n        x = 111\\n        global y\\n        y = 222\\n        nonlocal z\\n        z = 333\\n        print(f\"in: {x=}, {y=}, {z=}\")\\n    func_inner()\\n    print(f\"out: {x=}, {y=}, {z=}\")\\n    \\nfunc_outer()\\nprint(f\"global: {x=}, {y=}, {z=}\")',\n",
       "  'x = 1\\ny = 2\\nz = 3\\n\\ndef func_outer():\\n    x = 11\\n    y = 22\\n    z = 33\\n    \\n    def func_inner():\\n        x = 111\\n        global y\\n        y = 222\\n        nonlocal z\\n        z = 333\\n        print(f\"in: {x=}, {y=}, {z=}\")\\n    func_inner()\\n    print(f\"out: {x=}, {y=}, {z=}\")\\n    \\nfunc_outer()\\nprint(f\"global: {x=}, {y=}, {z=}\")',\n",
       "  'globals()',\n",
       "  'locals()'],\n",
       " '_oh': {8: {...}},\n",
       " '_dh': [WindowsPath('c:/Универ/Современные технологии программирования/питон/mp_2022_224-322_python'),\n",
       "  WindowsPath('c:/Универ/Современные технологии программирования/питон/mp_2022_224-322_python')],\n",
       " 'In': ['',\n",
       "  'x = 1\\ny = 1\\n\\ndef func():\\n    x = 10\\n    y = 10\\n    global z\\n    z = 30\\n    \\nfunc()\\nprint(f\"{x=}, {y=}, {z=}\")',\n",
       "  'x = 1\\ny = 1\\nz = 1\\n\\ndef func_outer():\\n    x = 11\\n    y = 22\\n    z = 33\\n    \\nfunc_outer()\\nprint(f\"global: {x=}, {y=},{z=}\")',\n",
       "  'x = 1\\ny = 1\\nz = 1\\n\\ndef func_outer():\\n    x = 11\\n    y = 22\\n    z = 33\\n    \\n    def func_inner():\\n        x = 111\\n        y = 222\\n        z = 333\\n        print(f\"in: {x=}, {y=}, {z=}\")\\n    func_inner()\\n    print(f\"out: {x=}, {y=}, {z=}\")\\n    \\nfunc_outer()\\nprint(f\"global: {x=}, {y=}, {z=}\")',\n",
       "  'x = 1\\ny = 1\\nz = 1\\n\\ndef func_outer():\\n    x = 11\\n    y = 22\\n    z = 33\\n    \\n    def func_inner():\\n        x = 111\\n        global y\\n        y = 222\\n        z = 333\\n        print(f\"in: {x=}, {y=}, {z=}\")\\n    func_inner()\\n    print(f\"out: {x=}, {y=}, {z=}\")\\n    \\nfunc_outer()\\nprint(f\"global: {x=}, {y=}, {z=}\")',\n",
       "  'x = 1\\ny = 1\\nz = 1\\n\\ndef func_outer():\\n    x = 11\\n    y = 22\\n    z = 33\\n    \\n    def func_inner():\\n        x = 111\\n        global y\\n        y = 222\\n        nonlocal z\\n        z = 333\\n        print(f\"in: {x=}, {y=}, {z=}\")\\n    func_inner()\\n    print(f\"out: {x=}, {y=}, {z=}\")\\n    \\nfunc_outer()\\nprint(f\"global: {x=}, {y=}, {z=}\")',\n",
       "  'x = 1\\ny = 1\\nz = 1\\n\\ndef func_outer():\\n    x = 11\\n    y = 22\\n    z = 33\\n    \\n    def func_inner():\\n        x = 111\\n        global y\\n        y = 222\\n        nonlocal z\\n        z = 333\\n        print(f\"in: {x=}, {y=}, {z=}\")\\n    func_inner()\\n    print(f\"out: {x=}, {y=}, {z=}\")\\n    \\nfunc_outer()\\nprint(f\"global: {x=}, {y=}, {z=}\")',\n",
       "  'x = 1\\ny = 2\\nz = 3\\n\\ndef func_outer():\\n    x = 11\\n    y = 22\\n    z = 33\\n    \\n    def func_inner():\\n        x = 111\\n        global y\\n        y = 222\\n        nonlocal z\\n        z = 333\\n        print(f\"in: {x=}, {y=}, {z=}\")\\n    func_inner()\\n    print(f\"out: {x=}, {y=}, {z=}\")\\n    \\nfunc_outer()\\nprint(f\"global: {x=}, {y=}, {z=}\")',\n",
       "  'globals()',\n",
       "  'locals()'],\n",
       " 'Out': {8: {...}},\n",
       " 'get_ipython': <bound method InteractiveShell.get_ipython of <ipykernel.zmqshell.ZMQInteractiveShell object at 0x000001E24C47CE20>>,\n",
       " 'exit': <IPython.core.autocall.ZMQExitAutocall at 0x1e24c3fdfd0>,\n",
       " 'quit': <IPython.core.autocall.ZMQExitAutocall at 0x1e24c3fdfd0>,\n",
       " '_': {...},\n",
       " '__': '',\n",
       " '___': '',\n",
       " 'os': <module 'os' from 'c:\\\\Users\\\\Admin\\\\AppData\\\\Local\\\\Programs\\\\Python\\\\Python39\\\\lib\\\\os.py'>,\n",
       " 'sys': <module 'sys' (built-in)>,\n",
       " '__vsc_ipynb_file__': 'c:\\\\Универ\\\\Современные технологии программирования\\\\питон\\\\mp_2022_224-322_python\\\\labFuncVariables.ipynb',\n",
       " '_i': 'globals()',\n",
       " '_ii': 'x = 1\\ny = 2\\nz = 3\\n\\ndef func_outer():\\n    x = 11\\n    y = 22\\n    z = 33\\n    \\n    def func_inner():\\n        x = 111\\n        global y\\n        y = 222\\n        nonlocal z\\n        z = 333\\n        print(f\"in: {x=}, {y=}, {z=}\")\\n    func_inner()\\n    print(f\"out: {x=}, {y=}, {z=}\")\\n    \\nfunc_outer()\\nprint(f\"global: {x=}, {y=}, {z=}\")',\n",
       " '_iii': 'x = 1\\ny = 1\\nz = 1\\n\\ndef func_outer():\\n    x = 11\\n    y = 22\\n    z = 33\\n    \\n    def func_inner():\\n        x = 111\\n        global y\\n        y = 222\\n        nonlocal z\\n        z = 333\\n        print(f\"in: {x=}, {y=}, {z=}\")\\n    func_inner()\\n    print(f\"out: {x=}, {y=}, {z=}\")\\n    \\nfunc_outer()\\nprint(f\"global: {x=}, {y=}, {z=}\")',\n",
       " '_i1': 'x = 1\\ny = 1\\n\\ndef func():\\n    x = 10\\n    y = 10\\n    global z\\n    z = 30\\n    \\nfunc()\\nprint(f\"{x=}, {y=}, {z=}\")',\n",
       " 'x': 1,\n",
       " 'y': 222,\n",
       " 'func': <function __main__.func()>,\n",
       " 'z': 3,\n",
       " '_i2': 'x = 1\\ny = 1\\nz = 1\\n\\ndef func_outer():\\n    x = 11\\n    y = 22\\n    z = 33\\n    \\nfunc_outer()\\nprint(f\"global: {x=}, {y=},{z=}\")',\n",
       " 'func_outer': <function __main__.func_outer()>,\n",
       " '_i3': 'x = 1\\ny = 1\\nz = 1\\n\\ndef func_outer():\\n    x = 11\\n    y = 22\\n    z = 33\\n    \\n    def func_inner():\\n        x = 111\\n        y = 222\\n        z = 333\\n        print(f\"in: {x=}, {y=}, {z=}\")\\n    func_inner()\\n    print(f\"out: {x=}, {y=}, {z=}\")\\n    \\nfunc_outer()\\nprint(f\"global: {x=}, {y=}, {z=}\")',\n",
       " '_i4': 'x = 1\\ny = 1\\nz = 1\\n\\ndef func_outer():\\n    x = 11\\n    y = 22\\n    z = 33\\n    \\n    def func_inner():\\n        x = 111\\n        global y\\n        y = 222\\n        z = 333\\n        print(f\"in: {x=}, {y=}, {z=}\")\\n    func_inner()\\n    print(f\"out: {x=}, {y=}, {z=}\")\\n    \\nfunc_outer()\\nprint(f\"global: {x=}, {y=}, {z=}\")',\n",
       " '_i5': 'x = 1\\ny = 1\\nz = 1\\n\\ndef func_outer():\\n    x = 11\\n    y = 22\\n    z = 33\\n    \\n    def func_inner():\\n        x = 111\\n        global y\\n        y = 222\\n        nonlocal z\\n        z = 333\\n        print(f\"in: {x=}, {y=}, {z=}\")\\n    func_inner()\\n    print(f\"out: {x=}, {y=}, {z=}\")\\n    \\nfunc_outer()\\nprint(f\"global: {x=}, {y=}, {z=}\")',\n",
       " '_i6': 'x = 1\\ny = 1\\nz = 1\\n\\ndef func_outer():\\n    x = 11\\n    y = 22\\n    z = 33\\n    \\n    def func_inner():\\n        x = 111\\n        global y\\n        y = 222\\n        nonlocal z\\n        z = 333\\n        print(f\"in: {x=}, {y=}, {z=}\")\\n    func_inner()\\n    print(f\"out: {x=}, {y=}, {z=}\")\\n    \\nfunc_outer()\\nprint(f\"global: {x=}, {y=}, {z=}\")',\n",
       " '_i7': 'x = 1\\ny = 2\\nz = 3\\n\\ndef func_outer():\\n    x = 11\\n    y = 22\\n    z = 33\\n    \\n    def func_inner():\\n        x = 111\\n        global y\\n        y = 222\\n        nonlocal z\\n        z = 333\\n        print(f\"in: {x=}, {y=}, {z=}\")\\n    func_inner()\\n    print(f\"out: {x=}, {y=}, {z=}\")\\n    \\nfunc_outer()\\nprint(f\"global: {x=}, {y=}, {z=}\")',\n",
       " '_i8': 'globals()',\n",
       " '_8': {...},\n",
       " '_i9': 'locals()'}"
      ]
     },
     "execution_count": 9,
     "metadata": {},
     "output_type": "execute_result"
    }
   ],
   "source": [
    "locals()"
   ]
  }
 ],
 "metadata": {
  "kernelspec": {
   "display_name": "Python 3.9.6 64-bit",
   "language": "python",
   "name": "python3"
  },
  "language_info": {
   "codemirror_mode": {
    "name": "ipython",
    "version": 3
   },
   "file_extension": ".py",
   "mimetype": "text/x-python",
   "name": "python",
   "nbconvert_exporter": "python",
   "pygments_lexer": "ipython3",
   "version": "3.9.6"
  },
  "orig_nbformat": 4,
  "vscode": {
   "interpreter": {
    "hash": "0d591c6e422414675974e227c13f5382000c440fedd3c5006ef2be5d887f0ba7"
   }
  }
 },
 "nbformat": 4,
 "nbformat_minor": 2
}
