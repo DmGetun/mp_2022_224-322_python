{
 "cells": [
  {
   "cell_type": "markdown",
   "metadata": {},
   "source": [
    "# Переопределение видимости переменных внутри тела функции"
   ]
  },
  {
   "cell_type": "code",
   "execution_count": 1,
   "metadata": {},
   "outputs": [
    {
     "name": "stdout",
     "output_type": "stream",
     "text": [
      "x=1, y=1, z=30\n"
     ]
    }
   ],
   "source": [
    "x = 1\n",
    "y = 1\n",
    "\n",
    "def func():\n",
    "    global y # обращение к глобальной переменой\n",
    "    x = 10\n",
    "    y = 10\n",
    "    global z # объявление глобальной переменной внутри функции\n",
    "    z = 30\n",
    "    \n",
    "func()\n",
    "print(f\"{x=}, {y=}, {z=}\")"
   ]
  },
  {
   "cell_type": "code",
   "execution_count": 7,
   "metadata": {},
   "outputs": [
    {
     "name": "stdout",
     "output_type": "stream",
     "text": [
      "in: x=111, y=222, z=333\n",
      "out: x=11, y=22, z=333\n",
      "global: x=1, y=222, z=3\n"
     ]
    }
   ],
   "source": [
    "x = 1\n",
    "y = 2\n",
    "z = 3\n",
    "\n",
    "def func_outer():\n",
    "    x = 11\n",
    "    y = 22\n",
    "    z = 33\n",
    "    \n",
    "    def func_inner():\n",
    "        x = 111\n",
    "        global y\n",
    "        y = 222\n",
    "        nonlocal z\n",
    "        z = 333\n",
    "        print(f\"in: {x=}, {y=}, {z=}\")\n",
    "    func_inner()\n",
    "    print(f\"out: {x=}, {y=}, {z=}\")\n",
    "    \n",
    "func_outer()\n",
    "print(f\"global: {x=}, {y=}, {z=}\")"
   ]
  }
 ],
 "metadata": {
  "kernelspec": {
   "display_name": "Python 3.9.6 64-bit",
   "language": "python",
   "name": "python3"
  },
  "language_info": {
   "codemirror_mode": {
    "name": "ipython",
    "version": 3
   },
   "file_extension": ".py",
   "mimetype": "text/x-python",
   "name": "python",
   "nbconvert_exporter": "python",
   "pygments_lexer": "ipython3",
   "version": "3.9.6"
  },
  "orig_nbformat": 4,
  "vscode": {
   "interpreter": {
    "hash": "0d591c6e422414675974e227c13f5382000c440fedd3c5006ef2be5d887f0ba7"
   }
  }
 },
 "nbformat": 4,
 "nbformat_minor": 2
}
