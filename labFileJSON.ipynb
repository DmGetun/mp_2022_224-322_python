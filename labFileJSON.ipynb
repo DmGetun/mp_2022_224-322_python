{
 "cells": [
  {
   "attachments": {},
   "cell_type": "markdown",
   "metadata": {},
   "source": [
    "# Работа с JSON-файлами"
   ]
  },
  {
   "cell_type": "code",
   "execution_count": 11,
   "metadata": {},
   "outputs": [],
   "source": [
    "import json\n",
    "import os"
   ]
  },
  {
   "cell_type": "code",
   "execution_count": 12,
   "metadata": {},
   "outputs": [
    {
     "data": {
      "text/plain": [
       "'temp\\\\temp_example1.json'"
      ]
     },
     "execution_count": 12,
     "metadata": {},
     "output_type": "execute_result"
    }
   ],
   "source": [
    "import os \n",
    "\n",
    "# временный каталог\n",
    "TEMP_DIR = 'temp'\n",
    "\n",
    "if not os.path.exists(TEMP_DIR):\n",
    "    os.mkdir(TEMP_DIR)\n",
    "\n",
    "# Пример использования    \n",
    "os.path.join(TEMP_DIR, \"temp_example1.json\")"
   ]
  },
  {
   "attachments": {},
   "cell_type": "markdown",
   "metadata": {},
   "source": [
    "## Пример 1. Записать в JSON-файл"
   ]
  },
  {
   "cell_type": "code",
   "execution_count": 13,
   "metadata": {},
   "outputs": [
    {
     "name": "stdout",
     "output_type": "stream",
     "text": [
      "['Строка', 100500, 3.14, True, None, [1, 2, 3], {'aaa': 12345, 'bbb': [6, 7, 8, 9, 0]}]\n"
     ]
    }
   ],
   "source": [
    "data = []\n",
    "data.append(\"Строка\")\n",
    "data.append(100500)\n",
    "data.append(3.14)\n",
    "data.append(True)\n",
    "data.append(None)\n",
    "data.append([1, 2, 3])\n",
    "data.append({'aaa': 12345, 'bbb': [6, 7, 8, 9, 0]})\n",
    "print(data)"
   ]
  },
  {
   "cell_type": "code",
   "execution_count": 14,
   "metadata": {},
   "outputs": [
    {
     "data": {
      "text/plain": [
       "'[\"Строка\", 100500, 3.14, true, null, [1, 2, 3], {\"aaa\": 12345, \"bbb\": [6, 7, 8, 9, 0]}]'"
      ]
     },
     "execution_count": 14,
     "metadata": {},
     "output_type": "execute_result"
    }
   ],
   "source": [
    "data_json = json.dumps(data, ensure_ascii=False)\n",
    "data_json"
   ]
  },
  {
   "cell_type": "code",
   "execution_count": 15,
   "metadata": {},
   "outputs": [],
   "source": [
    "# (1)\n",
    "with open(os.path.join(TEMP_DIR, \"temp_example1.json\"), 'w') as f:\n",
    "    f.write(data_json)"
   ]
  },
  {
   "cell_type": "code",
   "execution_count": 16,
   "metadata": {},
   "outputs": [],
   "source": [
    "# (2)\n",
    "with open(os.path.join(TEMP_DIR, \"temp_example2.json\"), 'w') as f:\n",
    "    json.dump(data, f, ensure_ascii=False)"
   ]
  },
  {
   "cell_type": "code",
   "execution_count": 19,
   "metadata": {},
   "outputs": [
    {
     "name": "stdout",
     "output_type": "stream",
     "text": [
      "[\n",
      "    \"Строка\",\n",
      "    100500,\n",
      "    3.14,\n",
      "    true,\n",
      "    null,\n",
      "    [\n",
      "        1,\n",
      "        2,\n",
      "        3\n",
      "    ],\n",
      "    {\n",
      "        \"aaa\": 12345,\n",
      "        \"bbb\": [\n",
      "            6,\n",
      "            7,\n",
      "            8,\n",
      "            9,\n",
      "            0\n",
      "        ]\n",
      "    }\n",
      "]\n"
     ]
    }
   ],
   "source": [
    "data_json = json.dumps(data, ensure_ascii=False, indent=4)\n",
    "print(data_json)"
   ]
  },
  {
   "attachments": {},
   "cell_type": "markdown",
   "metadata": {},
   "source": [
    "## Пример 1: Прочитать из JSON-файла"
   ]
  },
  {
   "cell_type": "code",
   "execution_count": 17,
   "metadata": {},
   "outputs": [
    {
     "name": "stdout",
     "output_type": "stream",
     "text": [
      "['Строка', 100500, 3.14, True, None, [1, 2, 3], {'aaa': 12345, 'bbb': [6, 7, 8, 9, 0]}]\n"
     ]
    }
   ],
   "source": [
    "with open(os.path.join(TEMP_DIR, \"temp_example1.json\")) as f:\n",
    "    v = json.load(f)\n",
    "print(v)"
   ]
  },
  {
   "attachments": {},
   "cell_type": "markdown",
   "metadata": {},
   "source": [
    "## Пример 2: Записать в JSON-файл"
   ]
  },
  {
   "cell_type": "code",
   "execution_count": 20,
   "metadata": {},
   "outputs": [],
   "source": [
    "capitals = {\n",
    "    \"Россия\": \"Москва\",\n",
    "    \"Беларусь\": \"Минск\",\n",
    "    \"Сербия\": \"Белград\",\n",
    "    \"Казахстан\": \"Нур-Султан\"\n",
    "}"
   ]
  },
  {
   "cell_type": "code",
   "execution_count": 21,
   "metadata": {},
   "outputs": [],
   "source": [
    "\n",
    "with open(os.path.join(TEMP_DIR, \"temp_capitals.json\"), 'w') as f:\n",
    "    json.dump(capitals, f, ensure_ascii=False, indent=4)"
   ]
  },
  {
   "attachments": {},
   "cell_type": "markdown",
   "metadata": {},
   "source": [
    "## Пример 2: прочитать из JSON-файла"
   ]
  },
  {
   "cell_type": "code",
   "execution_count": 23,
   "metadata": {},
   "outputs": [
    {
     "name": "stdout",
     "output_type": "stream",
     "text": [
      "{'Россия': 'Москва', 'Беларусь': 'Минск', 'Сербия': 'Белград', 'Казахстан': 'Нур-Султан'}\n",
      "Москва\n"
     ]
    }
   ],
   "source": [
    "\n",
    "with open(os.path.join(TEMP_DIR, \"temp_capitals.json\")) as f:\n",
    "    d = json.load(f)\n",
    "print(d)\n",
    "print(d['Россия'])"
   ]
  }
 ],
 "metadata": {
  "kernelspec": {
   "display_name": "Python 3",
   "language": "python",
   "name": "python3"
  },
  "language_info": {
   "codemirror_mode": {
    "name": "ipython",
    "version": 3
   },
   "file_extension": ".py",
   "mimetype": "text/x-python",
   "name": "python",
   "nbconvert_exporter": "python",
   "pygments_lexer": "ipython3",
   "version": "3.9.6"
  },
  "orig_nbformat": 4,
  "vscode": {
   "interpreter": {
    "hash": "0d591c6e422414675974e227c13f5382000c440fedd3c5006ef2be5d887f0ba7"
   }
  }
 },
 "nbformat": 4,
 "nbformat_minor": 2
}
