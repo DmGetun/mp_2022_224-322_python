{
 "cells": [
  {
   "cell_type": "markdown",
   "metadata": {},
   "source": [
    "# Форматирование строк\n",
    "\n",
    "* Конкатенация строк\n",
    "* Строковые методы format\n",
    "* %-форматирование\n",
    "* f-строки\n",
    "* Template-строки"
   ]
  },
  {
   "cell_type": "markdown",
   "metadata": {},
   "source": [
    "## Конкатенация строк"
   ]
  },
  {
   "cell_type": "code",
   "execution_count": 2,
   "metadata": {},
   "outputs": [
    {
     "name": "stdout",
     "output_type": "stream",
     "text": [
      "Привет, меня зовут Миша. Мне 15 лет.\n"
     ]
    }
   ],
   "source": [
    "print('Привет, меня зовут ' + \"Миша\" + '. Мне ' + str(15) + \" лет.\")"
   ]
  },
  {
   "cell_type": "markdown",
   "metadata": {},
   "source": [
    "## Строковый метод format"
   ]
  },
  {
   "cell_type": "code",
   "execution_count": 7,
   "metadata": {},
   "outputs": [
    {
     "name": "stdout",
     "output_type": "stream",
     "text": [
      "Привет, Катя!\n",
      "Привет, меня зовут Катя. Мне 19 лет.\n",
      "Привет, меня зовут Катя, Катя. Мне 19 лет.\n",
      "pi = 3.14\n",
      "pi = 3.14\n",
      "Буквы: e, w, q\n"
     ]
    }
   ],
   "source": [
    "print(\"Привет, {}!\".format(\"Катя\"))\n",
    "print('Привет, меня зовут {}. Мне {} лет.'.format(\"Катя\",19))\n",
    "print('Привет, меня зовут {0}, {0}. Мне {1} лет.'.format(\"Катя\",19))\n",
    "print(\"{} = {}\".format('pi',3.14))\n",
    "print(\"{var} = {value}\".format(var='pi',value=3.14))\n",
    "print(\"Буквы: {2}, {1}, {0}\".format(*\"qwerty\"))"
   ]
  },
  {
   "cell_type": "markdown",
   "metadata": {},
   "source": [
    "## % - форматирование"
   ]
  },
  {
   "cell_type": "code",
   "execution_count": 14,
   "metadata": {},
   "outputs": [
    {
     "name": "stdout",
     "output_type": "stream",
     "text": [
      "col_12345\n",
      "Автобус № 35\n",
      "   25\n",
      "25   \n",
      "pi = 3.141500\n",
      "pi = 3.1415\n",
      "pi = 3.142\n"
     ]
    }
   ],
   "source": [
    "# Синтаксис: %[(флаг)][ширина][.точность]тип\n",
    "\n",
    "# %d, %i, %u - десятичное число\n",
    "# %f - число с плавающей точкой\n",
    "# %s - строка\n",
    "\n",
    "print(\"col_%d\" % 12345)\n",
    "print(\"%s № %d\" % ('Автобус',35))\n",
    "\n",
    "# Ширина (выравнивание)\n",
    "print(\"%5d\" % 25)\n",
    "print(\"%-5d\" % 25)\n",
    "\n",
    "# Точность (математические округление)\n",
    "print(\"pi = %f\" % 3.1415)\n",
    "print(\"pi = %.4f\" % 3.1415)\n",
    "print(\"pi = %.3f\" % 3.1415)"
   ]
  },
  {
   "cell_type": "markdown",
   "metadata": {},
   "source": [
    "## f-строки (интерполированные строки)"
   ]
  },
  {
   "cell_type": "code",
   "execution_count": 18,
   "metadata": {},
   "outputs": [
    {
     "name": "stdout",
     "output_type": "stream",
     "text": [
      "Я - Ваня\n",
      "4\n"
     ]
    }
   ],
   "source": [
    "name = 'Ваня'\n",
    "print(f'Я - {name}')\n",
    "\n",
    "a = 2\n",
    "b = 4\n",
    "print(f'{a if a > b else b}')"
   ]
  },
  {
   "cell_type": "markdown",
   "metadata": {},
   "source": [
    "## f-строки совместимы с Mini-Language"
   ]
  },
  {
   "cell_type": "code",
   "execution_count": 22,
   "metadata": {},
   "outputs": [
    {
     "name": "stdout",
     "output_type": "stream",
     "text": [
      "Привет\n",
      "       Привет       \n",
      "              Привет\n",
      "Привет              \n",
      "_______Привет_______\n",
      "______________Привет\n",
      "Привет______________\n"
     ]
    }
   ],
   "source": [
    "# выравнивание\n",
    "print(f'{\"Привет\"}')\n",
    "print(f'{\"Привет\":^20}')\n",
    "print(f'{\"Привет\":>20}')\n",
    "print(f'{\"Привет\":<20}')\n",
    "print(f'{\"Привет\":_^20}')\n",
    "print(f'{\"Привет\":_>20}')\n",
    "print(f'{\"Привет\":_<20}')"
   ]
  },
  {
   "cell_type": "code",
   "execution_count": 28,
   "metadata": {},
   "outputs": [
    {
     "name": "stdout",
     "output_type": "stream",
     "text": [
      "11111111\n",
      "0b11111111\n",
      "ff\n",
      "0xff\n",
      "377\n",
      "0o377\n"
     ]
    }
   ],
   "source": [
    "# Двоичная система счисления\n",
    "print(f'{255:b}')\n",
    "print(f'{255:#b}')\n",
    "# Шестнадцатеричная система счисления\n",
    "print(f'{255:x}')\n",
    "print(f'{255:#x}')\n",
    "# Восьмеричная система счисления\n",
    "print(f'{255:o}')\n",
    "print(f'{255:#o}')"
   ]
  },
  {
   "cell_type": "code",
   "execution_count": 33,
   "metadata": {},
   "outputs": [
    {
     "name": "stdout",
     "output_type": "stream",
     "text": [
      "00255\n",
      "00255\n",
      "__255\n",
      "1_234_567\n"
     ]
    }
   ],
   "source": [
    "# Ведущие нули\n",
    "print(f\"{255:05}\")\n",
    "print(f\"{255:0=5}\")\n",
    "print(f\"{255:_=5}\")\n",
    "\n",
    "# Тысячный разделитель\n",
    "print(f\"{1234567:_}\")"
   ]
  },
  {
   "cell_type": "markdown",
   "metadata": {},
   "source": [
    "## Template - строки"
   ]
  },
  {
   "cell_type": "code",
   "execution_count": 36,
   "metadata": {},
   "outputs": [
    {
     "name": "stdout",
     "output_type": "stream",
     "text": [
      "Меня зовут Сергей. Мне 19 лет.\n"
     ]
    }
   ],
   "source": [
    "from string import Template\n",
    "\n",
    "name = \"Сергей\"\n",
    "age = 19\n",
    "v = Template(\"Меня зовут $name. Мне $age лет.\")\n",
    "print(v.substitute(name=name,age=age))"
   ]
  },
  {
   "cell_type": "markdown",
   "metadata": {},
   "source": [
    "# HW:\n",
    "\n",
    "- придумать свои примеры\n",
    "- примеры с Mini-Language"
   ]
  }
 ],
 "metadata": {
  "kernelspec": {
   "display_name": "Python 3.9.6 64-bit",
   "language": "python",
   "name": "python3"
  },
  "language_info": {
   "codemirror_mode": {
    "name": "ipython",
    "version": 3
   },
   "file_extension": ".py",
   "mimetype": "text/x-python",
   "name": "python",
   "nbconvert_exporter": "python",
   "pygments_lexer": "ipython3",
   "version": "3.9.6"
  },
  "orig_nbformat": 4,
  "vscode": {
   "interpreter": {
    "hash": "0d591c6e422414675974e227c13f5382000c440fedd3c5006ef2be5d887f0ba7"
   }
  }
 },
 "nbformat": 4,
 "nbformat_minor": 2
}
