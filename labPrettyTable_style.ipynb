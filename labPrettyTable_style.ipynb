{
 "cells": [
  {
   "cell_type": "markdown",
   "metadata": {},
   "source": [
    "# Настройка стилей в PrettyTable"
   ]
  },
  {
   "cell_type": "code",
   "execution_count": 1,
   "metadata": {},
   "outputs": [],
   "source": [
    "from prettytable import PrettyTable"
   ]
  },
  {
   "cell_type": "code",
   "execution_count": 3,
   "metadata": {},
   "outputs": [
    {
     "name": "stdout",
     "output_type": "stream",
     "text": [
      "+---------+------+---------+--------+\n",
      "| Фамилия | Имя  | Возраст |   ЗП   |\n",
      "+---------+------+---------+--------+\n",
      "|  Иванов | Иван |    19   | 50000  |\n",
      "|  Петров | Пётр |    27   | 120000 |\n",
      "| Сидоров |  Ян  |    16   |  100   |\n",
      "+---------+------+---------+--------+\n"
     ]
    }
   ],
   "source": [
    "# (2) Добавление всех данных сразу\n",
    "ta = PrettyTable()\n",
    "# поля\n",
    "ta.field_names = [\"Фамилия\",\"Имя\",\"Возраст\",\"ЗП\"]\n",
    "# Данные\n",
    "ta.add_rows(\n",
    "    [\n",
    "        [\"Иванов\",\"Иван\",19,50000],\n",
    "        [\"Петров\",\"Пётр\",27,120000],\n",
    "        [\"Сидоров\",\"Ян\",16,100]\n",
    "    ])\n",
    "# печать\n",
    "print(ta)"
   ]
  },
  {
   "cell_type": "markdown",
   "metadata": {},
   "source": [
    "## Изменение рамки таблицы"
   ]
  },
  {
   "cell_type": "code",
   "execution_count": 5,
   "metadata": {},
   "outputs": [],
   "source": [
    "import prettytable"
   ]
  },
  {
   "cell_type": "code",
   "execution_count": 13,
   "metadata": {},
   "outputs": [
    {
     "name": "stdout",
     "output_type": "stream",
     "text": [
      "| Фамилия | Имя  | Возраст |   ЗП   |\n",
      "|  Иванов | Иван |    19   | 50000  |\n",
      "|  Петров | Пётр |    27   | 120000 |\n",
      "| Сидоров |  Ян  |    16   |  100   |\n"
     ]
    }
   ],
   "source": [
    "ta.set_style(prettytable.MSWORD_FRIENDLY)\n",
    "print(ta)"
   ]
  },
  {
   "cell_type": "code",
   "execution_count": 7,
   "metadata": {},
   "outputs": [
    {
     "name": "stdout",
     "output_type": "stream",
     "text": [
      "Фамилия        Имя         Возраст          ЗП          \n",
      " Иванов        Иван           19          50000         \n",
      " Петров        Пётр           27          120000        \n",
      "Сидоров         Ян            16           100          \n"
     ]
    }
   ],
   "source": [
    "ta.set_style(prettytable.PLAIN_COLUMNS)\n",
    "print(ta)"
   ]
  },
  {
   "cell_type": "code",
   "execution_count": 15,
   "metadata": {},
   "outputs": [
    {
     "name": "stdout",
     "output_type": "stream",
     "text": [
      "| Фамилия | Имя  | Возраст |   ЗП   |\n",
      "|:-------:|:----:|:-------:|:------:|\n",
      "|  Иванов | Иван |    19   | 50000  |\n",
      "|  Петров | Пётр |    27   | 120000 |\n",
      "| Сидоров |  Ян  |    16   |  100   |\n"
     ]
    }
   ],
   "source": [
    "ta.set_style(prettytable.MARKDOWN)\n",
    "print(ta)"
   ]
  },
  {
   "cell_type": "code",
   "execution_count": 18,
   "metadata": {},
   "outputs": [
    {
     "name": "stdout",
     "output_type": "stream",
     "text": [
      "╔═════════╦══════╦═════════╦════════╗\n",
      "║ Фамилия ║ Имя  ║ Возраст ║   ЗП   ║\n",
      "╠═════════╬══════╬═════════╬════════╣\n",
      "║  Иванов ║ Иван ║    19   ║ 50000  ║\n",
      "║  Петров ║ Пётр ║    27   ║ 120000 ║\n",
      "║ Сидоров ║  Ян  ║    16   ║  100   ║\n",
      "╚═════════╩══════╩═════════╩════════╝\n"
     ]
    }
   ],
   "source": [
    "ta.set_style(prettytable.DOUBLE_BORDER)\n",
    "print(ta)"
   ]
  },
  {
   "cell_type": "code",
   "execution_count": 19,
   "metadata": {},
   "outputs": [
    {
     "name": "stdout",
     "output_type": "stream",
     "text": [
      "+---------+------+---------+--------+\n",
      "| Фамилия | Имя  | Возраст |   ЗП   |\n",
      "+---------+------+---------+--------+\n",
      "|  Иванов | Иван |    19   | 50000  |\n",
      "|  Петров | Пётр |    27   | 120000 |\n",
      "| Сидоров |  Ян  |    16   |  100   |\n",
      "+---------+------+---------+--------+\n"
     ]
    }
   ],
   "source": [
    "ta.set_style(prettytable.DEFAULT)\n",
    "print(ta)"
   ]
  },
  {
   "cell_type": "markdown",
   "metadata": {},
   "source": [
    "## Тонкая настройка рамки таблицы"
   ]
  },
  {
   "cell_type": "code",
   "execution_count": 21,
   "metadata": {},
   "outputs": [
    {
     "name": "stdout",
     "output_type": "stream",
     "text": [
      " Фамилия  Имя   Возраст    ЗП   \n",
      "  Иванов  Иван     19    50000  \n",
      "  Петров  Пётр     27    120000 \n",
      " Сидоров   Ян      16     100   \n"
     ]
    }
   ],
   "source": [
    "ta.border = False\n",
    "print(ta)"
   ]
  },
  {
   "cell_type": "code",
   "execution_count": 23,
   "metadata": {},
   "outputs": [
    {
     "name": "stdout",
     "output_type": "stream",
     "text": [
      "+---------+------+---------+--------+\n",
      "| Фамилия | Имя  | Возраст |   ЗП   |\n",
      "+---------+------+---------+--------+\n",
      "|  Иванов | Иван |    19   | 50000  |\n",
      "|  Петров | Пётр |    27   | 120000 |\n",
      "| Сидоров |  Ян  |    16   |  100   |\n",
      "+---------+------+---------+--------+\n"
     ]
    }
   ],
   "source": [
    "ta.border = False\n",
    "print(ta.get_string(border=True))"
   ]
  },
  {
   "cell_type": "code",
   "execution_count": 27,
   "metadata": {},
   "outputs": [
    {
     "name": "stdout",
     "output_type": "stream",
     "text": [
      "+$$$$$$$$$$$$$$$$$$$$$$$$$$$$$$$$$$$+\n",
      "$ Фамилия $ Имя  $ Возраст $   ЗП   $\n",
      "+$$$$$$$$$+$$$$$$+$$$$$$$$$+$$$$$$$$+\n",
      "$  Иванов $ Иван $    19   $ 50000  $\n",
      "$  Петров $ Пётр $    27   $ 120000 $\n",
      "$ Сидоров $  Ян  $    16   $  100   $\n",
      "+$$$$$$$$$$$$$$$$$$$$$$$$$$$$$$$$$$$+\n"
     ]
    }
   ],
   "source": [
    "ta.set_style(prettytable.DEFAULT)\n",
    "ta.top_junction_char = '$'\n",
    "ta.bottom_junction_char = '$'\n",
    "ta.horizontal_char = '$'\n",
    "ta.vertical_char = '$'\n",
    "print(ta)"
   ]
  },
  {
   "cell_type": "markdown",
   "metadata": {},
   "source": [
    "# HW:\n",
    "- сделать одиночную рамку, двойную рамку и тп."
   ]
  }
 ],
 "metadata": {
  "kernelspec": {
   "display_name": "Python 3.9.6 64-bit",
   "language": "python",
   "name": "python3"
  },
  "language_info": {
   "codemirror_mode": {
    "name": "ipython",
    "version": 3
   },
   "file_extension": ".py",
   "mimetype": "text/x-python",
   "name": "python",
   "nbconvert_exporter": "python",
   "pygments_lexer": "ipython3",
   "version": "3.9.6"
  },
  "orig_nbformat": 4,
  "vscode": {
   "interpreter": {
    "hash": "0d591c6e422414675974e227c13f5382000c440fedd3c5006ef2be5d887f0ba7"
   }
  }
 },
 "nbformat": 4,
 "nbformat_minor": 2
}
