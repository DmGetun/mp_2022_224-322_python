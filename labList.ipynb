{
 "cells": [
  {
   "cell_type": "markdown",
   "metadata": {},
   "source": [
    "# Список (list)\n",
    "\n",
    "Список (list) - упорядоченная изменяемая структура данных для хранения любых объектов\n",
    "\n",
    "* Список это не массив\n",
    "* [...]\n",
    "* list[start:stop:step]\n",
    "\n",
    "Смотри еще:\n",
    "* [Кортеж (tuple)](labTuple.ipynb)\n",
    "* [Генератор списков](labListGen.ipynb)"
   ]
  },
  {
   "cell_type": "markdown",
   "metadata": {},
   "source": [
    "## Создать список"
   ]
  },
  {
   "cell_type": "code",
   "execution_count": 1,
   "metadata": {},
   "outputs": [
    {
     "data": {
      "text/plain": [
       "[1, 2, 'Привет', 3.14]"
      ]
     },
     "execution_count": 1,
     "metadata": {},
     "output_type": "execute_result"
    }
   ],
   "source": [
    "v = [1, 2, \"Привет\", 3.14]\n",
    "v"
   ]
  },
  {
   "cell_type": "code",
   "execution_count": 3,
   "metadata": {},
   "outputs": [
    {
     "data": {
      "text/plain": [
       "list"
      ]
     },
     "execution_count": 3,
     "metadata": {},
     "output_type": "execute_result"
    }
   ],
   "source": [
    "type(v)"
   ]
  },
  {
   "cell_type": "code",
   "execution_count": 6,
   "metadata": {},
   "outputs": [
    {
     "data": {
      "text/plain": [
       "['q', 'w', 'e', 'r', 't', 'y']"
      ]
     },
     "execution_count": 6,
     "metadata": {},
     "output_type": "execute_result"
    }
   ],
   "source": [
    "v = list(\"qwerty\")\n",
    "v"
   ]
  },
  {
   "cell_type": "code",
   "execution_count": 9,
   "metadata": {},
   "outputs": [
    {
     "data": {
      "text/plain": [
       "['Минск', 'Гомель', 'Брест']"
      ]
     },
     "execution_count": 9,
     "metadata": {},
     "output_type": "execute_result"
    }
   ],
   "source": [
    "# Создать список из строки по разделителю\n",
    "cities = \"Минск, Гомель, Брест\".split(', ')\n",
    "cities"
   ]
  },
  {
   "cell_type": "code",
   "execution_count": 10,
   "metadata": {},
   "outputs": [
    {
     "data": {
      "text/plain": [
       "'Минск, Гомель, Брест'"
      ]
     },
     "execution_count": 10,
     "metadata": {},
     "output_type": "execute_result"
    }
   ],
   "source": [
    "# ... создать строку из списка с разделителем\n",
    "\n",
    "st = ', '.join(cities)\n",
    "st"
   ]
  },
  {
   "cell_type": "markdown",
   "metadata": {},
   "source": [
    "## Проверить вхождение элементов в список"
   ]
  },
  {
   "cell_type": "code",
   "execution_count": 14,
   "metadata": {},
   "outputs": [
    {
     "name": "stdout",
     "output_type": "stream",
     "text": [
      "[0, 1, 2, 3, 4]\n",
      "True\n",
      "False\n",
      "True\n"
     ]
    }
   ],
   "source": [
    "v = list(range(5))\n",
    "print(v)\n",
    "print(4 in v)\n",
    "print(5 in v)\n",
    "print(5 not in v)\n"
   ]
  },
  {
   "cell_type": "markdown",
   "metadata": {},
   "source": [
    "## Получить элементы списка"
   ]
  },
  {
   "cell_type": "code",
   "execution_count": 15,
   "metadata": {},
   "outputs": [
    {
     "data": {
      "text/plain": [
       "['Моква', 'Воронеж', 'Тула', 'Курск']"
      ]
     },
     "execution_count": 15,
     "metadata": {},
     "output_type": "execute_result"
    }
   ],
   "source": [
    "cities = ['Моква', 'Воронеж', 'Тула','Курск']\n",
    "cities"
   ]
  },
  {
   "cell_type": "code",
   "execution_count": 16,
   "metadata": {},
   "outputs": [
    {
     "name": "stdout",
     "output_type": "stream",
     "text": [
      "Моква\n",
      "Воронеж\n",
      "Курск\n",
      "Тула\n"
     ]
    }
   ],
   "source": [
    "print(cities[0])\n",
    "print(cities[1])\n",
    "print(cities[-1])\n",
    "print(cities[-2])"
   ]
  },
  {
   "cell_type": "markdown",
   "metadata": {},
   "source": [
    "## Итерировать список"
   ]
  },
  {
   "cell_type": "code",
   "execution_count": 17,
   "metadata": {},
   "outputs": [
    {
     "name": "stdout",
     "output_type": "stream",
     "text": [
      "Моква\n",
      "Воронеж\n",
      "Тула\n",
      "Курск\n"
     ]
    }
   ],
   "source": [
    "for city in cities:\n",
    "    print(city)"
   ]
  },
  {
   "cell_type": "code",
   "execution_count": 18,
   "metadata": {},
   "outputs": [
    {
     "name": "stdout",
     "output_type": "stream",
     "text": [
      "Город: Моква\n",
      "Город: Воронеж\n",
      "Город: Тула\n",
      "Город: Курск\n"
     ]
    }
   ],
   "source": [
    "for city in cities:\n",
    "    print(f\"Город: {city}\")"
   ]
  },
  {
   "cell_type": "code",
   "execution_count": 20,
   "metadata": {},
   "outputs": [
    {
     "name": "stdout",
     "output_type": "stream",
     "text": [
      "Город 1: Моква\n",
      "Город 2: Воронеж\n",
      "Город 3: Тула\n",
      "Город 4: Курск\n"
     ]
    }
   ],
   "source": [
    "for index, city in enumerate(cities):\n",
    "    print(f\"Город {index}: {city}\")"
   ]
  },
  {
   "cell_type": "code",
   "execution_count": 21,
   "metadata": {},
   "outputs": [
    {
     "name": "stdout",
     "output_type": "stream",
     "text": [
      "Город 1: Моква\n",
      "Город 2: Воронеж\n",
      "Город 3: Тула\n",
      "Город 4: Курск\n"
     ]
    }
   ],
   "source": [
    "for index, city in enumerate(cities):\n",
    "    print(f\"Город {index + 1}: {city}\")"
   ]
  },
  {
   "cell_type": "code",
   "execution_count": 25,
   "metadata": {},
   "outputs": [
    {
     "name": "stdout",
     "output_type": "stream",
     "text": [
      "Город 1: Моква\n",
      "Город 2: Воронеж\n",
      "Город 3: Тула\n",
      "Город 4: Курск\n"
     ]
    }
   ],
   "source": [
    "for index, city in enumerate(cities, start=1):\n",
    "    print(f\"Город {index}: {city}\")"
   ]
  },
  {
   "cell_type": "markdown",
   "metadata": {},
   "source": [
    "## Срезы"
   ]
  },
  {
   "cell_type": "code",
   "execution_count": 36,
   "metadata": {},
   "outputs": [
    {
     "name": "stdout",
     "output_type": "stream",
     "text": [
      "[10, 11, 12, 13, 14, 15, 16, 17, 18, 19]\n",
      "[10, 11]\n",
      "[10, 12, 14, 16, 18]\n",
      "[19, 18, 17, 16, 15, 14, 13, 12, 11, 10]\n"
     ]
    }
   ],
   "source": [
    "# list[start:stop]\n",
    "# list[start:stop:step]\n",
    "numbers = list(range(10,20))\n",
    "print(numbers)\n",
    "print(numbers[0:2])\n",
    "print(numbers[::2])\n",
    "print(numbers[::-1])\n"
   ]
  },
  {
   "cell_type": "code",
   "execution_count": 39,
   "metadata": {},
   "outputs": [
    {
     "name": "stdout",
     "output_type": "stream",
     "text": [
      "[10, 11, 12, 13, 14, 15, 16, 17, 18, 19]\n",
      "[10, -1, 12]\n"
     ]
    }
   ],
   "source": [
    "a = list(range(10,20))\n",
    "b = a[:3]\n",
    "b[1] = -1\n",
    "print(a)\n",
    "print(b)\n",
    "# вывод: срезы в списках создают копию данных"
   ]
  },
  {
   "cell_type": "markdown",
   "metadata": {},
   "source": [
    "## Изменить список"
   ]
  },
  {
   "cell_type": "code",
   "execution_count": 44,
   "metadata": {},
   "outputs": [
    {
     "name": "stdout",
     "output_type": "stream",
     "text": [
      "['Москва', 'Воронеж', 'Тверь', 'Курск']\n",
      "['Москва', 'Воронеж', 'Тверь', 'Курск', 'Севастополь']\n",
      "['Москва', 'Ялта', 'Воронеж', 'Тверь', 'Курск', 'Севастополь']\n",
      "['Москва', 'Ялта', 'Воронеж', 'Курск', 'Севастополь']\n",
      "['Москва', 'Ялта', 'Курск', 'Севастополь']\n"
     ]
    }
   ],
   "source": [
    "cities = \"Москва, Воронеж, Тверь, Курск\".split(', ')\n",
    "print(cities)\n",
    "\n",
    "cities.append(\"Севастополь\")\n",
    "print(cities)\n",
    "cities.insert(1,'Ялта')\n",
    "print(cities)\n",
    "cities.remove('Тверь')\n",
    "print(cities)\n",
    "cities.pop(2)\n",
    "print(cities)"
   ]
  },
  {
   "cell_type": "code",
   "execution_count": 49,
   "metadata": {},
   "outputs": [
    {
     "name": "stdout",
     "output_type": "stream",
     "text": [
      "['Москва', 'Воронеж', 'Тверь', 'Курск']\n",
      "['Воронеж', 'Тверь', 'Курск']\n",
      "['Воронеж', 'Тверь']\n",
      "[] <-- cities.clear()\n"
     ]
    }
   ],
   "source": [
    "cities = \"Москва, Воронеж, Тверь, Курск\".split(', ')\n",
    "print(cities)\n",
    "\n",
    "del cities[0]\n",
    "print(cities)\n",
    "del cities[2:4]\n",
    "print(cities)\n",
    "cities.clear()\n",
    "print(cities, \"<-- cities.clear()\")\n"
   ]
  },
  {
   "cell_type": "code",
   "execution_count": 56,
   "metadata": {},
   "outputs": [
    {
     "name": "stdout",
     "output_type": "stream",
     "text": [
      "[10, 11, 12, 13, 14, 15, 16, 17, 18, 19]\n",
      "[10, -1, -2, -3, 14, 15, 16, 17, 18, 19]\n"
     ]
    }
   ],
   "source": [
    "# Редактировать несколько элементов через срез\n",
    "v = list(range(10,20))\n",
    "print(v)\n",
    "v[1:4] = [-1,-2,-3]\n",
    "print(v)\n",
    "# v[1:4] = 0 <-- так нельзя, но в NumPy это можно"
   ]
  },
  {
   "cell_type": "markdown",
   "metadata": {},
   "source": [
    "# Методы списка"
   ]
  },
  {
   "cell_type": "code",
   "execution_count": 65,
   "metadata": {},
   "outputs": [
    {
     "name": "stdout",
     "output_type": "stream",
     "text": [
      "[0, 1, 2, 3, 4, 5, 6, 7, 8, 9]\n",
      "[9, 8, 7, 6, 5, 4, 3, 2, 1, 0]\n",
      "[0, 1, 2, 3, 4, 5, 6, 7, 8, 9]\n",
      "[0, 1, 2, 3, 4, 5, 6, 7, 8, 9, 20, 21, 22, 23, 24, 20, 21, 22, 23, 24]\n",
      "10\n",
      "2\n"
     ]
    }
   ],
   "source": [
    "numbers = list(range(10))\n",
    "print(numbers)\n",
    "numbers.reverse()\n",
    "print(numbers)\n",
    "numbers.sort()\n",
    "print(numbers)\n",
    "numbers.extend(range(20,25))\n",
    "numbers.extend(range(20,25))\n",
    "print(numbers)\n",
    "\n",
    "print(numbers.index(20))\n",
    "print(numbers.count(20))"
   ]
  }
 ],
 "metadata": {
  "kernelspec": {
   "display_name": "Python 3.9.6 64-bit",
   "language": "python",
   "name": "python3"
  },
  "language_info": {
   "codemirror_mode": {
    "name": "ipython",
    "version": 3
   },
   "file_extension": ".py",
   "mimetype": "text/x-python",
   "name": "python",
   "nbconvert_exporter": "python",
   "pygments_lexer": "ipython3",
   "version": "3.9.6 (tags/v3.9.6:db3ff76, Jun 28 2021, 15:26:21) [MSC v.1929 64 bit (AMD64)]"
  },
  "orig_nbformat": 4,
  "vscode": {
   "interpreter": {
    "hash": "0d591c6e422414675974e227c13f5382000c440fedd3c5006ef2be5d887f0ba7"
   }
  }
 },
 "nbformat": 4,
 "nbformat_minor": 2
}
