{
 "cells": [
  {
   "attachments": {},
   "cell_type": "markdown",
   "metadata": {},
   "source": [
    "# Работа с CSV-файлами\n",
    "\n",
    "Типы текстовых форматов CSV файлов:\n",
    "* CSV - разделить запятые\n",
    "* TSV - разделитель табуляция\n",
    "* SCSV - разделитель точка с запятой\n",
    "* разделитель может быть любой"
   ]
  },
  {
   "cell_type": "code",
   "execution_count": 3,
   "metadata": {},
   "outputs": [],
   "source": [
    "import csv"
   ]
  },
  {
   "cell_type": "code",
   "execution_count": 4,
   "metadata": {},
   "outputs": [
    {
     "data": {
      "text/plain": [
       "'temp\\\\temp_CSV.csv'"
      ]
     },
     "execution_count": 4,
     "metadata": {},
     "output_type": "execute_result"
    }
   ],
   "source": [
    "import os \n",
    "\n",
    "# временный каталог\n",
    "TEMP_DIR = 'temp'\n",
    "\n",
    "if not os.path.exists(TEMP_DIR):\n",
    "    os.mkdir(TEMP_DIR)\n",
    "\n",
    "# Пример использования    \n",
    "os.path.join(TEMP_DIR, \"temp_CSV.csv\")"
   ]
  },
  {
   "attachments": {},
   "cell_type": "markdown",
   "metadata": {},
   "source": [
    "## Запись в CSV-файл"
   ]
  },
  {
   "cell_type": "code",
   "execution_count": 5,
   "metadata": {},
   "outputs": [
    {
     "data": {
      "text/plain": [
       "[['Фамилия', 'Имя', 'Возраст'], ['Иванов', 'Иван', 25], ['Петров', 'Петя', 18]]"
      ]
     },
     "execution_count": 5,
     "metadata": {},
     "output_type": "execute_result"
    }
   ],
   "source": [
    "my_data = [\n",
    "    [\"Фамилия\", \"Имя\", \"Возраст\"],\n",
    "    [\"Иванов\", \"Иван\", 25],\n",
    "    [\"Петров\", \"Петя\", 18]\n",
    "]\n",
    "my_data"
   ]
  },
  {
   "cell_type": "code",
   "execution_count": 7,
   "metadata": {},
   "outputs": [],
   "source": [
    "with open(os.path.join(TEMP_DIR, \"temp_CSV.csv\"),'w') as f:\n",
    "    writer = csv.writer(f,lineterminator='\\n')\n",
    "    writer.writerows(my_data)"
   ]
  },
  {
   "cell_type": "code",
   "execution_count": 8,
   "metadata": {},
   "outputs": [],
   "source": [
    "with open(os.path.join(TEMP_DIR, \"temp_CSV_utf8.csv\"), mode='w', encoding='utf-8') as f:\n",
    "    writer = csv.writer(f,lineterminator='\\n')\n",
    "    writer.writerows(my_data)"
   ]
  },
  {
   "cell_type": "code",
   "execution_count": 9,
   "metadata": {},
   "outputs": [],
   "source": [
    "with open(os.path.join(TEMP_DIR, \"temp_SCSV.csv\"),'w') as f:\n",
    "    writer = csv.writer(f,lineterminator='\\n',delimiter=';')\n",
    "    writer.writerows(my_data)"
   ]
  },
  {
   "cell_type": "code",
   "execution_count": 10,
   "metadata": {},
   "outputs": [],
   "source": [
    "with open(os.path.join(TEMP_DIR, \"temp_TSV.csv\"),'w') as f:\n",
    "    writer = csv.writer(f,lineterminator='\\n',delimiter='\\t')\n",
    "    writer.writerows(my_data)"
   ]
  },
  {
   "attachments": {},
   "cell_type": "markdown",
   "metadata": {},
   "source": [
    "## Чтение из CSV-файла"
   ]
  },
  {
   "cell_type": "code",
   "execution_count": 11,
   "metadata": {},
   "outputs": [
    {
     "name": "stdout",
     "output_type": "stream",
     "text": [
      "['Фамилия', 'Имя', 'Возраст']\n",
      "['Иванов', 'Иван', '25']\n",
      "['Петров', 'Петя', '18']\n"
     ]
    }
   ],
   "source": [
    "with open(os.path.join(TEMP_DIR, \"temp_CSV.csv\")) as f:\n",
    "    reader = csv.reader(f)\n",
    "    for line in reader:\n",
    "        print(line)"
   ]
  },
  {
   "cell_type": "code",
   "execution_count": 12,
   "metadata": {},
   "outputs": [
    {
     "name": "stdout",
     "output_type": "stream",
     "text": [
      "{'Фамилия': 'Иванов', 'Имя': 'Иван', 'Возраст': '25'}\n",
      "{'Фамилия': 'Петров', 'Имя': 'Петя', 'Возраст': '18'}\n"
     ]
    }
   ],
   "source": [
    "with open(os.path.join(TEMP_DIR, \"temp_CSV.csv\")) as f:\n",
    "    reader = csv.DictReader(f)\n",
    "    for line in reader:\n",
    "        print(line)"
   ]
  },
  {
   "attachments": {},
   "cell_type": "markdown",
   "metadata": {},
   "source": [
    "# HW:\n",
    "- добавить еще своих примеров работы с CSV\n",
    "- определить диалект файла, найти знак разделитель"
   ]
  }
 ],
 "metadata": {
  "kernelspec": {
   "display_name": "Python 3",
   "language": "python",
   "name": "python3"
  },
  "language_info": {
   "codemirror_mode": {
    "name": "ipython",
    "version": 3
   },
   "file_extension": ".py",
   "mimetype": "text/x-python",
   "name": "python",
   "nbconvert_exporter": "python",
   "pygments_lexer": "ipython3",
   "version": "3.9.6"
  },
  "orig_nbformat": 4,
  "vscode": {
   "interpreter": {
    "hash": "0d591c6e422414675974e227c13f5382000c440fedd3c5006ef2be5d887f0ba7"
   }
  }
 },
 "nbformat": 4,
 "nbformat_minor": 2
}
