{
 "cells": [
  {
   "attachments": {},
   "cell_type": "markdown",
   "metadata": {},
   "source": [
    "# Загрузка файлов из интернета"
   ]
  },
  {
   "cell_type": "code",
   "execution_count": 1,
   "metadata": {},
   "outputs": [
    {
     "data": {
      "text/plain": [
       "'temp_download\\\\temp_file.tmp'"
      ]
     },
     "execution_count": 1,
     "metadata": {},
     "output_type": "execute_result"
    }
   ],
   "source": [
    "import os \n",
    "\n",
    "# временный каталог\n",
    "TEMP_DIR = 'temp_download'\n",
    "\n",
    "if not os.path.exists(TEMP_DIR):\n",
    "    os.mkdir(TEMP_DIR)\n",
    "\n",
    "# Пример использования    \n",
    "os.path.join(TEMP_DIR, \"temp_file.tmp\")"
   ]
  },
  {
   "cell_type": "code",
   "execution_count": 2,
   "metadata": {},
   "outputs": [
    {
     "data": {
      "text/plain": [
       "'c:\\\\Универ\\\\Современные технологии программирования\\\\питон\\\\mp_2022_224-322_python\\\\temp_download'"
      ]
     },
     "execution_count": 2,
     "metadata": {},
     "output_type": "execute_result"
    }
   ],
   "source": [
    "os.path.abspath(TEMP_DIR)"
   ]
  },
  {
   "attachments": {},
   "cell_type": "markdown",
   "metadata": {},
   "source": [
    "## urllib - открыть или загрузить файлы через HTTP"
   ]
  },
  {
   "cell_type": "code",
   "execution_count": 3,
   "metadata": {},
   "outputs": [],
   "source": [
    "import urllib.request"
   ]
  },
  {
   "cell_type": "code",
   "execution_count": 6,
   "metadata": {},
   "outputs": [
    {
     "data": {
      "text/plain": [
       "('temp_download\\\\python-logo-master-v3-TM-flattened (urllib).png',\n",
       " <http.client.HTTPMessage at 0x15d6a225ee0>)"
      ]
     },
     "execution_count": 6,
     "metadata": {},
     "output_type": "execute_result"
    }
   ],
   "source": [
    "url = 'https://www.python.org/static/community_logos/python-logo-master-v3-TM-flattened.png'\n",
    "filename = os.path.join(TEMP_DIR, 'python-logo-master-v3-TM-flattened (urllib).png')\n",
    "urllib.request.urlretrieve(url, filename)"
   ]
  },
  {
   "attachments": {},
   "cell_type": "markdown",
   "metadata": {},
   "source": [
    "## requests - загрузить файл через GET\n",
    "\n",
    "* pip install requests"
   ]
  },
  {
   "cell_type": "code",
   "execution_count": 7,
   "metadata": {},
   "outputs": [],
   "source": [
    "import requests"
   ]
  },
  {
   "cell_type": "code",
   "execution_count": 13,
   "metadata": {},
   "outputs": [
    {
     "name": "stdout",
     "output_type": "stream",
     "text": [
      "200\n",
      "None\n",
      "https://www.python.org/static/community_logos/python-logo-master-v3-TM-flattened.png\n",
      "True\n",
      "{'Connection': 'keep-alive', 'Content-Length': '11155', 'Server': 'nginx', 'Content-Type': 'image/png', 'Last-Modified': 'Thu, 08 Dec 2022 18:59:48 GMT', 'Etag': '\"63923424-2b93\"', 'Cache-Control': 'max-age=604800, public', 'Via': '1.1 vegur, 1.1 varnish, 1.1 varnish', 'Accept-Ranges': 'bytes', 'Date': 'Tue, 20 Dec 2022 12:42:18 GMT', 'Age': '536798', 'X-Served-By': 'cache-iad-kcgs7200060-IAD, cache-lin2290026-LIN', 'X-Cache': 'HIT, HIT', 'X-Cache-Hits': '29, 1', 'X-Timer': 'S1671540139.711873,VS0,VE2', 'Strict-Transport-Security': 'max-age=63072000; includeSubDomains'}\n"
     ]
    }
   ],
   "source": [
    "url = 'https://www.python.org/static/community_logos/python-logo-master-v3-TM-flattened.png'\n",
    "filename = os.path.join(TEMP_DIR, 'python-logo-master-v3-TM-flattened (requests).png')\n",
    "\n",
    "r = requests.get(url)\n",
    "print(r.status_code)\n",
    "print(r.encoding)\n",
    "print(r.url)\n",
    "print(r.ok)\n",
    "print(r.headers)\n",
    "\n",
    "with open(filename, mode = 'wb') as f:\n",
    "    f.write(r.content)"
   ]
  },
  {
   "attachments": {},
   "cell_type": "markdown",
   "metadata": {},
   "source": [
    "## wget - загрузить файл по URL\n",
    "\n",
    "- pip install wget"
   ]
  },
  {
   "cell_type": "code",
   "execution_count": 14,
   "metadata": {},
   "outputs": [],
   "source": [
    "import wget"
   ]
  },
  {
   "cell_type": "code",
   "execution_count": 15,
   "metadata": {},
   "outputs": [
    {
     "data": {
      "text/plain": [
       "'temp_download/python-logo-master-v3-TM-flattened.png'"
      ]
     },
     "execution_count": 15,
     "metadata": {},
     "output_type": "execute_result"
    }
   ],
   "source": [
    "url = 'https://www.python.org/static/community_logos/python-logo-master-v3-TM-flattened.png'\n",
    "filename = os.path.join(TEMP_DIR, 'python-logo-master-v3-TM-flattened (wget).png')\n",
    "\n",
    "wget.download(url,TEMP_DIR)"
   ]
  },
  {
   "cell_type": "code",
   "execution_count": null,
   "metadata": {},
   "outputs": [],
   "source": [
    "song_url = 'http://www.futurecrew.com/skaven/song_files/mp3/'\n"
   ]
  },
  {
   "attachments": {},
   "cell_type": "markdown",
   "metadata": {},
   "source": [
    "# HW\n",
    "- скачать сразу несколько файлов по маске из http://www.futurecrew.com/skaven/song_files/mp3/\n",
    "- скачать файл из интернета с сохранением его метаданных\n",
    "- другие файлы: doc и т.п."
   ]
  }
 ],
 "metadata": {
  "kernelspec": {
   "display_name": "Python 3",
   "language": "python",
   "name": "python3"
  },
  "language_info": {
   "codemirror_mode": {
    "name": "ipython",
    "version": 3
   },
   "file_extension": ".py",
   "mimetype": "text/x-python",
   "name": "python",
   "nbconvert_exporter": "python",
   "pygments_lexer": "ipython3",
   "version": "3.9.6"
  },
  "orig_nbformat": 4,
  "vscode": {
   "interpreter": {
    "hash": "0d591c6e422414675974e227c13f5382000c440fedd3c5006ef2be5d887f0ba7"
   }
  }
 },
 "nbformat": 4,
 "nbformat_minor": 2
}
