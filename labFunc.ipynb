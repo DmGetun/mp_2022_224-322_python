{
 "cells": [
  {
   "cell_type": "markdown",
   "metadata": {},
   "source": [
    "# Именные функции, инструкция def\n",
    "\n",
    "* Сигнатура функции\n",
    "* Тело функции\n",
    "* параметры функции\n",
    "* Аргументы функции\n",
    "  * Позиционные аргументы\n",
    "  * Именованные аргументы [name=...]\n",
    "  * Произвольное количество аргументов [*]\n",
    "  * Произвольное количество именованных аргументов [**]"
   ]
  },
  {
   "cell_type": "code",
   "execution_count": 1,
   "metadata": {},
   "outputs": [
    {
     "name": "stdout",
     "output_type": "stream",
     "text": [
      "Маша\n"
     ]
    }
   ],
   "source": [
    "def show_name():\n",
    "    print('Маша')\n",
    "    \n",
    "show_name()"
   ]
  },
  {
   "cell_type": "code",
   "execution_count": 2,
   "metadata": {},
   "outputs": [
    {
     "name": "stdout",
     "output_type": "stream",
     "text": [
      "Юра\n"
     ]
    }
   ],
   "source": [
    "def get_name():\n",
    "    return \"Юра\"\n",
    "\n",
    "r = get_name()\n",
    "print(r)"
   ]
  },
  {
   "cell_type": "code",
   "execution_count": 4,
   "metadata": {},
   "outputs": [
    {
     "name": "stdout",
     "output_type": "stream",
     "text": [
      "None\n",
      "r is None\n"
     ]
    }
   ],
   "source": [
    "def do_nothing():\n",
    "    return None\n",
    "\n",
    "r = do_nothing()\n",
    "print(r)\n",
    "if r is None:\n",
    "    print(\"r is None\")"
   ]
  },
  {
   "cell_type": "code",
   "execution_count": 6,
   "metadata": {},
   "outputs": [
    {
     "name": "stdout",
     "output_type": "stream",
     "text": [
      "None\n"
     ]
    }
   ],
   "source": [
    "def do_nothing():\n",
    "    pass\n",
    "\n",
    "r = do_nothing()\n",
    "print(r)"
   ]
  },
  {
   "cell_type": "code",
   "execution_count": 9,
   "metadata": {},
   "outputs": [
    {
     "name": "stdout",
     "output_type": "stream",
     "text": [
      "30\n",
      "1020\n"
     ]
    }
   ],
   "source": [
    "def sum1(a, b):\n",
    "    return a + b\n",
    "\n",
    "print(sum1(10,20))\n",
    "print(sum1('10','20'))"
   ]
  },
  {
   "cell_type": "code",
   "execution_count": 14,
   "metadata": {},
   "outputs": [
    {
     "name": "stdout",
     "output_type": "stream",
     "text": [
      "30\n",
      "30\n"
     ]
    }
   ],
   "source": [
    "# Помним: Именованные аргументы только в конце\n",
    "print(sum1(b=20, a=10))\n",
    "print(sum1(10, b=20))"
   ]
  },
  {
   "cell_type": "code",
   "execution_count": 15,
   "metadata": {},
   "outputs": [
    {
     "name": "stdout",
     "output_type": "stream",
     "text": [
      "8\n",
      "3\n"
     ]
    }
   ],
   "source": [
    "# Помним: Параметры по умолчанию только в конце\n",
    "def sum2(a, b, c = 5):\n",
    "    return a + b + c\n",
    "\n",
    "print(sum2(1,2))\n",
    "print(sum2(1,2,0))"
   ]
  },
  {
   "cell_type": "code",
   "execution_count": 17,
   "metadata": {},
   "outputs": [
    {
     "name": "stdout",
     "output_type": "stream",
     "text": [
      "(1, 2, 3, 'Привет', [1, 2, 3], 3.14)\n"
     ]
    }
   ],
   "source": [
    "def show_params_1(*args):\n",
    "    print(args)\n",
    "    \n",
    "show_params_1(1,2,3,'Привет',[1,2,3],3.14)"
   ]
  },
  {
   "cell_type": "code",
   "execution_count": 18,
   "metadata": {},
   "outputs": [
    {
     "name": "stdout",
     "output_type": "stream",
     "text": [
      "1 2\n",
      "(3, 'Привет', [1, 2, 3], 3.14)\n"
     ]
    }
   ],
   "source": [
    "def show_params_1(a,b,*args):\n",
    "    print(a,b)\n",
    "    print(args)\n",
    "    \n",
    "show_params_1(1,2,3,'Привет',[1,2,3],3.14)"
   ]
  },
  {
   "cell_type": "code",
   "execution_count": 19,
   "metadata": {},
   "outputs": [
    {
     "name": "stdout",
     "output_type": "stream",
     "text": [
      "{'a': 1, 'b': 333, 'c': 'Привет'}\n"
     ]
    }
   ],
   "source": [
    "# args - сокращение от \"arguments\" (аргументы)\n",
    "# kwargs - сокращение от \"keywords arguments\" (именованные аргументы)\n",
    "def show_params_2(**kwargs):\n",
    "    print(kwargs)\n",
    "    \n",
    "show_params_2(a=1, b=333, c=\"Привет\")"
   ]
  },
  {
   "cell_type": "code",
   "execution_count": 22,
   "metadata": {},
   "outputs": [
    {
     "data": {
      "text/plain": [
       "40"
      ]
     },
     "execution_count": 22,
     "metadata": {},
     "output_type": "execute_result"
    }
   ],
   "source": [
    "# Аннотация типов (подсказка для программиста)\n",
    "\n",
    "def sum3(a: int, b: int) -> int:\n",
    "    return a + b\n",
    "\n",
    "sum3(10,30)"
   ]
  }
 ],
 "metadata": {
  "kernelspec": {
   "display_name": "Python 3.9.6 64-bit",
   "language": "python",
   "name": "python3"
  },
  "language_info": {
   "codemirror_mode": {
    "name": "ipython",
    "version": 3
   },
   "file_extension": ".py",
   "mimetype": "text/x-python",
   "name": "python",
   "nbconvert_exporter": "python",
   "pygments_lexer": "ipython3",
   "version": "3.9.6"
  },
  "orig_nbformat": 4,
  "vscode": {
   "interpreter": {
    "hash": "0d591c6e422414675974e227c13f5382000c440fedd3c5006ef2be5d887f0ba7"
   }
  }
 },
 "nbformat": 4,
 "nbformat_minor": 2
}
