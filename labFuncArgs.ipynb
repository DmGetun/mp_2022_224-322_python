{
 "cells": [
  {
   "cell_type": "markdown",
   "metadata": {},
   "source": [
    "# Аргументы функции (args)\n",
    "\n",
    "Способы:\n",
    "* неизменяемые объекты передаются \"по значению\"\n",
    "* изменяемые объекты передаются \"по ссылке\"\n",
    "\n",
    "Помним, про типы:\n",
    "* неизменяемые объекты (int, float, str, tuple, ...)\n",
    "* изменяемые объекты (list, set, dict, ...)"
   ]
  },
  {
   "cell_type": "code",
   "execution_count": 4,
   "metadata": {},
   "outputs": [
    {
     "name": "stdout",
     "output_type": "stream",
     "text": [
      "show_int: x=111\n",
      "x=1\n"
     ]
    }
   ],
   "source": [
    "# по значению\n",
    "\n",
    "def show_int(x):\n",
    "    x = 111\n",
    "    print(f\"show_int: {x=}\")\n",
    "    \n",
    "x = 1\n",
    "show_int(x)\n",
    "print(f\"{x=}\")"
   ]
  },
  {
   "cell_type": "code",
   "execution_count": 8,
   "metadata": {},
   "outputs": [
    {
     "name": "stdout",
     "output_type": "stream",
     "text": [
      "show_list: ['Тула', 'Москва']\n",
      "cities=['Тула', 'Москва']\n"
     ]
    }
   ],
   "source": [
    "# по ссылке\n",
    "\n",
    "def show_list(cities_: list):\n",
    "    cities.append(\"Москва\")\n",
    "    print(f\"show_list: {cities_}\")\n",
    "    \n",
    "cities = [\"Тула\"]\n",
    "show_list(cities)\n",
    "print(f\"{cities=}\")"
   ]
  },
  {
   "cell_type": "code",
   "execution_count": 9,
   "metadata": {},
   "outputs": [
    {
     "name": "stdout",
     "output_type": "stream",
     "text": [
      "show_list: ['Тула']\n",
      "cities=['Тула', 'Москва']\n"
     ]
    }
   ],
   "source": [
    "cities = [\"Тула\"]\n",
    "show_list(cities[:])\n",
    "print(f\"{cities=}\")"
   ]
  },
  {
   "cell_type": "code",
   "execution_count": 14,
   "metadata": {},
   "outputs": [
    {
     "name": "stdout",
     "output_type": "stream",
     "text": [
      "show_list: ['Тула', 'Москва']\n",
      "cities=['Тула']\n"
     ]
    }
   ],
   "source": [
    "def show_list_v2(cities_: list):\n",
    "    cities_local = cities_[:]\n",
    "    cities_local.append(\"Москва\")\n",
    "    print(f\"show_list: {cities_local}\")\n",
    "    \n",
    "cities = [\"Тула\"]\n",
    "show_list_v2(cities)\n",
    "print(f\"{cities=}\")"
   ]
  },
  {
   "cell_type": "code",
   "execution_count": 12,
   "metadata": {},
   "outputs": [
    {
     "name": "stdout",
     "output_type": "stream",
     "text": [
      "2519719135680\n",
      "2519719135680\n",
      "2519591512368\n",
      "2519591512400\n"
     ]
    }
   ],
   "source": []
  }
 ],
 "metadata": {
  "kernelspec": {
   "display_name": "Python 3.9.6 64-bit",
   "language": "python",
   "name": "python3"
  },
  "language_info": {
   "codemirror_mode": {
    "name": "ipython",
    "version": 3
   },
   "file_extension": ".py",
   "mimetype": "text/x-python",
   "name": "python",
   "nbconvert_exporter": "python",
   "pygments_lexer": "ipython3",
   "version": "3.9.6"
  },
  "orig_nbformat": 4,
  "vscode": {
   "interpreter": {
    "hash": "0d591c6e422414675974e227c13f5382000c440fedd3c5006ef2be5d887f0ba7"
   }
  }
 },
 "nbformat": 4,
 "nbformat_minor": 2
}
