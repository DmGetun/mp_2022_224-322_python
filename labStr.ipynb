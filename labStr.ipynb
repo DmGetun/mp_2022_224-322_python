{
 "cells": [
  {
   "cell_type": "markdown",
   "metadata": {},
   "source": [
    "# Строка (str)\n",
    "\n",
    "Строка (str) - встроенный неизменяемый тип данных, который предоставляет последовательность символов"
   ]
  },
  {
   "cell_type": "code",
   "execution_count": 8,
   "metadata": {},
   "outputs": [
    {
     "name": "stdout",
     "output_type": "stream",
     "text": [
      "Visual studio codeVisual studio codeVisual studio code\n",
      "HiHiHi\n",
      "18\n"
     ]
    }
   ],
   "source": [
    "s = \"Visual studio code\"\n",
    "print(s * 3)\n",
    "print(\"Hi\" * 3)\n",
    "print(len(s))"
   ]
  },
  {
   "cell_type": "code",
   "execution_count": 10,
   "metadata": {},
   "outputs": [
    {
     "name": "stdout",
     "output_type": "stream",
     "text": [
      "VISUAL STUDIO CODE\n",
      "visual studio code\n",
      "Visual Studio Code\n",
      "vISUAL STUDIO CODE\n",
      "Visual studio code\n",
      "......Visual studio code......\n",
      "Visual studio code............\n",
      "............Visual studio code\n",
      "000000000000Visual studio code\n"
     ]
    }
   ],
   "source": [
    "print(s.upper())\n",
    "print(s.lower())\n",
    "print(s.lower().title())\n",
    "print(s.swapcase())\n",
    "print(s.capitalize())\n",
    "print(s.center(30, '.'))\n",
    "print(s.ljust(30, '.'))\n",
    "print(s.rjust(30, '.'))\n",
    "print(s.zfill(30))"
   ]
  },
  {
   "cell_type": "code",
   "execution_count": 17,
   "metadata": {},
   "outputs": [
    {
     "name": "stdout",
     "output_type": "stream",
     "text": [
      "2\n",
      "6\n",
      "-1\n",
      "13\n",
      "True\n",
      "False\n"
     ]
    }
   ],
   "source": [
    "print(s.count(' '))\n",
    "print(s.index(' ')) # если не найдено то error\n",
    "print(s.find('ы')) # если не найдено то -1\n",
    "print(s.rfind(' ')) # если не найдено то -1\n",
    "print(s.startswith('Vi'))\n",
    "print(s.endswith('Code'))"
   ]
  },
  {
   "cell_type": "code",
   "execution_count": 13,
   "metadata": {},
   "outputs": [
    {
     "name": "stdout",
     "output_type": "stream",
     "text": [
      "2\n"
     ]
    },
    {
     "ename": "ValueError",
     "evalue": "substring not found",
     "output_type": "error",
     "traceback": [
      "\u001b[1;31m---------------------------------------------------------------------------\u001b[0m",
      "\u001b[1;31mValueError\u001b[0m                                Traceback (most recent call last)",
      "Cell \u001b[1;32mIn [13], line 2\u001b[0m\n\u001b[0;32m      1\u001b[0m \u001b[39mprint\u001b[39m(s\u001b[39m.\u001b[39mcount(\u001b[39m'\u001b[39m\u001b[39m \u001b[39m\u001b[39m'\u001b[39m))\n\u001b[1;32m----> 2\u001b[0m \u001b[39mprint\u001b[39m(s\u001b[39m.\u001b[39;49mindex(\u001b[39m'\u001b[39;49m\u001b[39mы\u001b[39;49m\u001b[39m'\u001b[39;49m))\n\u001b[0;32m      3\u001b[0m \u001b[39mprint\u001b[39m(s\u001b[39m.\u001b[39mfind(\u001b[39m'\u001b[39m\u001b[39mы\u001b[39m\u001b[39m'\u001b[39m))\n",
      "\u001b[1;31mValueError\u001b[0m: substring not found"
     ]
    }
   ],
   "source": [
    "print(s.count(' '))\n",
    "print(s.index('ы'))\n",
    "print(s.find('ы'))"
   ]
  },
  {
   "cell_type": "code",
   "execution_count": 20,
   "metadata": {},
   "outputs": [
    {
     "name": "stdout",
     "output_type": "stream",
     "text": [
      "True\n",
      "False\n",
      "False\n"
     ]
    }
   ],
   "source": [
    "print('Qwerty123'.isalnum()) # True если цифры или буквы\n",
    "print('Qwerty123'.isalpha()) # True если буквы\n",
    "print('Qwerty123'.isdigit()) # True если цифры"
   ]
  },
  {
   "cell_type": "code",
   "execution_count": 21,
   "metadata": {},
   "outputs": [
    {
     "name": "stdout",
     "output_type": "stream",
     "text": [
      "('Vis', 'u', 'al studio code')\n",
      "('denis4hw', '@', 'gmail.com')\n"
     ]
    }
   ],
   "source": [
    "print(s.partition('u'))\n",
    "print('denis4hw@gmail.com'.partition('@'))"
   ]
  },
  {
   "cell_type": "code",
   "execution_count": 22,
   "metadata": {},
   "outputs": [
    {
     "name": "stdout",
     "output_type": "stream",
     "text": [
      "['Visual', 'studio', 'code']\n",
      "['Visual studio code']\n",
      "Visual___studio___code\n"
     ]
    }
   ],
   "source": [
    "print(s.split())\n",
    "print(s.splitlines())\n",
    "print(s.replace(\" \", '___'))"
   ]
  },
  {
   "cell_type": "code",
   "execution_count": 24,
   "metadata": {},
   "outputs": [
    {
     "name": "stdout",
     "output_type": "stream",
     "text": [
      "True\n",
      "False\n"
     ]
    }
   ],
   "source": [
    "print(\"studio\" in s)\n",
    "print(\"studio\" not in s)"
   ]
  },
  {
   "cell_type": "code",
   "execution_count": 25,
   "metadata": {},
   "outputs": [
    {
     "name": "stdout",
     "output_type": "stream",
     "text": [
      "V\n",
      "i\n",
      "e\n",
      "d\n"
     ]
    }
   ],
   "source": [
    "# [ индекс ] - получить значение элемента(символ) по индексу\n",
    "print(s[0])\n",
    "print(s[1])\n",
    "print(s[-1])\n",
    "print(s[-2])"
   ]
  },
  {
   "cell_type": "code",
   "execution_count": 30,
   "metadata": {},
   "outputs": [
    {
     "name": "stdout",
     "output_type": "stream",
     "text": [
      "Visual studio code\n",
      "sual studio code\n",
      "isua\n",
      "Visual studio c\n",
      "de\n"
     ]
    }
   ],
   "source": [
    "# [ start : end ] - получить срез (slice)\n",
    "print(s[:])\n",
    "print(s[2:])\n",
    "print(s[1:5])\n",
    "print(s[:-3])\n",
    "print(s[-2:])"
   ]
  },
  {
   "cell_type": "code",
   "execution_count": 32,
   "metadata": {},
   "outputs": [
    {
     "name": "stdout",
     "output_type": "stream",
     "text": [
      "Visual studio code\n",
      "Vsa tdocd\n",
      "edoc oiduts lausiV\n"
     ]
    }
   ],
   "source": [
    "# [start : end : step] - получить срез (slice) с заданным шагом\n",
    "print(s[::])\n",
    "print(s[::2])\n",
    "print(s[::-1])"
   ]
  },
  {
   "cell_type": "code",
   "execution_count": 34,
   "metadata": {},
   "outputs": [
    {
     "name": "stdout",
     "output_type": "stream",
     "text": [
      "       Python          \n",
      "Python          \n",
      "       Python\n",
      "Python\n"
     ]
    }
   ],
   "source": [
    "s = \"       Python          \"\n",
    "print(s)\n",
    "print(s.lstrip())\n",
    "print(s.rstrip())\n",
    "print(s.strip())"
   ]
  },
  {
   "cell_type": "code",
   "execution_count": 35,
   "metadata": {},
   "outputs": [
    {
     "name": "stdout",
     "output_type": "stream",
     "text": [
      "Мир Труд Май\n",
      "Мир, Труд, Май\n"
     ]
    }
   ],
   "source": [
    "print(\" \".join([\"Мир\",\"Труд\",\"Май\"]))\n",
    "print(\", \".join([\"Мир\",\"Труд\",\"Май\"]))"
   ]
  },
  {
   "cell_type": "code",
   "execution_count": 1,
   "metadata": {},
   "outputs": [
    {
     "name": "stdout",
     "output_type": "stream",
     "text": [
      "V i s u a l s t u d i o c o d e\n"
     ]
    }
   ],
   "source": [
    "s = \"Visual studio code\"\n",
    "print(*filter(str.isalpha,s))"
   ]
  },
  {
   "cell_type": "code",
   "execution_count": 2,
   "metadata": {},
   "outputs": [
    {
     "name": "stdout",
     "output_type": "stream",
     "text": [
      "['Visual', 'studio', 'code']\n"
     ]
    }
   ],
   "source": [
    "print(s.split())"
   ]
  },
  {
   "cell_type": "code",
   "execution_count": 3,
   "metadata": {},
   "outputs": [
    {
     "data": {
      "text/plain": [
       "'string'"
      ]
     },
     "execution_count": 3,
     "metadata": {},
     "output_type": "execute_result"
    }
   ],
   "source": [
    "s = \"stringBCCA\"\n",
    "s.rstrip(\"ABC\")"
   ]
  },
  {
   "cell_type": "code",
   "execution_count": 6,
   "metadata": {},
   "outputs": [
    {
     "ename": "SyntaxError",
     "evalue": "invalid syntax (220842231.py, line 13)",
     "output_type": "error",
     "traceback": [
      "\u001b[1;36m  Cell \u001b[1;32mIn [6], line 13\u001b[1;36m\u001b[0m\n\u001b[1;33m    else\u001b[0m\n\u001b[1;37m        ^\u001b[0m\n\u001b[1;31mSyntaxError\u001b[0m\u001b[1;31m:\u001b[0m invalid syntax\n"
     ]
    }
   ],
   "source": [
    "symbols = ('а', 'б', 'в')\n",
    "N = int(input())\n",
    "lst = []\n",
    "for i in range(N):\n",
    "    lst.append(input())\n",
    "counter = 0\n",
    "for word in lst:\n",
    "    if word.startswith(symbols):\n",
    "        counter += 1\n",
    "\n",
    "if counter == len(lst): \n",
    "    print('YES')\n",
    "else: \n",
    "    print('NO')"
   ]
  },
  {
   "cell_type": "code",
   "execution_count": 10,
   "metadata": {},
   "outputs": [
    {
     "name": "stdout",
     "output_type": "stream",
     "text": [
      "Завтра Новый год!........\n"
     ]
    }
   ],
   "source": [
    "L = 25\n",
    "N = 3\n",
    "titles = [input() for i in range(N)]\n",
    "result = []\n",
    "for title in titles:\n",
    "    if len(title) >= L:\n",
    "        result.append(title[:L - 3].ljust(L, '.'))\n",
    "    else:\n",
    "        result.append(title)\n",
    "print(*result, sep='\\n')"
   ]
  },
  {
   "cell_type": "code",
   "execution_count": 12,
   "metadata": {},
   "outputs": [
    {
     "name": "stdout",
     "output_type": "stream",
     "text": [
      "First Message\n",
      "Second Message\n",
      "@@@Third Message##\n",
      "Fourth Message\n"
     ]
    }
   ],
   "source": [
    "lst = ['First Message','##Second Message','@@@Third Message##','##Fourth Message@@@']\n",
    "result = []\n",
    "for word in lst:\n",
    "    word = word.rstrip('@')\n",
    "    word = word.lstrip('#')\n",
    "    print(word)"
   ]
  }
 ],
 "metadata": {
  "kernelspec": {
   "display_name": "Python 3.9.6 64-bit",
   "language": "python",
   "name": "python3"
  },
  "language_info": {
   "codemirror_mode": {
    "name": "ipython",
    "version": 3
   },
   "file_extension": ".py",
   "mimetype": "text/x-python",
   "name": "python",
   "nbconvert_exporter": "python",
   "pygments_lexer": "ipython3",
   "version": "3.9.6"
  },
  "orig_nbformat": 4,
  "vscode": {
   "interpreter": {
    "hash": "0d591c6e422414675974e227c13f5382000c440fedd3c5006ef2be5d887f0ba7"
   }
  }
 },
 "nbformat": 4,
 "nbformat_minor": 2
}
