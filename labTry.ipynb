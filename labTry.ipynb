{
 "cells": [
  {
   "cell_type": "markdown",
   "metadata": {},
   "source": [
    "# Обработка исключений\n",
    "\n",
    "Два типа ошибок:\n",
    "* `синтаксические ошибки` (syntax error)\n",
    "* `ошибки выполнения` (runtime error)"
   ]
  },
  {
   "cell_type": "code",
   "execution_count": 2,
   "metadata": {},
   "outputs": [
    {
     "ename": "ValueError",
     "evalue": "invalid literal for int() with base 10: '123aa'",
     "output_type": "error",
     "traceback": [
      "\u001b[1;31m---------------------------------------------------------------------------\u001b[0m",
      "\u001b[1;31mValueError\u001b[0m                                Traceback (most recent call last)",
      "Cell \u001b[1;32mIn [2], line 2\u001b[0m\n\u001b[0;32m      1\u001b[0m x \u001b[39m=\u001b[39m \u001b[39m'\u001b[39m\u001b[39m123aa\u001b[39m\u001b[39m'\u001b[39m\n\u001b[1;32m----> 2\u001b[0m x \u001b[39m=\u001b[39m \u001b[39mint\u001b[39;49m(x)\n\u001b[0;32m      3\u001b[0m \u001b[39mprint\u001b[39m(\u001b[39mtype\u001b[39m(x))\n",
      "\u001b[1;31mValueError\u001b[0m: invalid literal for int() with base 10: '123aa'"
     ]
    }
   ],
   "source": [
    "x = '123aa'\n",
    "x = int(x)\n",
    "print(type(x))"
   ]
  },
  {
   "cell_type": "code",
   "execution_count": 4,
   "metadata": {},
   "outputs": [
    {
     "name": "stdout",
     "output_type": "stream",
     "text": [
      "Что-то пошло не так\n",
      "<class 'int'>\n"
     ]
    }
   ],
   "source": [
    "x = '123aa'\n",
    "try:\n",
    "    x = int(x)\n",
    "except:\n",
    "    print('Что-то пошло не так')\n",
    "    x = 0\n",
    "print(type(x))"
   ]
  },
  {
   "cell_type": "code",
   "execution_count": 8,
   "metadata": {},
   "outputs": [
    {
     "name": "stdout",
     "output_type": "stream",
     "text": [
      "Ошибка типа аргумента\n",
      "log: div_numbers\n",
      "None\n"
     ]
    }
   ],
   "source": [
    "def div_numbers(a: float, b: float) -> float:\n",
    "    try:\n",
    "        return a / b\n",
    "    except ZeroDivisionError:\n",
    "        print(\"Ошибка деления на 0\")\n",
    "    except TypeError:\n",
    "        print(\"Ошибка типа аргумента\")\n",
    "    finally:\n",
    "        print(\"log: div_numbers\")\n",
    "        \n",
    "        \n",
    "print(div_numbers(3,'aaa'))"
   ]
  }
 ],
 "metadata": {
  "kernelspec": {
   "display_name": "Python 3.9.6 64-bit",
   "language": "python",
   "name": "python3"
  },
  "language_info": {
   "codemirror_mode": {
    "name": "ipython",
    "version": 3
   },
   "file_extension": ".py",
   "mimetype": "text/x-python",
   "name": "python",
   "nbconvert_exporter": "python",
   "pygments_lexer": "ipython3",
   "version": "3.9.6 (tags/v3.9.6:db3ff76, Jun 28 2021, 15:26:21) [MSC v.1929 64 bit (AMD64)]"
  },
  "orig_nbformat": 4,
  "vscode": {
   "interpreter": {
    "hash": "0d591c6e422414675974e227c13f5382000c440fedd3c5006ef2be5d887f0ba7"
   }
  }
 },
 "nbformat": 4,
 "nbformat_minor": 2
}
