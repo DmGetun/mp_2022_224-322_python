{
 "cells": [
  {
   "cell_type": "markdown",
   "metadata": {},
   "source": [
    "# Типы данных\n",
    "\n",
    "Типы данных:\n",
    "* неизменяемые (immutable) [int,float, tuple, str, ...]\n",
    "* изменяемые (mutable) [list, set, dict, ...]"
   ]
  },
  {
   "cell_type": "code",
   "execution_count": 1,
   "metadata": {},
   "outputs": [
    {
     "name": "stdout",
     "output_type": "stream",
     "text": [
      "2852032244304\n",
      "<class 'int'>\n"
     ]
    }
   ],
   "source": [
    "# id() -> Вернуть идентификатор объекта в виде целого числа\n",
    "# type() -> Вернуть тип объекта\n",
    "\n",
    "a = 10\n",
    "print(id(a))\n",
    "print(type(a))"
   ]
  },
  {
   "cell_type": "code",
   "execution_count": 4,
   "metadata": {},
   "outputs": [
    {
     "name": "stdout",
     "output_type": "stream",
     "text": [
      "2852129960592\n",
      "2852129960592\n",
      "2852129960592\n",
      "2852032244784\n"
     ]
    }
   ],
   "source": [
    "a = 10\n",
    "b = a\n",
    "print(id(a))\n",
    "print(id(b))\n",
    "\n",
    "b = 25\n",
    "print(id(a))\n",
    "print(id(b))"
   ]
  },
  {
   "cell_type": "code",
   "execution_count": 6,
   "metadata": {},
   "outputs": [
    {
     "name": "stdout",
     "output_type": "stream",
     "text": [
      "2852129977264\n",
      "2852129977264\n",
      "2852129977264\n"
     ]
    }
   ],
   "source": [
    "a = \"Привет\"\n",
    "b = a\n",
    "c = a[:]\n",
    "print(id(a))\n",
    "print(id(b))\n",
    "print(id(c))"
   ]
  },
  {
   "cell_type": "code",
   "execution_count": 8,
   "metadata": {},
   "outputs": [
    {
     "name": "stdout",
     "output_type": "stream",
     "text": [
      "2852118884096\n",
      "2852118884096\n",
      "2852115264000\n",
      "[1, 2, 3, 5, 6]\n",
      "[1, 2, 3, 5, 6]\n",
      "[1, 2, 3, 7]\n",
      "2852118884096\n",
      "2852118884096\n",
      "2852115264000\n"
     ]
    }
   ],
   "source": [
    "a = [1, 2, 3]\n",
    "b = a\n",
    "c = a[:] # будет копия списка\n",
    "print(id(a))\n",
    "print(id(b))\n",
    "print(id(c))\n",
    "a.append(5)\n",
    "b.append(6)\n",
    "c.append(7)\n",
    "print(a)\n",
    "print(b)\n",
    "print(c)\n",
    "print(id(a))\n",
    "print(id(b))\n",
    "print(id(c))"
   ]
  }
 ],
 "metadata": {
  "kernelspec": {
   "display_name": "Python 3.9.6 64-bit",
   "language": "python",
   "name": "python3"
  },
  "language_info": {
   "codemirror_mode": {
    "name": "ipython",
    "version": 3
   },
   "file_extension": ".py",
   "mimetype": "text/x-python",
   "name": "python",
   "nbconvert_exporter": "python",
   "pygments_lexer": "ipython3",
   "version": "3.9.6"
  },
  "orig_nbformat": 4,
  "vscode": {
   "interpreter": {
    "hash": "0d591c6e422414675974e227c13f5382000c440fedd3c5006ef2be5d887f0ba7"
   }
  }
 },
 "nbformat": 4,
 "nbformat_minor": 2
}
